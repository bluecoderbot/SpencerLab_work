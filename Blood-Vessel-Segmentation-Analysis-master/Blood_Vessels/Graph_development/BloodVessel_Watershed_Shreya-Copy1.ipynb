{
 "cells": [
  {
   "cell_type": "code",
   "execution_count": 1,
   "metadata": {},
   "outputs": [
    {
     "name": "stderr",
     "output_type": "stream",
     "text": [
      "/Users/spencerlab/anaconda3/lib/python3.7/site-packages/matplotlib/__init__.py:855: MatplotlibDeprecationWarning: \n",
      "examples.directory is deprecated; in the future, examples will be found relative to the 'datapath' directory.\n",
      "  \"found relative to the 'datapath' directory.\".format(key))\n",
      "/Users/spencerlab/anaconda3/lib/python3.7/site-packages/matplotlib/__init__.py:846: MatplotlibDeprecationWarning: \n",
      "The text.latex.unicode rcparam was deprecated in Matplotlib 2.2 and will be removed in 3.1.\n",
      "  \"2.2\", name=key, obj_type=\"rcparam\", addendum=addendum)\n"
     ]
    }
   ],
   "source": [
    "import numpy as np\n",
    "import matplotlib.pyplot as plt\n",
    "from scipy import ndimage as ndi\n",
    "import pandas as pd\n",
    "\n",
    "\n",
    "from skimage.morphology import watershed\n",
    "from skimage.feature import peak_local_max\n",
    "from PIL import Image\n",
    "\n",
    "from skimage.morphology import skeletonize, thin, skeletonize_3d\n",
    "from skimage.util import invert\n",
    "from skimage import measure\n",
    "from skimage.morphology import erosion, dilation, opening, closing, white_tophat\n",
    "from skimage.morphology import black_tophat, skeletonize, convex_hull_image\n",
    "from skimage.morphology import disk\n",
    "from skimage import feature\n",
    "from skimage.filters import roberts, sobel, scharr, prewitt\n",
    "import seaborn as sns\n",
    "sns.reset_orig()\n",
    "\n",
    "from skimage import restoration\n",
    "\n",
    "from skimage import exposure\n",
    "from skimage.filters import gaussian\n",
    "\n",
    "from scipy import ndimage\n",
    "\n",
    "from time import time\n",
    "\n",
    "from skimage.color import rgb2gray\n",
    "\n",
    "\n",
    "from skimage.filters.rank import entropy\n",
    "import scipy\n",
    "\n",
    "\n",
    "\n",
    "import networkx as nx\n",
    "from scipy import interpolate\n",
    "\n",
    "from skimage.segmentation import random_walker\n",
    "from skimage.data import binary_blobs\n",
    "from skimage.exposure import rescale_intensity\n",
    "import glob\n",
    "\n",
    "from skimage.morphology import disk\n",
    "from skimage import io\n",
    "from skimage.morphology import remove_small_objects\n",
    "\n",
    "import threading\n",
    "\n",
    "import tifffile\n",
    "import csv"
   ]
  },
  {
   "cell_type": "code",
   "execution_count": 2,
   "metadata": {},
   "outputs": [],
   "source": [
    "def getNeighbors(arr):\n",
    "    \n",
    "    arr2 = (arr.copy())*0\n",
    "    \n",
    "    \n",
    "    #IN YZ PLANE\n",
    "    \n",
    "    #bottom front\n",
    "    arr2[:-1,:-1] += arr[1:,1:]\n",
    "    #bottom \n",
    "    arr2[:-1] += arr[1:]\n",
    "    #bottom back\n",
    "    arr2[:-1, 1:] += arr[1:, :-1]\n",
    "    \n",
    "    #top front\n",
    "    arr2[1:, :-1] += arr[:-1, 1:]\n",
    "    #top\n",
    "    arr2[1:] += arr[:-1]\n",
    "    #top back\n",
    "    arr2[1:, 1:] += arr[:-1, :-1]\n",
    "    \n",
    "    #front\n",
    "    arr2[:, :-1] += arr[:, 1:]\n",
    "    #back\n",
    "    arr2[:, 1:] += arr[:, :-1]\n",
    "    \n",
    "    \n",
    "    \n",
    "    #LEFT LEFT LEFT LEFT LEFT LEFT LEFT \n",
    "    #LEFT LEFT LEFT LEFT LEFT LEFT LEFT\n",
    "    #LEFT LEFT LEFT LEFT LEFT LEFT LEFT\n",
    "    \n",
    "    #bottom front\n",
    "    arr2[:-1,:-1, 1:] += arr[1:,1:, :-1]\n",
    "    #bottom \n",
    "    arr2[:-1, :, 1:] += arr[1:, :, :-1]\n",
    "    #bottom back\n",
    "    arr2[:-1, 1:, 1:] += arr[1:, :-1, :-1]\n",
    "    \n",
    "    #top front\n",
    "    arr2[1:, :-1, 1:] += arr[:-1, 1:, :-1]\n",
    "    #top\n",
    "    arr2[1:, :, 1:] += arr[:-1, :, :-1]\n",
    "    #top back\n",
    "    arr2[1:, 1:, 1:] += arr[:-1, :-1, :-1]\n",
    "    \n",
    "    #front\n",
    "    arr2[:, :-1, 1:] += arr[:, 1:, :-1]\n",
    "    #back\n",
    "    arr2[:, 1:, 1:] += arr[:, :-1, :-1]\n",
    "    \n",
    "    #just left \n",
    "    arr2[:, :, 1:] += arr[:, :, :-1]\n",
    "    \n",
    "    \n",
    "    \n",
    "    #RIGHT RIGHT RIGHT RIGHT RIGHT RIGHT\n",
    "    #RIGHT RIGHT RIGHT RIGHT RIGHT RIGHT\n",
    "    #RIGHT RIGHT RIGHT RIGHT RIGHT RIGHT\n",
    "    \n",
    "    #bottom front\n",
    "    arr2[:-1,:-1, :-1] += arr[1:,1:, 1:]\n",
    "    #bottom \n",
    "    arr2[:-1, :, :-1] += arr[1:, :, 1:]\n",
    "    #bottom back\n",
    "    arr2[:-1, 1:, :-1] += arr[1:, :-1, 1:]\n",
    "    \n",
    "    #top front\n",
    "    arr2[1:, :-1, :-1] += arr[:-1, 1:, 1:]\n",
    "    #top\n",
    "    arr2[1:, :, :-1] += arr[:-1, :, 1:]\n",
    "    #top back\n",
    "    arr2[1:, 1:, :-1] += arr[:-1, :-1, 1:]\n",
    "    \n",
    "    #front\n",
    "    arr2[:, :-1, :-1] += arr[:, 1:, 1:]\n",
    "    #back\n",
    "    arr2[:, 1:, :-1] += arr[:, :-1, 1:]\n",
    "    \n",
    "    \n",
    "    #just right \n",
    "    arr2[:, :, :-1] += arr[:, :, 1:]\n",
    "    \n",
    "    \n",
    "    \n",
    "    return arr2*(arr!=0)"
   ]
  },
  {
   "cell_type": "code",
   "execution_count": null,
   "metadata": {},
   "outputs": [],
   "source": [
    "segs = io.imread(\"/Users/spencerlab/Downloads/skel_Segs.tif\")\n",
    "segs = segs*(getNeighbors(segs!=0)>0) # gets rid of all single pixel segments\n",
    "nodes = io.imread(\"/Users/spencerlab/Downloads/skel_Nodes.tif\")\n",
    "blood_vessel = io.imread(\"/Users/spencerlab/Desktop/final_files/Day_3/#1/Blood_Vessel/Blood_vessel_day_3.tif\")"
   ]
  },
  {
   "cell_type": "code",
   "execution_count": null,
   "metadata": {},
   "outputs": [],
   "source": []
  },
  {
   "cell_type": "code",
   "execution_count": null,
   "metadata": {},
   "outputs": [],
   "source": [
    "image = blood_vessel!=0\n",
    "local_maxi = segs!=0"
   ]
  },
  {
   "cell_type": "code",
   "execution_count": null,
   "metadata": {},
   "outputs": [],
   "source": []
  },
  {
   "cell_type": "code",
   "execution_count": 5,
   "metadata": {},
   "outputs": [],
   "source": [
    "\n",
    "# Now we want to separate the two objects in image\n",
    "# Generate the markers as local maxima of the distance to the background\n",
    "distance = ndi.distance_transform_edt(image)"
   ]
  },
  {
   "cell_type": "code",
   "execution_count": null,
   "metadata": {},
   "outputs": [],
   "source": []
  },
  {
   "cell_type": "code",
   "execution_count": 6,
   "metadata": {},
   "outputs": [],
   "source": [
    "markers, nummarkers = ndi.label(local_maxi)"
   ]
  },
  {
   "cell_type": "code",
   "execution_count": 7,
   "metadata": {},
   "outputs": [],
   "source": [
    "labels = watershed(-distance, markers, mask=image)"
   ]
  },
  {
   "cell_type": "code",
   "execution_count": 13,
   "metadata": {},
   "outputs": [
    {
     "data": {
      "text/plain": [
       "(274, 2752, 3968)"
      ]
     },
     "execution_count": 13,
     "metadata": {},
     "output_type": "execute_result"
    }
   ],
   "source": [
    "distance.shape"
   ]
  },
  {
   "cell_type": "code",
   "execution_count": 24,
   "metadata": {},
   "outputs": [
    {
     "data": {
      "text/plain": [
       "<matplotlib.image.AxesImage at 0x2533b74438>"
      ]
     },
     "execution_count": 24,
     "metadata": {},
     "output_type": "execute_result"
    },
    {
     "data": {
      "image/png": "[encoded data removed]",
      "text/plain": [
       "<Figure size 1440x1440 with 1 Axes>"
      ]
     },
     "metadata": {
      "needs_background": "light"
     },
     "output_type": "display_data"
    }
   ],
   "source": [
    "plt.figure(figsize=(20,20))\n",
    "plt.imshow(labels[0])"
   ]
  },
  {
   "cell_type": "code",
   "execution_count": 15,
   "metadata": {},
   "outputs": [
    {
     "data": {
      "text/plain": [
       "array([    0,     1,     2, ..., 15748, 16507, 17271], dtype=int32)"
      ]
     },
     "execution_count": 15,
     "metadata": {},
     "output_type": "execute_result"
    }
   ],
   "source": [
    "np.unique(labels[0])"
   ]
  },
  {
   "cell_type": "code",
   "execution_count": 25,
   "metadata": {},
   "outputs": [],
   "source": [
    "samp = (labels[0]).astype('uint16')"
   ]
  },
  {
   "cell_type": "code",
   "execution_count": 27,
   "metadata": {},
   "outputs": [],
   "source": [
    "Image.fromarray(samp).save('labtif.tif')"
   ]
  },
  {
   "cell_type": "code",
   "execution_count": null,
   "metadata": {},
   "outputs": [],
   "source": []
  }
 ],
 "metadata": {
  "kernelspec": {
   "display_name": "Python 3",
   "language": "python",
   "name": "python3"
  },
  "language_info": {
   "codemirror_mode": {
    "name": "ipython",
    "version": 3
   },
   "file_extension": ".py",
   "mimetype": "text/x-python",
   "name": "python",
   "nbconvert_exporter": "python",
   "pygments_lexer": "ipython3",
   "version": "3.7.3"
  }
 },
 "nbformat": 4,
 "nbformat_minor": 2
}
