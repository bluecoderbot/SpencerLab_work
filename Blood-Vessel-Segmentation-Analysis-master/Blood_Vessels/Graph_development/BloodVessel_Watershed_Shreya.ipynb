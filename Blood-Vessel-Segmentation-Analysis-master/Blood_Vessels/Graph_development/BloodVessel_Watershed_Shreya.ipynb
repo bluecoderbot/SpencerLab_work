{
 "cells": [
  {
   "cell_type": "code",
   "execution_count": 1,
   "metadata": {},
   "outputs": [
    {
     "name": "stderr",
     "output_type": "stream",
     "text": [
      "/Users/spencerlab/anaconda3/lib/python3.7/site-packages/matplotlib/__init__.py:855: MatplotlibDeprecationWarning: \n",
      "examples.directory is deprecated; in the future, examples will be found relative to the 'datapath' directory.\n",
      "  \"found relative to the 'datapath' directory.\".format(key))\n",
      "/Users/spencerlab/anaconda3/lib/python3.7/site-packages/matplotlib/__init__.py:846: MatplotlibDeprecationWarning: \n",
      "The text.latex.unicode rcparam was deprecated in Matplotlib 2.2 and will be removed in 3.1.\n",
      "  \"2.2\", name=key, obj_type=\"rcparam\", addendum=addendum)\n"
     ]
    }
   ],
   "source": [
    "import numpy as np\n",
    "import matplotlib.pyplot as plt\n",
    "from scipy import ndimage as ndi\n",
    "import pandas as pd\n",
    "\n",
    "\n",
    "from skimage.morphology import watershed\n",
    "from skimage.feature import peak_local_max\n",
    "from PIL import Image\n",
    "\n",
    "from skimage.morphology import skeletonize, thin, skeletonize_3d\n",
    "from skimage.util import invert\n",
    "from skimage import measure\n",
    "from skimage.morphology import erosion, dilation, opening, closing, white_tophat\n",
    "from skimage.morphology import black_tophat, skeletonize, convex_hull_image\n",
    "from skimage.morphology import disk\n",
    "from skimage import feature\n",
    "from skimage.filters import roberts, sobel, scharr, prewitt\n",
    "import seaborn as sns\n",
    "sns.reset_orig()\n",
    "\n",
    "from skimage import restoration\n",
    "\n",
    "from skimage import exposure\n",
    "from skimage.filters import gaussian\n",
    "\n",
    "from scipy import ndimage\n",
    "\n",
    "from time import time\n",
    "\n",
    "from skimage.color import rgb2gray\n",
    "\n",
    "\n",
    "from skimage.filters.rank import entropy\n",
    "import scipy\n",
    "\n",
    "\n",
    "\n",
    "import networkx as nx\n",
    "from scipy import interpolate\n",
    "\n",
    "from skimage.segmentation import random_walker\n",
    "from skimage.data import binary_blobs\n",
    "from skimage.exposure import rescale_intensity\n",
    "import glob\n",
    "\n",
    "from skimage.morphology import disk\n",
    "from skimage import io\n",
    "from skimage.morphology import remove_small_objects\n",
    "\n",
    "import threading\n",
    "\n",
    "import tifffile\n",
    "import csv"
   ]
  },
  {
   "cell_type": "code",
   "execution_count": 2,
   "metadata": {},
   "outputs": [],
   "source": [
    "def getNeighbors(arr):\n",
    "    \n",
    "    arr2 = (arr.copy())*0\n",
    "    \n",
    "    \n",
    "    #IN YZ PLANE\n",
    "    \n",
    "    #bottom front\n",
    "    arr2[:-1,:-1] += arr[1:,1:]\n",
    "    #bottom \n",
    "    arr2[:-1] += arr[1:]\n",
    "    #bottom back\n",
    "    arr2[:-1, 1:] += arr[1:, :-1]\n",
    "    \n",
    "    #top front\n",
    "    arr2[1:, :-1] += arr[:-1, 1:]\n",
    "    #top\n",
    "    arr2[1:] += arr[:-1]\n",
    "    #top back\n",
    "    arr2[1:, 1:] += arr[:-1, :-1]\n",
    "    \n",
    "    #front\n",
    "    arr2[:, :-1] += arr[:, 1:]\n",
    "    #back\n",
    "    arr2[:, 1:] += arr[:, :-1]\n",
    "    \n",
    "    \n",
    "    \n",
    "    #LEFT LEFT LEFT LEFT LEFT LEFT LEFT \n",
    "    #LEFT LEFT LEFT LEFT LEFT LEFT LEFT\n",
    "    #LEFT LEFT LEFT LEFT LEFT LEFT LEFT\n",
    "    \n",
    "    #bottom front\n",
    "    arr2[:-1,:-1, 1:] += arr[1:,1:, :-1]\n",
    "    #bottom \n",
    "    arr2[:-1, :, 1:] += arr[1:, :, :-1]\n",
    "    #bottom back\n",
    "    arr2[:-1, 1:, 1:] += arr[1:, :-1, :-1]\n",
    "    \n",
    "    #top front\n",
    "    arr2[1:, :-1, 1:] += arr[:-1, 1:, :-1]\n",
    "    #top\n",
    "    arr2[1:, :, 1:] += arr[:-1, :, :-1]\n",
    "    #top back\n",
    "    arr2[1:, 1:, 1:] += arr[:-1, :-1, :-1]\n",
    "    \n",
    "    #front\n",
    "    arr2[:, :-1, 1:] += arr[:, 1:, :-1]\n",
    "    #back\n",
    "    arr2[:, 1:, 1:] += arr[:, :-1, :-1]\n",
    "    \n",
    "    #just left \n",
    "    arr2[:, :, 1:] += arr[:, :, :-1]\n",
    "    \n",
    "    \n",
    "    \n",
    "    #RIGHT RIGHT RIGHT RIGHT RIGHT RIGHT\n",
    "    #RIGHT RIGHT RIGHT RIGHT RIGHT RIGHT\n",
    "    #RIGHT RIGHT RIGHT RIGHT RIGHT RIGHT\n",
    "    \n",
    "    #bottom front\n",
    "    arr2[:-1,:-1, :-1] += arr[1:,1:, 1:]\n",
    "    #bottom \n",
    "    arr2[:-1, :, :-1] += arr[1:, :, 1:]\n",
    "    #bottom back\n",
    "    arr2[:-1, 1:, :-1] += arr[1:, :-1, 1:]\n",
    "    \n",
    "    #top front\n",
    "    arr2[1:, :-1, :-1] += arr[:-1, 1:, 1:]\n",
    "    #top\n",
    "    arr2[1:, :, :-1] += arr[:-1, :, 1:]\n",
    "    #top back\n",
    "    arr2[1:, 1:, :-1] += arr[:-1, :-1, 1:]\n",
    "    \n",
    "    #front\n",
    "    arr2[:, :-1, :-1] += arr[:, 1:, 1:]\n",
    "    #back\n",
    "    arr2[:, 1:, :-1] += arr[:, :-1, 1:]\n",
    "    \n",
    "    \n",
    "    #just right \n",
    "    arr2[:, :, :-1] += arr[:, :, 1:]\n",
    "    \n",
    "    \n",
    "    \n",
    "    return arr2*(arr!=0)"
   ]
  },
  {
   "cell_type": "code",
   "execution_count": 3,
   "metadata": {},
   "outputs": [],
   "source": [
    "segs = io.imread(\"/Users/spencerlab/Downloads/skel_Segs.tif\")\n",
    "segs = segs*(getNeighbors(segs!=0)>0) # gets rid of all single pixel segments\n",
    "nodes = io.imread(\"/Users/spencerlab/Downloads/skel_Nodes.tif\")\n",
    "blood_vessel = io.imread(\"/Users/spencerlab/Desktop/final_files/Day_3/#1/Blood_Vessel/Blood_vessel_day_3.tif\")"
   ]
  },
  {
   "cell_type": "code",
   "execution_count": null,
   "metadata": {},
   "outputs": [],
   "source": []
  },
  {
   "cell_type": "code",
   "execution_count": 4,
   "metadata": {},
   "outputs": [],
   "source": [
    "image = blood_vessel!=0\n",
    "local_maxi = segs!=0"
   ]
  },
  {
   "cell_type": "code",
   "execution_count": null,
   "metadata": {},
   "outputs": [],
   "source": []
  },
  {
   "cell_type": "code",
   "execution_count": 45,
   "metadata": {},
   "outputs": [],
   "source": [
    "\n",
    "# Now we want to separate the two objects in image\n",
    "# Generate the markers as local maxima of the distance to the background\n",
    "distance = ndi.distance_transform_edt(image)\n",
    "local_maxi = peak_local_max(distance, indices=False, footprint=np.ones((3, 3)),\n",
    "                            labels=image)"
   ]
  },
  {
   "cell_type": "code",
   "execution_count": null,
   "metadata": {},
   "outputs": [],
   "source": []
  },
  {
   "cell_type": "code",
   "execution_count": 5,
   "metadata": {},
   "outputs": [],
   "source": [
    "markers, nummarkers = ndi.label(local_maxi)"
   ]
  },
  {
   "cell_type": "code",
   "execution_count": null,
   "metadata": {},
   "outputs": [],
   "source": []
  },
  {
   "cell_type": "code",
   "execution_count": 19,
   "metadata": {},
   "outputs": [],
   "source": [
    "firstseg = markers == 78"
   ]
  },
  {
   "cell_type": "code",
   "execution_count": 20,
   "metadata": {},
   "outputs": [],
   "source": [
    "locs = np.where(firstseg!=0)"
   ]
  },
  {
   "cell_type": "code",
   "execution_count": null,
   "metadata": {},
   "outputs": [],
   "source": []
  },
  {
   "cell_type": "code",
   "execution_count": 21,
   "metadata": {},
   "outputs": [
    {
     "data": {
      "text/plain": [
       "(array([0]), array([649]), array([1474]))"
      ]
     },
     "execution_count": 21,
     "metadata": {},
     "output_type": "execute_result"
    }
   ],
   "source": [
    "locs"
   ]
  },
  {
   "cell_type": "code",
   "execution_count": null,
   "metadata": {},
   "outputs": [],
   "source": [
    "PADDING = \n",
    "minz = - PADDING\n",
    "maxz\n",
    "\n",
    "miny\n",
    "maxy\n",
    "\n",
    "minx\n",
    "maxx\n",
    "\n",
    "\n",
    "\n",
    "segs[minz:maxz+1, miny:maxy+1, minx:maxx+1]"
   ]
  },
  {
   "cell_type": "code",
   "execution_count": null,
   "metadata": {},
   "outputs": [],
   "source": [
    "# create zeros array of shape as segs: labeled_vessels\n",
    "# image = bloodvessels \n",
    "# create labeled segments: markers, nummarkers \n",
    "#  iterate through labeled segments\n",
    "# in each iteration: \n",
    "# \n",
    "#       locations = np.where(each_labeled_seg)\n",
    "#       minz = min(locations[0]) ** do for each\n",
    "\n",
    "    \n",
    "\n",
    "#     create a bounding box that guarantees it contains the segment, nodes, and a neighbor segment\n",
    "#         minz = - PADDING\n",
    "#         maxz = + PADDING\n",
    "\n",
    "#         miny = - PADDING \n",
    "#         maxy = + PADDING\n",
    "\n",
    "#         minx = - PADDING\n",
    "#         maxx = + PADDING\n",
    "    \n",
    "    \n",
    "#   mkake sure that min/max stay in bounds of img\n",
    "\n",
    "#     box = segs[minz:maxz+1, miny:maxy+1, minx:maxx+1]\n",
    "#     distance = ndi.distance_transform_edt(box)\n",
    "#    labels = watershed(-distance, markers, mask=image)\n",
    "# labeled_vessels[minz:maxz+1, miny:maxy+1, minx:maxx+1] += labels"
   ]
  },
  {
   "cell_type": "code",
   "execution_count": null,
   "metadata": {},
   "outputs": [],
   "source": []
  },
  {
   "cell_type": "code",
   "execution_count": null,
   "metadata": {},
   "outputs": [],
   "source": []
  },
  {
   "cell_type": "code",
   "execution_count": null,
   "metadata": {},
   "outputs": [],
   "source": []
  },
  {
   "cell_type": "code",
   "execution_count": null,
   "metadata": {},
   "outputs": [],
   "source": []
  },
  {
   "cell_type": "code",
   "execution_count": 6,
   "metadata": {},
   "outputs": [
    {
     "ename": "NameError",
     "evalue": "name 'distance' is not defined",
     "output_type": "error",
     "traceback": [
      "\u001b[0;31m---------------------------------------------------------------------------\u001b[0m",
      "\u001b[0;31mNameError\u001b[0m                                 Traceback (most recent call last)",
      "\u001b[0;32m<ipython-input-6-0775105940f7>\u001b[0m in \u001b[0;36m<module>\u001b[0;34m\u001b[0m\n\u001b[0;32m----> 1\u001b[0;31m \u001b[0mlabels\u001b[0m \u001b[0;34m=\u001b[0m \u001b[0mwatershed\u001b[0m\u001b[0;34m(\u001b[0m\u001b[0;34m-\u001b[0m\u001b[0mdistance\u001b[0m\u001b[0;34m,\u001b[0m \u001b[0mmarkers\u001b[0m\u001b[0;34m,\u001b[0m \u001b[0mmask\u001b[0m\u001b[0;34m=\u001b[0m\u001b[0mimage\u001b[0m\u001b[0;34m)\u001b[0m\u001b[0;34m\u001b[0m\u001b[0;34m\u001b[0m\u001b[0m\n\u001b[0m",
      "\u001b[0;31mNameError\u001b[0m: name 'distance' is not defined"
     ]
    }
   ],
   "source": [
    "labels = watershed(-distance, markers, mask=image)"
   ]
  },
  {
   "cell_type": "code",
   "execution_count": null,
   "metadata": {},
   "outputs": [],
   "source": [
    "plt.figure(figsize=(20,20))\n",
    "plt.imshow(image)"
   ]
  },
  {
   "cell_type": "code",
   "execution_count": 18,
   "metadata": {},
   "outputs": [
    {
     "ename": "NameError",
     "evalue": "name 'labels' is not defined",
     "output_type": "error",
     "traceback": [
      "\u001b[0;31m---------------------------------------------------------------------------\u001b[0m",
      "\u001b[0;31mNameError\u001b[0m                                 Traceback (most recent call last)",
      "\u001b[0;32m<ipython-input-18-0a1df294b701>\u001b[0m in \u001b[0;36m<module>\u001b[0;34m\u001b[0m\n\u001b[0;32m----> 1\u001b[0;31m \u001b[0mlabels\u001b[0m\u001b[0;34m\u001b[0m\u001b[0;34m\u001b[0m\u001b[0m\n\u001b[0m",
      "\u001b[0;31mNameError\u001b[0m: name 'labels' is not defined"
     ]
    }
   ],
   "source": [
    "labels"
   ]
  },
  {
   "cell_type": "code",
   "execution_count": 23,
   "metadata": {},
   "outputs": [
    {
     "data": {
      "text/plain": [
       "<matplotlib.image.AxesImage at 0x1c244777f0>"
      ]
     },
     "execution_count": 23,
     "metadata": {},
     "output_type": "execute_result"
    },
    {
     "data": {
      "image/png": "[encoded data removed]",
      "text/plain": [
       "<Figure size 1440x1440 with 1 Axes>"
      ]
     },
     "metadata": {
      "needs_background": "light"
     },
     "output_type": "display_data"
    }
   ],
   "source": [
    "plt.figure(figsize=(20,20))\n",
    "plt.imshow(labels*(labels==2) )"
   ]
  },
  {
   "cell_type": "code",
   "execution_count": 8,
   "metadata": {},
   "outputs": [
    {
     "data": {
      "image/png": "[encoded data removed]",
      "text/plain": [
       "<Figure size 648x216 with 3 Axes>"
      ]
     },
     "metadata": {
      "needs_background": "light"
     },
     "output_type": "display_data"
    }
   ],
   "source": [
    "\n",
    "markers = ndi.label(local_maxi)[0]\n",
    "labels = watershed(-distance, markers, mask=image)\n",
    "\n",
    "fig, axes = plt.subplots(ncols=3, figsize=(9, 3), sharex=True, sharey=True)\n",
    "ax = axes.ravel()\n",
    "\n",
    "ax[0].imshow(image, cmap=plt.cm.gray)\n",
    "ax[0].set_title('Overlapping objects')\n",
    "ax[1].imshow(-distance, cmap=plt.cm.gray)\n",
    "ax[1].set_title('Distances')\n",
    "ax[2].imshow(labels, cmap=plt.cm.nipy_spectral)\n",
    "ax[2].set_title('Separated objects')\n",
    "\n",
    "for a in ax:\n",
    "    a.set_axis_off()\n",
    "\n",
    "fig.tight_layout()\n",
    "plt.show()"
   ]
  },
  {
   "cell_type": "code",
   "execution_count": null,
   "metadata": {},
   "outputs": [],
   "source": []
  }
 ],
 "metadata": {
  "kernelspec": {
   "display_name": "Python 3",
   "language": "python",
   "name": "python3"
  },
  "language_info": {
   "codemirror_mode": {
    "name": "ipython",
    "version": 3
   },
   "file_extension": ".py",
   "mimetype": "text/x-python",
   "name": "python",
   "nbconvert_exporter": "python",
   "pygments_lexer": "ipython3",
   "version": "3.7.3"
  }
 },
 "nbformat": 4,
 "nbformat_minor": 2
}
