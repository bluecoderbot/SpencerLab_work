{
 "cells": [
  {
   "cell_type": "code",
   "execution_count": 1,
   "metadata": {},
   "outputs": [],
   "source": [
    "import numpy as np\n",
    "import math\n",
    "%matplotlib qt\n",
    "import matplotlib.pyplot as plt\n",
    "\n",
    "from scipy import ndimage as ndi\n",
    "import pandas as pd\n",
    "\n",
    "from mpl_toolkits.mplot3d import Axes3D  # noqa: F401 unused import\n",
    "\n",
    "\n",
    "from skimage.morphology import watershed\n",
    "from skimage.feature import peak_local_max\n",
    "from PIL import Image\n",
    "\n",
    "from skimage.morphology import skeletonize, thin, skeletonize_3d\n",
    "from skimage.util import invert\n",
    "from skimage import measure\n",
    "from skimage.morphology import erosion, dilation, opening, closing, white_tophat\n",
    "from skimage.morphology import black_tophat, skeletonize, convex_hull_image\n",
    "from skimage.morphology import disk\n",
    "from skimage import feature\n",
    "from skimage.filters import roberts, sobel, scharr, prewitt\n",
    "import seaborn as sns\n",
    "sns.reset_orig()\n",
    "\n",
    "from skimage import restoration\n",
    "\n",
    "from skimage import exposure\n",
    "from skimage.filters import gaussian\n",
    "\n",
    "from scipy import ndimage\n",
    "\n",
    "from time import time\n",
    "\n",
    "from skimage.color import rgb2gray\n",
    "\n",
    "\n",
    "from skimage.filters.rank import entropy\n",
    "import scipy\n",
    "\n",
    "\n",
    "\n",
    "import networkx as nx\n",
    "from scipy import interpolate\n",
    "\n",
    "from skimage.segmentation import random_walker\n",
    "from skimage.data import binary_blobs\n",
    "from skimage.exposure import rescale_intensity\n",
    "import glob\n",
    "\n",
    "from skimage.morphology import disk\n",
    "from skimage import io\n",
    "from skimage.morphology import remove_small_objects\n",
    "\n",
    "import threading\n",
    "\n",
    "import csv"
   ]
  },
  {
   "cell_type": "code",
   "execution_count": 2,
   "metadata": {},
   "outputs": [],
   "source": [
    "def get_centroids(arr):\n",
    "    \n",
    "    arr= arr!=0\n",
    "    markers, nummarkers = ndi.label(arr) \n",
    "    \n",
    "    points = np.where(arr)\n",
    "    points = np.asarray(points)\n",
    "    \n",
    "    pt_labels = markers[points[0], points[1], points[2]]\n",
    "    \n",
    "    Z_mass = (np.bincount(pt_labels, weights=points[0]))[1:]\n",
    "\n",
    "    Y_mass = (np.bincount(pt_labels, weights=points[1]))[1:]\n",
    "\n",
    "    X_mass = (np.bincount(pt_labels, weights=points[2]))[1:]\n",
    "\n",
    "    label_occurances = (np.bincount(pt_labels, weights=np.ones((points.shape[1]))) )[1:]\n",
    "    \n",
    "    \n",
    "    Z_centroid = Z_mass/label_occurances\n",
    "    Y_centroid = Y_mass/label_occurances\n",
    "    X_centroid = X_mass/label_occurances\n",
    "    \n",
    "    return Z_centroid, Y_centroid, X_centroid, label_occurances"
   ]
  },
  {
   "cell_type": "code",
   "execution_count": 3,
   "metadata": {},
   "outputs": [],
   "source": [
    "# each pixel = number of times the labled occurs\n",
    "def get_occurances(arr):\n",
    "    \n",
    "    arr= arr!=0\n",
    "    markers, nummarkers = ndi.label(arr) \n",
    "    \n",
    "    points = np.where(arr)\n",
    "    points = np.asarray(points)\n",
    "    \n",
    "    pt_labels = markers[points[0], points[1], points[2]]\n",
    "\n",
    "    label_occurances = (np.bincount(pt_labels, weights=np.ones((points.shape[1]))) )[1:]\n",
    "    \n",
    "    \n",
    "    return label_occurances"
   ]
  },
  {
   "cell_type": "code",
   "execution_count": 4,
   "metadata": {},
   "outputs": [],
   "source": [
    "# \n",
    "def get_endpoints_occurrances(arr, epts):\n",
    "    arr= arr!=0\n",
    "    markers, nummarkers = ndi.label(arr) \n",
    "    \n",
    "    arr = arr*(epts!=0)\n",
    "    \n",
    "    points = np.where(arr)\n",
    "    points = np.asarray(points)\n",
    "    \n",
    "    pt_labels = markers[points[0], points[1], points[2]]\n",
    "\n",
    "    label_occurances = (np.bincount(pt_labels, weights=np.ones((points.shape[1]))) )[1:]\n",
    "    \n",
    "    \n",
    "    return label_occurances\n",
    "    "
   ]
  },
  {
   "cell_type": "code",
   "execution_count": 5,
   "metadata": {},
   "outputs": [],
   "source": [
    "def pair_labels_W_vals(arr, labels, vals):\n",
    "    arr= arr!=0\n",
    "    markers, nummarkers = ndi.label(arr) \n",
    "    \n",
    "    points = np.where(arr)\n",
    "    points = np.asarray(points)\n",
    "    \n",
    "    pt_labels = markers[points[0], points[1], points[2]]\n",
    "    \n",
    "    dict_1 = dict(zip(labels, vals))\n",
    "    \n",
    "    new_labels = np.vectorize(dict_1.get)(pt_labels)\n",
    "    \n",
    "    markers[points[0], points[1], points[2]] = new_labels\n",
    "    \n",
    "    return markers"
   ]
  },
  {
   "cell_type": "code",
   "execution_count": 5,
   "metadata": {},
   "outputs": [],
   "source": [
    "def getNeighbors(arr):\n",
    "    \n",
    "    arr2 = (arr.copy())*0\n",
    "    \n",
    "    \n",
    "    #IN YZ PLANE\n",
    "    \n",
    "    #bottom front\n",
    "    arr2[:-1,:-1] += arr[1:,1:]\n",
    "    \n",
    "    \n",
    "    \n",
    "    #bottom \n",
    "    arr2[:-1] += arr[1:]\n",
    "    \n",
    "    \n",
    "    #bottom back\n",
    "    arr2[:-1, 1:] += arr[1:, :-1]\n",
    "    \n",
    "    #top front\n",
    "    arr2[1:, :-1] += arr[:-1, 1:]\n",
    "    #top\n",
    "    arr2[1:] += arr[:-1]\n",
    "    #top back\n",
    "    arr2[1:, 1:] += arr[:-1, :-1]\n",
    "    \n",
    "    #front\n",
    "    arr2[:, :-1] += arr[:, 1:]\n",
    "    #back\n",
    "    arr2[:, 1:] += arr[:, :-1]\n",
    "    \n",
    "    \n",
    "    \n",
    "    #LEFT LEFT LEFT LEFT LEFT LEFT LEFT \n",
    "    #LEFT LEFT LEFT LEFT LEFT LEFT LEFT\n",
    "    #LEFT LEFT LEFT LEFT LEFT LEFT LEFT\n",
    "    \n",
    "    #bottom front\n",
    "    arr2[:-1,:-1, 1:] += arr[1:,1:, :-1]\n",
    "    #bottom \n",
    "    arr2[:-1, :, 1:] += arr[1:, :, :-1]\n",
    "    #bottom back\n",
    "    arr2[:-1, 1:, 1:] += arr[1:, :-1, :-1]\n",
    "    \n",
    "    #top front\n",
    "    arr2[1:, :-1, 1:] += arr[:-1, 1:, :-1]\n",
    "    #top\n",
    "    arr2[1:, :, 1:] += arr[:-1, :, :-1]\n",
    "    #top back\n",
    "    arr2[1:, 1:, 1:] += arr[:-1, :-1, :-1]\n",
    "    \n",
    "    #front\n",
    "    arr2[:, :-1, 1:] += arr[:, 1:, :-1]\n",
    "    #back\n",
    "    arr2[:, 1:, 1:] += arr[:, :-1, :-1]\n",
    "    \n",
    "    #just left \n",
    "    arr2[:, :, 1:] += arr[:, :, :-1]\n",
    "    \n",
    "    \n",
    "    \n",
    "    #RIGHT RIGHT RIGHT RIGHT RIGHT RIGHT\n",
    "    #RIGHT RIGHT RIGHT RIGHT RIGHT RIGHT\n",
    "    #RIGHT RIGHT RIGHT RIGHT RIGHT RIGHT\n",
    "    \n",
    "    #bottom front\n",
    "    arr2[:-1,:-1, :-1] += arr[1:,1:, 1:]\n",
    "    #bottom \n",
    "    arr2[:-1, :, :-1] += arr[1:, :, 1:]\n",
    "    #bottom back\n",
    "    arr2[:-1, 1:, :-1] += arr[1:, :-1, 1:]\n",
    "    \n",
    "    #top front\n",
    "    arr2[1:, :-1, :-1] += arr[:-1, 1:, 1:]\n",
    "    #top\n",
    "    arr2[1:, :, :-1] += arr[:-1, :, 1:]\n",
    "    #top back\n",
    "    arr2[1:, 1:, :-1] += arr[:-1, :-1, 1:]\n",
    "    \n",
    "    #front\n",
    "    arr2[:, :-1, :-1] += arr[:, 1:, 1:]\n",
    "    #back\n",
    "    arr2[:, 1:, :-1] += arr[:, :-1, 1:]\n",
    "    \n",
    "    \n",
    "    #just right \n",
    "    arr2[:, :, :-1] += arr[:, :, 1:]\n",
    "    \n",
    "    \n",
    "    \n",
    "    return arr2*(arr!=0)"
   ]
  },
  {
   "cell_type": "code",
   "execution_count": 6,
   "metadata": {},
   "outputs": [],
   "source": [
    "# Mac\n",
    "# segs = io.imread(\"/Users/spencerlab/Desktop/Temporary_Computational_Folders/Blood_Vessels/Graph_development/skel_Segs_3D.tif\")\n",
    "\n",
    "# Desktop 1\n",
    "segs = io.imread(\"/Users/Spenc/OneDrive/Desktop/Kumaran/bv/skel_Segs_3D.tif\")\n",
    "\n",
    "segs = segs*(getNeighbors(segs!=0)>0) # gets rid of all single pixel segments\n"
   ]
  },
  {
   "cell_type": "code",
   "execution_count": null,
   "metadata": {},
   "outputs": [],
   "source": []
  },
  {
   "cell_type": "code",
   "execution_count": 7,
   "metadata": {},
   "outputs": [],
   "source": [
    "# Mac\n",
    "# centroid_csv = pd.read_csv(\"/Users/spencerlab/Desktop/Temporary_Computational_Folders/Blood_Vessels/Graph_development/Day3_mouse1_Nodes.csv\") \n",
    "\n",
    "# Desktop 2\n",
    "centroid_csv = pd.read_csv(\"/Users/Spenc/OneDrive/Desktop/Kumaran/bv/Day3_mouse1_Nodes.csv\")\n",
    "\n",
    "centroids = centroid_csv.to_numpy()"
   ]
  },
  {
   "cell_type": "code",
   "execution_count": null,
   "metadata": {},
   "outputs": [],
   "source": []
  },
  {
   "cell_type": "code",
   "execution_count": 8,
   "metadata": {},
   "outputs": [],
   "source": [
    "node_num = 102709\n",
    "\n",
    "# TODO: need to make sure that centroid has space above/below\n",
    "Center_Z = int(centroids[node_num][1])\n",
    "Center_Y = int(centroids[node_num][2])\n",
    "Center_X = int(centroids[node_num][3])\n",
    "\n",
    "#  size of substack (each side)\n",
    "Z_margin = 15\n",
    "Y_margin = 15\n",
    "X_margin = 15\n",
    "\n",
    "substack = segs[Center_Z-Z_margin:Center_Z+Z_margin+1,Center_Y-Y_margin:Center_Y+Y_margin+1, Center_X-X_margin:Center_X+X_margin+1]"
   ]
  },
  {
   "cell_type": "code",
   "execution_count": 10,
   "metadata": {},
   "outputs": [
    {
     "data": {
      "text/plain": [
       "(31, 31, 31)"
      ]
     },
     "execution_count": 10,
     "metadata": {},
     "output_type": "execute_result"
    }
   ],
   "source": [
    "substack.shape"
   ]
  },
  {
   "cell_type": "code",
   "execution_count": null,
   "metadata": {},
   "outputs": [],
   "source": [
    "# create (z)(y)(x) arrays of substack\n",
    "# label the substack\n",
    "# for each label - get endpoints (a, b)\n",
    "# follow endpoint a --> b, add locations to list\n",
    "# create parameterized line for each segment"
   ]
  },
  {
   "cell_type": "code",
   "execution_count": 9,
   "metadata": {},
   "outputs": [],
   "source": [
    "labeled_substack, num_segs = ndi.measurements.label(substack, np.ones((3,3,3)))\n",
    "enpt_substack = getNeighbors(substack!=0) == 1"
   ]
  },
  {
   "cell_type": "code",
   "execution_count": 12,
   "metadata": {},
   "outputs": [
    {
     "data": {
      "text/plain": [
       "42"
      ]
     },
     "execution_count": 12,
     "metadata": {},
     "output_type": "execute_result"
    }
   ],
   "source": [
    "num_segs"
   ]
  },
  {
   "cell_type": "code",
   "execution_count": 13,
   "metadata": {},
   "outputs": [],
   "source": [
    "label = 4\n",
    "\n",
    "z_par = []\n",
    "y_par = []\n",
    "x_par = []\n",
    "\n",
    "loc_par = [] # stores z,y,x as tuple, makes it easy to compare\n",
    "    \n",
    "seg = labeled_substack == label # essentially the stack with only that segment\n",
    "label_loc = np.where(seg) # list of locations of each point in segment\n",
    "    \n",
    " # get endpoints - TODO:  replace w kumaran's function\n",
    "endpt = enpt_substack*(seg) \n",
    "endpt_loc = np.where(endpt)"
   ]
  },
  {
   "cell_type": "code",
   "execution_count": 14,
   "metadata": {},
   "outputs": [
    {
     "data": {
      "text/plain": [
       "(array([0, 1], dtype=int64),\n",
       " array([29, 25], dtype=int64),\n",
       " array([21, 27], dtype=int64))"
      ]
     },
     "execution_count": 14,
     "metadata": {},
     "output_type": "execute_result"
    }
   ],
   "source": [
    "endpt_loc"
   ]
  },
  {
   "cell_type": "code",
   "execution_count": 15,
   "metadata": {},
   "outputs": [
    {
     "data": {
      "text/plain": [
       "(array([0, 0, 0, 0, 0, 1, 1], dtype=int64),\n",
       " array([27, 28, 29, 29, 29, 25, 26], dtype=int64),\n",
       " array([25, 24, 21, 22, 23, 27, 26], dtype=int64))"
      ]
     },
     "execution_count": 15,
     "metadata": {},
     "output_type": "execute_result"
    }
   ],
   "source": [
    "label_loc"
   ]
  },
  {
   "cell_type": "code",
   "execution_count": 16,
   "metadata": {},
   "outputs": [],
   "source": [
    "# whatever endpoint is first in np.where\n",
    "cp_z = endpt_loc[0][0]\n",
    "cp_y = endpt_loc[1][0]\n",
    "cp_x = endpt_loc[2][0]"
   ]
  },
  {
   "cell_type": "code",
   "execution_count": 29,
   "metadata": {},
   "outputs": [],
   "source": [
    "def checkNeighbor(diff_z, diff_y, diff_x):\n",
    "    distance_sq = diff_z+diff_y+diff_x\n",
    "    \n",
    "    if ((distance_sq == 1) or (distance_sq == 2) or (distance_sq == 3)):\n",
    "        return True;"
   ]
  },
  {
   "cell_type": "code",
   "execution_count": 30,
   "metadata": {},
   "outputs": [
    {
     "name": "stdout",
     "output_type": "stream",
     "text": [
      "0\n",
      "1\n",
      "2\n",
      "3\n"
     ]
    }
   ],
   "source": [
    "z_par = []\n",
    "y_par = []\n",
    "x_par = []\n",
    "\n",
    "loc_par = [] # stores z,y,x as tuple, makes it easy to compare\n",
    "\n",
    "loc_par.append((cp_z,cp_y,cp_x))\n",
    "z_par.append(cp_z)\n",
    "y_par.append(cp_y)\n",
    "x_par.append(cp_x)\n",
    "\n",
    "for i in range(len(label_loc[0])): # iterates through each label location\n",
    "    \n",
    "        print(i)\n",
    "        z = (label_loc[0][i])\n",
    "        y = (label_loc[1][i])\n",
    "        x = (label_loc[2][i])\n",
    "\n",
    "\n",
    "        # to be a neighbor, the difference has to be either +/- 1\n",
    "        diff_z_sq = (cp_z - z)**4\n",
    "        diff_y_sq = (cp_y - y)**4\n",
    "        diff_x_sq = (cp_x - x)**4\n",
    "        \n",
    "        # if its a neighbor, \n",
    "        if (checkNeighbor(diff_z_sq, diff_y_sq, diff_x_sq) and ((z,y,x) not in loc_par)):\n",
    "            loc_par.append((z,y,x))\n",
    "            z_par.append(z)\n",
    "            y_par.append(y)\n",
    "            x_par.append(x)\n",
    "            \n",
    "            cp_z = z\n",
    "            cp_y = y\n",
    "            cp_x = x\n",
    "            \n",
    "            '''for j in range(len(label_loc[0])):\n",
    "                z = (label_loc[0][j])\n",
    "                y = (label_loc[1][j])\n",
    "                x = (label_loc[2][j])\n",
    "                \n",
    "                diff_z_sq = (cp_z - z)**4\n",
    "                diff_y_sq = (cp_y - y)**4\n",
    "                diff_x_sq = (cp_x - x)**4\n",
    "                \n",
    "                \n",
    "                if (checkNeighbor(diff_z_sq, diff_y_sq, diff_x_sq) and ((z,y,x) not in loc_par)):\n",
    "                \n",
    "                    loc_par.append((z,y,x))\n",
    "                    z_par.append(z)\n",
    "                    y_par.append(y)\n",
    "                    x_par.append(x)\n",
    "                    \n",
    "                    cp_z = z\n",
    "                    cp_y = y\n",
    "                    cp_x = x'''\n",
    " "
   ]
  },
  {
   "cell_type": "code",
   "execution_count": 24,
   "metadata": {},
   "outputs": [],
   "source": [
    "plt.rcParams['legend.fontsize'] = 10\n",
    "\n",
    "fig = plt.figure()\n",
    "ax = fig.gca(projection='3d')\n",
    "\n",
    "# Prepare arrays x, y, z\n",
    "z = z_par\n",
    "y = y_par\n",
    "x = x_par\n",
    "\n",
    "ax.plot(x, y, z, label=\"segment\"+str(label))\n",
    "ax.legend()\n",
    "\n",
    "plt.show()"
   ]
  },
  {
   "cell_type": "code",
   "execution_count": 23,
   "metadata": {},
   "outputs": [
    {
     "data": {
      "text/plain": [
       "[(0, 28, 24),\n",
       " (0, 27, 25),\n",
       " (0, 29, 21),\n",
       " (0, 29, 22),\n",
       " (0, 29, 23),\n",
       " (1, 25, 27),\n",
       " (1, 26, 26)]"
      ]
     },
     "execution_count": 23,
     "metadata": {},
     "output_type": "execute_result"
    }
   ],
   "source": [
    "loc_par"
   ]
  },
  {
   "cell_type": "code",
   "execution_count": null,
   "metadata": {},
   "outputs": [],
   "source": [
    "math.sqrt(1+1)"
   ]
  },
  {
   "cell_type": "code",
   "execution_count": null,
   "metadata": {},
   "outputs": [],
   "source": [
    "######## FINAL ########"
   ]
  },
  {
   "cell_type": "code",
   "execution_count": 12,
   "metadata": {},
   "outputs": [],
   "source": [
    "plt.rcParams['legend.fontsize'] = 10\n",
    "\n",
    "fig = plt.figure()\n",
    "ax = fig.gca(projection='3d')\n",
    "\n",
    "for each_label in range(1, num_segs): # each label should be a separate segment\n",
    "    \n",
    "    z_par = []\n",
    "    y_par = []\n",
    "    x_par = []\n",
    "\n",
    "    loc_par = [] # stores z,y,x as tuple, makes it easy to compare\n",
    "    \n",
    "    seg = labeled_substack == each_label # essentially the stack with only that segment\n",
    "    label_loc = np.where(seg) # list of locations of each point in segment\n",
    "    \n",
    "    # get endpoints\n",
    "    endpt = enpt_substack*(seg) \n",
    "    endpt_loc = np.where(endpt)\n",
    "    \n",
    "    \n",
    "    # whatever endpoint is first in np.where\n",
    "    cp_z = endpt_loc[0][0]\n",
    "    cp_y = endpt_loc[1][0]\n",
    "    cp_x = endpt_loc[2][0]\n",
    "\n",
    "    loc_par.append((cp_z,cp_y,cp_x))\n",
    "    z_par.append(cp_z)\n",
    "    y_par.append(cp_y)\n",
    "    x_par.append(cp_x)\n",
    "\n",
    "    for i in range(len(label_loc[0])): # iterates through each label location\n",
    "        z = (label_loc[0][i])\n",
    "        y = (label_loc[1][i])\n",
    "        x = (label_loc[2][i])\n",
    "\n",
    "\n",
    "        # to be a neighbor, the difference has to be either +/- 1\n",
    "        diff_z_sq = (cp_z - z)**2\n",
    "        diff_y_sq = (cp_y - y)**2\n",
    "        diff_x_sq = (cp_x - x)**2\n",
    "        \n",
    "        distance = math.sqrt(diff_z_sq+diff_y_sq+diff_x_sq)\n",
    "        # distance has to be 1, sqrt(2), sqrt(3)\n",
    "        \n",
    "        # if its a neighbor, \n",
    "        if ((distance == 1) or (distance == 1.7320508075688772) or (distance == 1.4142135623730951)) and (((z,y,x) not in loc_par)):\n",
    "            loc_par.append((z,y,x))\n",
    "            z_par.append(z)\n",
    "            y_par.append(y)\n",
    "            x_par.append(x)\n",
    "            \n",
    "            cp_z = z\n",
    "            cp_y = y\n",
    "            cp_x = x\n",
    "            \n",
    "            for j in range(len(label_loc[0])):\n",
    "                z = (label_loc[0][j])\n",
    "                y = (label_loc[1][j])\n",
    "                x = (label_loc[2][j])\n",
    "                \n",
    "                if ((distance == 1) or (distance == 1.7320508075688772) or (distance == 1.4142135623730951)) and (((z,y,x) not in loc_par)):\n",
    "                \n",
    "                    loc_par.append((z,y,x))\n",
    "                    z_par.append(z)\n",
    "                    y_par.append(y)\n",
    "                    x_par.append(x)\n",
    "                    \n",
    "                    cp_z = z\n",
    "                    cp_y = y\n",
    "                    cp_x = x\n",
    "    \n",
    "    ax.plot(x_par, y_par, z_par, label=\"Segment \"+str(each_label))\n",
    "    ax.legend()\n",
    "    \n",
    "    \n",
    "    "
   ]
  },
  {
   "cell_type": "code",
   "execution_count": null,
   "metadata": {},
   "outputs": [],
   "source": []
  },
  {
   "cell_type": "code",
   "execution_count": null,
   "metadata": {},
   "outputs": [],
   "source": []
  },
  {
   "cell_type": "code",
   "execution_count": null,
   "metadata": {},
   "outputs": [],
   "source": [
    "\n",
    "fig = plt.figure()\n",
    "ax = fig.add_subplot(111, projection='3d')\n",
    "\n",
    "ax.scatter(x, y, z, c='r', marker='o')\n",
    "\n",
    "ax.set_xlabel('X Label')\n",
    "ax.set_ylabel('Y Label')\n",
    "ax.set_zlabel('Z Label')\n",
    "\n",
    "plt.show()"
   ]
  },
  {
   "cell_type": "code",
   "execution_count": null,
   "metadata": {},
   "outputs": [],
   "source": []
  },
  {
   "cell_type": "code",
   "execution_count": null,
   "metadata": {},
   "outputs": [],
   "source": []
  },
  {
   "cell_type": "code",
   "execution_count": null,
   "metadata": {},
   "outputs": [],
   "source": []
  },
  {
   "cell_type": "code",
   "execution_count": null,
   "metadata": {},
   "outputs": [],
   "source": []
  }
 ],
 "metadata": {
  "kernelspec": {
   "display_name": "Python 3",
   "language": "python",
   "name": "python3"
  },
  "language_info": {
   "codemirror_mode": {
    "name": "ipython",
    "version": 3
   },
   "file_extension": ".py",
   "mimetype": "text/x-python",
   "name": "python",
   "nbconvert_exporter": "python",
   "pygments_lexer": "ipython3",
   "version": "3.7.6"
  }
 },
 "nbformat": 4,
 "nbformat_minor": 2
}
