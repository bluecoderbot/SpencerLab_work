{
 "cells": [
  {
   "cell_type": "code",
   "execution_count": 2,
   "metadata": {},
   "outputs": [
    {
     "name": "stderr",
     "output_type": "stream",
     "text": [
      "/Users/spencerlab/anaconda3/lib/python3.7/site-packages/matplotlib/__init__.py:855: MatplotlibDeprecationWarning: \n",
      "examples.directory is deprecated; in the future, examples will be found relative to the 'datapath' directory.\n",
      "  \"found relative to the 'datapath' directory.\".format(key))\n",
      "/Users/spencerlab/anaconda3/lib/python3.7/site-packages/matplotlib/__init__.py:846: MatplotlibDeprecationWarning: \n",
      "The text.latex.unicode rcparam was deprecated in Matplotlib 2.2 and will be removed in 3.1.\n",
      "  \"2.2\", name=key, obj_type=\"rcparam\", addendum=addendum)\n"
     ]
    }
   ],
   "source": [
    "import numpy as np\n",
    "\n",
    "%matplotlib qt\n",
    "import matplotlib.pyplot as plt\n",
    "\n",
    "from scipy import ndimage as ndi\n",
    "import pandas as pd\n",
    "\n",
    "from mpl_toolkits.mplot3d import Axes3D  # noqa: F401 unused import\n",
    "\n",
    "\n",
    "from skimage.morphology import watershed\n",
    "from skimage.feature import peak_local_max\n",
    "from PIL import Image\n",
    "\n",
    "from skimage.morphology import skeletonize, thin, skeletonize_3d\n",
    "from skimage.util import invert\n",
    "from skimage import measure\n",
    "from skimage.morphology import erosion, dilation, opening, closing, white_tophat\n",
    "from skimage.morphology import black_tophat, skeletonize, convex_hull_image\n",
    "from skimage.morphology import disk\n",
    "from skimage import feature\n",
    "from skimage.filters import roberts, sobel, scharr, prewitt\n",
    "import seaborn as sns\n",
    "sns.reset_orig()\n",
    "\n",
    "from skimage import restoration\n",
    "\n",
    "from skimage import exposure\n",
    "from skimage.filters import gaussian\n",
    "\n",
    "from scipy import ndimage\n",
    "\n",
    "from time import time\n",
    "\n",
    "from skimage.color import rgb2gray\n",
    "\n",
    "\n",
    "from skimage.filters.rank import entropy\n",
    "import scipy\n",
    "\n",
    "\n",
    "\n",
    "import networkx as nx\n",
    "from scipy import interpolate\n",
    "\n",
    "from skimage.segmentation import random_walker\n",
    "from skimage.data import binary_blobs\n",
    "from skimage.exposure import rescale_intensity\n",
    "import glob\n",
    "\n",
    "from skimage.morphology import disk\n",
    "from skimage import io\n",
    "from skimage.morphology import remove_small_objects\n",
    "\n",
    "import threading\n",
    "\n",
    "import csv"
   ]
  },
  {
   "cell_type": "code",
   "execution_count": 4,
   "metadata": {},
   "outputs": [],
   "source": [
    "def getNeighbors(arr):\n",
    "    \n",
    "    arr2 = (arr.copy())*0\n",
    "    \n",
    "    \n",
    "    #IN YZ PLANE\n",
    "    \n",
    "    #bottom front\n",
    "    arr2[:-1,:-1] += arr[1:,1:]\n",
    "    #bottom \n",
    "    arr2[:-1] += arr[1:]\n",
    "    #bottom back\n",
    "    arr2[:-1, 1:] += arr[1:, :-1]\n",
    "    \n",
    "    #top front\n",
    "    arr2[1:, :-1] += arr[:-1, 1:]\n",
    "    #top\n",
    "    arr2[1:] += arr[:-1]\n",
    "    #top back\n",
    "    arr2[1:, 1:] += arr[:-1, :-1]\n",
    "    \n",
    "    #front\n",
    "    arr2[:, :-1] += arr[:, 1:]\n",
    "    #back\n",
    "    arr2[:, 1:] += arr[:, :-1]\n",
    "    \n",
    "    \n",
    "    \n",
    "    #LEFT LEFT LEFT LEFT LEFT LEFT LEFT \n",
    "    #LEFT LEFT LEFT LEFT LEFT LEFT LEFT\n",
    "    #LEFT LEFT LEFT LEFT LEFT LEFT LEFT\n",
    "    \n",
    "    #bottom front\n",
    "    arr2[:-1,:-1, 1:] += arr[1:,1:, :-1]\n",
    "    #bottom \n",
    "    arr2[:-1, :, 1:] += arr[1:, :, :-1]\n",
    "    #bottom back\n",
    "    arr2[:-1, 1:, 1:] += arr[1:, :-1, :-1]\n",
    "    \n",
    "    #top front\n",
    "    arr2[1:, :-1, 1:] += arr[:-1, 1:, :-1]\n",
    "    #top\n",
    "    arr2[1:, :, 1:] += arr[:-1, :, :-1]\n",
    "    #top back\n",
    "    arr2[1:, 1:, 1:] += arr[:-1, :-1, :-1]\n",
    "    \n",
    "    #front\n",
    "    arr2[:, :-1, 1:] += arr[:, 1:, :-1]\n",
    "    #back\n",
    "    arr2[:, 1:, 1:] += arr[:, :-1, :-1]\n",
    "    \n",
    "    #just left \n",
    "    arr2[:, :, 1:] += arr[:, :, :-1]\n",
    "    \n",
    "    \n",
    "    \n",
    "    #RIGHT RIGHT RIGHT RIGHT RIGHT RIGHT\n",
    "    #RIGHT RIGHT RIGHT RIGHT RIGHT RIGHT\n",
    "    #RIGHT RIGHT RIGHT RIGHT RIGHT RIGHT\n",
    "    \n",
    "    #bottom front\n",
    "    arr2[:-1,:-1, :-1] += arr[1:,1:, 1:]\n",
    "    #bottom \n",
    "    arr2[:-1, :, :-1] += arr[1:, :, 1:]\n",
    "    #bottom back\n",
    "    arr2[:-1, 1:, :-1] += arr[1:, :-1, 1:]\n",
    "    \n",
    "    #top front\n",
    "    arr2[1:, :-1, :-1] += arr[:-1, 1:, 1:]\n",
    "    #top\n",
    "    arr2[1:, :, :-1] += arr[:-1, :, 1:]\n",
    "    #top back\n",
    "    arr2[1:, 1:, :-1] += arr[:-1, :-1, 1:]\n",
    "    \n",
    "    #front\n",
    "    arr2[:, :-1, :-1] += arr[:, 1:, 1:]\n",
    "    #back\n",
    "    arr2[:, 1:, :-1] += arr[:, :-1, 1:]\n",
    "    \n",
    "    \n",
    "    #just right \n",
    "    arr2[:, :, :-1] += arr[:, :, 1:]\n",
    "    \n",
    "    \n",
    "    \n",
    "    return arr2*(arr!=0)"
   ]
  },
  {
   "cell_type": "code",
   "execution_count": 4,
   "metadata": {},
   "outputs": [],
   "source": [
    "segs = io.imread(\"/Users/spencerlab/Desktop/Temporary_Computational_Folders/Blood_Vessels/Graph_development/skel_Segs_3D.tif\")"
   ]
  },
  {
   "cell_type": "code",
   "execution_count": 7,
   "metadata": {},
   "outputs": [],
   "source": [
    "# nodes_csv = pd.read_csv(\"/Users/Spenc/OneDrive/Desktop/Kumaran/bv/node_info.csv\") # Tomar's CSV (in downloads too)\n",
    "# segs_csv = pd.read_csv(\"/Users/Spenc/OneDrive/Desktop/Kumaran/bv/segs_info.csv\") # Shreya's CSV seg_nodes_2 (downloads)    "
   ]
  },
  {
   "cell_type": "code",
   "execution_count": null,
   "metadata": {},
   "outputs": [],
   "source": []
  },
  {
   "cell_type": "code",
   "execution_count": 11,
   "metadata": {},
   "outputs": [],
   "source": [
    "# nodes_info = nodes_csv.to_numpy()\n",
    "# segs_info = segs_csv.to_numpy()"
   ]
  },
  {
   "cell_type": "code",
   "execution_count": 77,
   "metadata": {},
   "outputs": [],
   "source": [
    "node_num = 23 # enter node num\n",
    "\n",
    "segs_at_node = nodes_info[node_num]\n",
    "segs_at_node = np.delete(segs_at_node,0)\n",
    "segs_at_node = segs_at_node[np.logical_not(np.isnan(segs_at_node))]\n",
    "segs_at_node = segs_at_node.astype(int)"
   ]
  },
  {
   "cell_type": "code",
   "execution_count": 78,
   "metadata": {},
   "outputs": [
    {
     "data": {
      "text/plain": [
       "array([24, 42, 44])"
      ]
     },
     "execution_count": 78,
     "metadata": {},
     "output_type": "execute_result"
    }
   ],
   "source": [
    "segs_at_node"
   ]
  },
  {
   "cell_type": "code",
   "execution_count": 79,
   "metadata": {},
   "outputs": [],
   "source": [
    "z = []\n",
    "y = []\n",
    "x = []\n",
    "\n",
    "for each in segs_at_node:\n",
    "    z.append(segs_info[each][1])\n",
    "    z.append(segs_info[each][5])\n",
    "    \n",
    "    y.append(segs_info[each][2])\n",
    "    y.append(segs_info[each][6])\n",
    "    \n",
    "    x.append(segs_info[each][3])\n",
    "    x.append(segs_info[each][7])\n",
    "    "
   ]
  },
  {
   "cell_type": "code",
   "execution_count": 48,
   "metadata": {},
   "outputs": [],
   "source": [
    "z_max = max(z)\n",
    "y_max = max(y)\n",
    "x_max = max(x)\n",
    "\n",
    "z_min = min(z)\n",
    "y_min = min(y)\n",
    "x_min = min(x)"
   ]
  },
  {
   "cell_type": "code",
   "execution_count": null,
   "metadata": {},
   "outputs": [],
   "source": []
  },
  {
   "cell_type": "code",
   "execution_count": null,
   "metadata": {},
   "outputs": [],
   "source": []
  },
  {
   "cell_type": "code",
   "execution_count": 1,
   "metadata": {},
   "outputs": [
    {
     "ename": "NameError",
     "evalue": "name 'segs' is not defined",
     "output_type": "error",
     "traceback": [
      "\u001b[0;31m---------------------------------------------------------------------------\u001b[0m",
      "\u001b[0;31mNameError\u001b[0m                                 Traceback (most recent call last)",
      "\u001b[0;32m<ipython-input-1-fb65eef05141>\u001b[0m in \u001b[0;36m<module>\u001b[0;34m\u001b[0m\n\u001b[0;32m----> 1\u001b[0;31m \u001b[0msegs_substack\u001b[0m \u001b[0;34m=\u001b[0m \u001b[0msegs\u001b[0m\u001b[0;34m[\u001b[0m\u001b[0mz_min\u001b[0m\u001b[0;34m:\u001b[0m\u001b[0mz_max\u001b[0m\u001b[0;34m+\u001b[0m\u001b[0;36m1\u001b[0m\u001b[0;34m,\u001b[0m \u001b[0my_min\u001b[0m\u001b[0;34m:\u001b[0m\u001b[0my_max\u001b[0m\u001b[0;34m+\u001b[0m\u001b[0;36m1\u001b[0m\u001b[0;34m,\u001b[0m \u001b[0mx_min\u001b[0m\u001b[0;34m:\u001b[0m\u001b[0mx_max\u001b[0m\u001b[0;34m+\u001b[0m\u001b[0;36m1\u001b[0m\u001b[0;34m]\u001b[0m\u001b[0;34m\u001b[0m\u001b[0;34m\u001b[0m\u001b[0m\n\u001b[0m",
      "\u001b[0;31mNameError\u001b[0m: name 'segs' is not defined"
     ]
    }
   ],
   "source": [
    "segs_substack = segs[z_min:z_max+1, y_min:y_max+1, x_min:x_max+1]"
   ]
  },
  {
   "cell_type": "code",
   "execution_count": null,
   "metadata": {},
   "outputs": [],
   "source": []
  },
  {
   "cell_type": "code",
   "execution_count": 112,
   "metadata": {},
   "outputs": [
    {
     "data": {
      "text/plain": [
       "array([[[0, 0, 0, ..., 0, 0, 0],\n",
       "        [0, 0, 0, ..., 0, 0, 0]],\n",
       "\n",
       "       [[0, 0, 0, ..., 0, 0, 0],\n",
       "        [0, 0, 0, ..., 0, 0, 0]],\n",
       "\n",
       "       [[0, 0, 0, ..., 0, 0, 0],\n",
       "        [0, 0, 0, ..., 0, 0, 0]],\n",
       "\n",
       "       ...,\n",
       "\n",
       "       [[0, 0, 0, ..., 0, 0, 0],\n",
       "        [0, 0, 0, ..., 0, 0, 0]],\n",
       "\n",
       "       [[0, 0, 0, ..., 0, 0, 0],\n",
       "        [0, 0, 0, ..., 0, 0, 0]],\n",
       "\n",
       "       [[0, 0, 0, ..., 0, 0, 0],\n",
       "        [0, 0, 0, ..., 0, 0, 0]]], dtype=uint8)"
      ]
     },
     "execution_count": 112,
     "metadata": {},
     "output_type": "execute_result"
    }
   ],
   "source": [
    "segs_substack"
   ]
  },
  {
   "cell_type": "code",
   "execution_count": null,
   "metadata": {},
   "outputs": [],
   "source": []
  },
  {
   "cell_type": "code",
   "execution_count": null,
   "metadata": {},
   "outputs": [],
   "source": []
  },
  {
   "cell_type": "code",
   "execution_count": null,
   "metadata": {},
   "outputs": [],
   "source": []
  },
  {
   "cell_type": "code",
   "execution_count": 105,
   "metadata": {},
   "outputs": [],
   "source": [
    "# labeled_substack, num_segs = ndi.measurements.label(segs_substack, np.ones((3,3,3)))"
   ]
  },
  {
   "cell_type": "code",
   "execution_count": 110,
   "metadata": {},
   "outputs": [],
   "source": [
    "# act_labels = []\n",
    "# for each in segs_at_node:\n",
    "#     act_labels.append(labeled_substack[segs_info[each][1]][segs_info[each][2]][segs_info[each][3]])\n",
    "                                       \n",
    "                                    \n",
    "    \n",
    "    \n"
   ]
  },
  {
   "cell_type": "code",
   "execution_count": null,
   "metadata": {},
   "outputs": [],
   "source": []
  },
  {
   "cell_type": "code",
   "execution_count": 109,
   "metadata": {},
   "outputs": [
    {
     "data": {
      "text/plain": [
       "{}"
      ]
     },
     "execution_count": 109,
     "metadata": {},
     "output_type": "execute_result"
    }
   ],
   "source": [
    "fig = plt.figure()\n",
    "ax = plt.axes(projection='3d')\n",
    "ax.po(segs_substack,  edgecolor='k')"
   ]
  },
  {
   "cell_type": "code",
   "execution_count": null,
   "metadata": {},
   "outputs": [],
   "source": [
    "#  size of substack (each side)\n",
    "Z_margin = 100\n",
    "Y_margin = 100\n",
    "X_margin = 100\n",
    "\n",
    "#  center of substack\n",
    "Center_Z = 44\n",
    "Center_Y = 1404\n",
    "Center_X = 2537\n",
    "\n",
    "sub_stack = segs[Center_Z-Z_margin:Center_Z+Z_margin+1,Center_Y-Y_margin:Center_Y+Y_margin+1, Center_X-X_margin:Center_X+X_margin+1]"
   ]
  },
  {
   "cell_type": "code",
   "execution_count": null,
   "metadata": {},
   "outputs": [],
   "source": []
  },
  {
   "cell_type": "code",
   "execution_count": null,
   "metadata": {},
   "outputs": [],
   "source": []
  },
  {
   "cell_type": "code",
   "execution_count": null,
   "metadata": {},
   "outputs": [],
   "source": []
  },
  {
   "cell_type": "code",
   "execution_count": null,
   "metadata": {},
   "outputs": [],
   "source": []
  },
  {
   "cell_type": "code",
   "execution_count": null,
   "metadata": {},
   "outputs": [],
   "source": []
  }
 ],
 "metadata": {
  "kernelspec": {
   "display_name": "Python 3",
   "language": "python",
   "name": "python3"
  },
  "language_info": {
   "codemirror_mode": {
    "name": "ipython",
    "version": 3
   },
   "file_extension": ".py",
   "mimetype": "text/x-python",
   "name": "python",
   "nbconvert_exporter": "python",
   "pygments_lexer": "ipython3",
   "version": "3.7.3"
  }
 },
 "nbformat": 4,
 "nbformat_minor": 4
}
