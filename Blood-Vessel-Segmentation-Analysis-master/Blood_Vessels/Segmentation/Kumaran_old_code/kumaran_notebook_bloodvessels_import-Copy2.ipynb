{
 "cells": [
  {
   "cell_type": "code",
   "execution_count": 1,
   "metadata": {},
   "outputs": [
    {
     "name": "stderr",
     "output_type": "stream",
     "text": [
      "/Users/spencerlab/anaconda3/lib/python3.7/site-packages/matplotlib/__init__.py:855: MatplotlibDeprecationWarning: \n",
      "examples.directory is deprecated; in the future, examples will be found relative to the 'datapath' directory.\n",
      "  \"found relative to the 'datapath' directory.\".format(key))\n",
      "/Users/spencerlab/anaconda3/lib/python3.7/site-packages/matplotlib/__init__.py:846: MatplotlibDeprecationWarning: \n",
      "The text.latex.unicode rcparam was deprecated in Matplotlib 2.2 and will be removed in 3.1.\n",
      "  \"2.2\", name=key, obj_type=\"rcparam\", addendum=addendum)\n"
     ]
    }
   ],
   "source": [
    "import numpy as np\n",
    "import matplotlib.pyplot as plt\n",
    "from scipy import ndimage as ndi\n",
    "import matplotlib\n",
    "\n",
    "import cv2\n",
    "\n",
    "from skimage.morphology import watershed\n",
    "from skimage.feature import peak_local_max\n",
    "from PIL import Image\n",
    "\n",
    "from skimage.morphology import skeletonize, thin\n",
    "from skimage.util import invert\n",
    "from skimage import measure\n",
    "from skimage.morphology import erosion, dilation, opening, closing, white_tophat\n",
    "from skimage.morphology import black_tophat, skeletonize, convex_hull_image\n",
    "from skimage.morphology import disk\n",
    "from skimage import feature\n",
    "from skimage.filters import roberts, sobel, scharr, prewitt\n",
    "import seaborn as sns\n",
    "sns.reset_orig()\n",
    "\n",
    "from skimage import restoration\n",
    "\n",
    "from skimage import exposure\n",
    "from skimage.filters import gaussian\n",
    "\n",
    "from scipy import ndimage\n",
    "\n",
    "from time import time\n",
    "\n",
    "from skimage.color import rgb2gray\n",
    "\n",
    "from skimage.color import rgb2hsv\n",
    "from skimage.color import hsv2rgb\n",
    "\n",
    "\n",
    "\n",
    "from skimage.filters.rank import entropy\n",
    "import scipy\n",
    "\n",
    "from skimage import data, filters\n",
    "import scipy\n",
    "\n",
    "import networkx as nx\n",
    "from scipy import interpolate\n",
    "\n",
    "from skimage.segmentation import random_walker\n",
    "from skimage.data import binary_blobs\n",
    "from skimage.exposure import rescale_intensity\n",
    "import glob\n",
    "\n",
    "from skimage.morphology import disk\n",
    "from skimage import io\n",
    "\n",
    "from mpl_toolkits.mplot3d import Axes3D\n",
    "from skimage import io\n",
    "from skimage import data\n",
    "from skimage.filters import gaussian\n",
    "from skimage.segmentation import active_contour"
   ]
  },
  {
   "cell_type": "code",
   "execution_count": 2,
   "metadata": {},
   "outputs": [],
   "source": [
    "parade = np.asarray(Image.open('RGBParadeImagesSpencerLab/RedChannelParadeRGBSequence1103.tif'))\n",
    "\n",
    "\n",
    "mask= np.logical_and((parade[:,:,1]==parade[:,:,0]), (parade[:,:,2]==parade[:,:,0]))\n",
    "parade2 = parade.copy()\n",
    "\n",
    "mask=mask==0\n",
    "parade2[:,:,0] = mask*parade[:,:,0]\n",
    "parade2[:,:,1] = mask*parade[:,:,1]\n",
    "parade2[:,:,2] = mask*parade[:,:,2]\n",
    "parade2[:,:,3] = mask*parade[:,:,3]"
   ]
  },
  {
   "cell_type": "code",
   "execution_count": 3,
   "metadata": {},
   "outputs": [],
   "source": [
    "stack = io.imread(\"Stitch_9_G001.tif\")"
   ]
  },
  {
   "cell_type": "code",
   "execution_count": null,
   "metadata": {},
   "outputs": [],
   "source": []
  },
  {
   "cell_type": "code",
   "execution_count": 6,
   "metadata": {},
   "outputs": [],
   "source": [
    "def hsv_constraints(image):\n",
    "    \n",
    "    hsv_img = rgb2hsv(image)\n",
    "    \n",
    "    r_flat = (image[:,:,0]).flatten()\n",
    "    g_flat = (image[:,:,1]).flatten()\n",
    "    b_flat = (image[:,:,2]).flatten()\n",
    "\n",
    "\n",
    "\n",
    "    h_flat = (hsv_img[:,:,0]).flatten()\n",
    "    s_flat = (hsv_img[:,:,1]).flatten()\n",
    "    v_flat = (hsv_img[:,:,2]).flatten()\n",
    "    \n",
    "    \n",
    "    \n",
    "    h_flat_2 = []\n",
    "    s_flat_2 = []\n",
    "    v_flat_2 = []\n",
    "    \n",
    "    \n",
    "    for i in range(len(r_flat)):\n",
    "        if r_flat[i]!=0 or g_flat[i]!=0 or b_flat[i]!=0:\n",
    "            h_flat_2.append(h_flat[i])\n",
    "            s_flat_2.append(s_flat[i])\n",
    "            v_flat_2.append(v_flat[i])\n",
    "    \n",
    "    \n",
    "    h_flat_2 = np.asarray(h_flat_2)\n",
    "\n",
    "    \n",
    "    h_unk = np.unique(h_flat_2)\n",
    "    min_hue = h_unk[0]\n",
    "    max_hue = h_unk[-1]\n",
    "\n",
    "\n",
    "    diff = max_hue-min_hue\n",
    "    \n",
    "    \n",
    "    \n",
    "    \n",
    "    \n",
    "    \n",
    "    \n",
    "    neg = (h_flat_2-1)*(h_flat_2>=0.5)\n",
    "    pos = h_flat_2*(h_flat_2<0.5)\n",
    "    rang = neg+pos\n",
    "    unk_rang = np.unique(rang)\n",
    "    \n",
    "    min_hue_2 = unk_rang[0]\n",
    "    max_hue_2 = unk_rang[-1]\n",
    "    \n",
    "    \n",
    "    if diff> max_hue_2-min_hue_2:\n",
    "        min_hue = min_hue_2\n",
    "        max_hue = max_hue_2\n",
    "    \n",
    "    \n",
    "    \n",
    "    \n",
    "    \n",
    "    \n",
    "    \n",
    "    \n",
    "    unk_Sat = np.unique(s_flat_2)\n",
    "    unk_Val = np.unique(v_flat_2)\n",
    "    \n",
    "    \n",
    "    min_sat = unk_Sat[0]\n",
    "    max_sat = unk_Sat[-1]\n",
    "    \n",
    "    min_val = unk_Val[0]\n",
    "    max_val = unk_Val[-1]\n",
    "    \n",
    "    return min_hue, max_hue, min_sat, max_sat, min_val, max_val"
   ]
  },
  {
   "cell_type": "code",
   "execution_count": 7,
   "metadata": {},
   "outputs": [],
   "source": [
    "def keep_inrange(hsv_img, min_h, max_h):\n",
    "    \n",
    "    \n",
    "    neg = (hsv_img[:,:,0]-1)*(hsv_img[:,:,0]>=0.5)\n",
    "    #neg=neg*(neg>=min_h)\n",
    "    \n",
    "    \n",
    "    pos = hsv_img[:,:,0]*(hsv_img[:,:,0]<0.5)\n",
    "    #pos = pos*(pos<=max_h)\n",
    "    \n",
    "    \n",
    "    #ret = neg+pos\n",
    "    \n",
    "    ret_hsv = hsv_img.copy()\n",
    "    \n",
    "    ret_hsv[:,:,1] = hsv_img[:,:,1]*(neg>=min_h)*(pos<=max_h)\n",
    "    \n",
    "    return ret_hsv"
   ]
  },
  {
   "cell_type": "code",
   "execution_count": 8,
   "metadata": {},
   "outputs": [],
   "source": [
    "def clean(inpt):\n",
    "    ret = inpt.copy()\n",
    "    for i in range(len(inpt)):\n",
    "        for x in range(len(inpt[0])):\n",
    "            if np.isnan(inpt[i,x]):\n",
    "                ret[i,x]=0\n",
    "            else:\n",
    "                ret[i,x]=inpt[i,x]\n",
    "        \n",
    "    return ret"
   ]
  },
  {
   "cell_type": "code",
   "execution_count": 9,
   "metadata": {},
   "outputs": [],
   "source": [
    "def denoise_repeat(image_stk, patch_size, patch_distance, h, n):\n",
    "    ret = image_stk\n",
    "    for i in range(n):\n",
    "        ret=restoration.denoise_nl_means(ret, patch_size=patch_size, patch_distance=patch_distance, h=h)\n",
    "        ret=clean(ret)\n",
    "    return ret"
   ]
  },
  {
   "cell_type": "code",
   "execution_count": 10,
   "metadata": {},
   "outputs": [],
   "source": [
    "def mix_filters(image, patch_size, patch_distance, h, n, canny_sigma, denoise_tresh):\n",
    "    nlm = denoise_repeat(image[:,:,0], patch_size, patch_distance, h, n)\n",
    "    \n",
    "    edges = feature.canny(image[:,:,0], canny_sigma)\n",
    "    \n",
    "    \n",
    "    mix_tresh = np.logical_or(edges,(nlm>denoise_tresh))\n",
    "    \n",
    "    return mix_tresh"
   ]
  },
  {
   "cell_type": "code",
   "execution_count": 11,
   "metadata": {},
   "outputs": [],
   "source": [
    "def remove_specs(inpt, max_spec_size):\n",
    "    ret = np.ones(inpt.shape)\n",
    "    for i in range(len(inpt)):\n",
    "        for x in range(len(inpt[0])):\n",
    "            num = 0\n",
    "            for n1 in range(-1,2):\n",
    "                for n2 in range(-1,2):\n",
    "                    try:\n",
    "                        if inpt[i+n1, x+n2] ==1:\n",
    "                            num=num+1\n",
    "                    except:\n",
    "                        cat = 0\n",
    "            if num <=max_spec_size:\n",
    "                ret[i, x] = 0\n",
    "            else:\n",
    "                ret[i, x] = inpt[i, x]\n",
    "            \n",
    "    return ret"
   ]
  },
  {
   "cell_type": "code",
   "execution_count": 12,
   "metadata": {},
   "outputs": [
    {
     "name": "stderr",
     "output_type": "stream",
     "text": [
      "/Users/spencerlab/anaconda3/lib/python3.7/site-packages/skimage/color/colorconv.py:279: RuntimeWarning: divide by zero encountered in true_divide\n",
      "  out[idx, 0] = 2. + (arr[idx, 2] - arr[idx, 0]) / delta[idx]\n",
      "/Users/spencerlab/anaconda3/lib/python3.7/site-packages/skimage/color/colorconv.py:283: RuntimeWarning: divide by zero encountered in true_divide\n",
      "  out[idx, 0] = 4. + (arr[idx, 0] - arr[idx, 1]) / delta[idx]\n"
     ]
    }
   ],
   "source": [
    "mih, mah, mis, mas, miv, mav = hsv_constraints(parade2[:,:,:3])"
   ]
  },
  {
   "cell_type": "code",
   "execution_count": 16,
   "metadata": {},
   "outputs": [
    {
     "data": {
      "text/plain": [
       "[-0.03, 0.06047197640117993, 0.6, 1.0, 0.00784313725490196, 1.0]"
      ]
     },
     "execution_count": 16,
     "metadata": {},
     "output_type": "execute_result"
    }
   ],
   "source": [
    "[mih, mah, mis, mas, miv, mav]"
   ]
  },
  {
   "cell_type": "code",
   "execution_count": 14,
   "metadata": {},
   "outputs": [],
   "source": [
    "mis = 0.6\n",
    "mih = -0.03"
   ]
  },
  {
   "cell_type": "code",
   "execution_count": null,
   "metadata": {},
   "outputs": [],
   "source": []
  },
  {
   "cell_type": "code",
   "execution_count": 17,
   "metadata": {},
   "outputs": [],
   "source": [
    "def color_leave_filter(image, min_hue, max_hue, min_sat, max_sat, min_val, max_val):\n",
    "    \n",
    "    hsv_img = rgb2hsv(image) \n",
    "    \n",
    "    kir = keep_inrange(hsv_img, min_hue, max_hue)\n",
    "    \n",
    "    kir2=kir.copy()\n",
    "    kir2[:,:,1]=kir2[:,:,1]\n",
    "    kir2[:,:,2]=kir2[:,:,2]*(kir2[:,:,1]>=min_sat)*(kir2[:,:,1]<=max_sat)*(kir2[:,:,2]>=min_val)*(kir2[:,:,2]<=max_val)\n",
    "    \n",
    "\n",
    "    return (np.round(hsv2rgb(kir2)*255).astype('uint8'))"
   ]
  },
  {
   "cell_type": "code",
   "execution_count": null,
   "metadata": {},
   "outputs": [],
   "source": []
  },
  {
   "cell_type": "code",
   "execution_count": null,
   "metadata": {},
   "outputs": [
    {
     "name": "stderr",
     "output_type": "stream",
     "text": [
      "/Users/spencerlab/anaconda3/lib/python3.7/site-packages/skimage/color/colorconv.py:269: RuntimeWarning: divide by zero encountered in true_divide\n",
      "  out_s = delta / out_v\n",
      "/Users/spencerlab/anaconda3/lib/python3.7/site-packages/skimage/color/colorconv.py:275: RuntimeWarning: divide by zero encountered in true_divide\n",
      "  out[idx, 0] = (arr[idx, 1] - arr[idx, 2]) / delta[idx]\n",
      "/Users/spencerlab/anaconda3/lib/python3.7/site-packages/skimage/restoration/non_local_means.py:132: UserWarning: denoise_nl_means will default to multichannel=False in v0.15\n",
      "  warn('denoise_nl_means will default to multichannel=False in v0.15')\n",
      "/Users/spencerlab/anaconda3/lib/python3.7/site-packages/skimage/restoration/non_local_means.py:132: UserWarning: denoise_nl_means will default to multichannel=False in v0.15\n",
      "  warn('denoise_nl_means will default to multichannel=False in v0.15')\n"
     ]
    },
    {
     "name": "stdout",
     "output_type": "stream",
     "text": [
      "180\n"
     ]
    },
    {
     "name": "stderr",
     "output_type": "stream",
     "text": [
      "/Users/spencerlab/anaconda3/lib/python3.7/site-packages/skimage/restoration/non_local_means.py:132: UserWarning: denoise_nl_means will default to multichannel=False in v0.15\n",
      "  warn('denoise_nl_means will default to multichannel=False in v0.15')\n",
      "/Users/spencerlab/anaconda3/lib/python3.7/site-packages/skimage/restoration/non_local_means.py:132: UserWarning: denoise_nl_means will default to multichannel=False in v0.15\n",
      "  warn('denoise_nl_means will default to multichannel=False in v0.15')\n"
     ]
    },
    {
     "name": "stdout",
     "output_type": "stream",
     "text": [
      "181\n"
     ]
    },
    {
     "name": "stderr",
     "output_type": "stream",
     "text": [
      "/Users/spencerlab/anaconda3/lib/python3.7/site-packages/skimage/restoration/non_local_means.py:132: UserWarning: denoise_nl_means will default to multichannel=False in v0.15\n",
      "  warn('denoise_nl_means will default to multichannel=False in v0.15')\n",
      "/Users/spencerlab/anaconda3/lib/python3.7/site-packages/skimage/restoration/non_local_means.py:132: UserWarning: denoise_nl_means will default to multichannel=False in v0.15\n",
      "  warn('denoise_nl_means will default to multichannel=False in v0.15')\n"
     ]
    },
    {
     "name": "stdout",
     "output_type": "stream",
     "text": [
      "182\n"
     ]
    },
    {
     "name": "stderr",
     "output_type": "stream",
     "text": [
      "/Users/spencerlab/anaconda3/lib/python3.7/site-packages/skimage/restoration/non_local_means.py:132: UserWarning: denoise_nl_means will default to multichannel=False in v0.15\n",
      "  warn('denoise_nl_means will default to multichannel=False in v0.15')\n",
      "/Users/spencerlab/anaconda3/lib/python3.7/site-packages/skimage/restoration/non_local_means.py:132: UserWarning: denoise_nl_means will default to multichannel=False in v0.15\n",
      "  warn('denoise_nl_means will default to multichannel=False in v0.15')\n"
     ]
    },
    {
     "name": "stdout",
     "output_type": "stream",
     "text": [
      "183\n"
     ]
    },
    {
     "name": "stderr",
     "output_type": "stream",
     "text": [
      "/Users/spencerlab/anaconda3/lib/python3.7/site-packages/skimage/restoration/non_local_means.py:132: UserWarning: denoise_nl_means will default to multichannel=False in v0.15\n",
      "  warn('denoise_nl_means will default to multichannel=False in v0.15')\n",
      "/Users/spencerlab/anaconda3/lib/python3.7/site-packages/skimage/restoration/non_local_means.py:132: UserWarning: denoise_nl_means will default to multichannel=False in v0.15\n",
      "  warn('denoise_nl_means will default to multichannel=False in v0.15')\n"
     ]
    },
    {
     "name": "stdout",
     "output_type": "stream",
     "text": [
      "184\n"
     ]
    },
    {
     "name": "stderr",
     "output_type": "stream",
     "text": [
      "/Users/spencerlab/anaconda3/lib/python3.7/site-packages/skimage/restoration/non_local_means.py:132: UserWarning: denoise_nl_means will default to multichannel=False in v0.15\n",
      "  warn('denoise_nl_means will default to multichannel=False in v0.15')\n",
      "/Users/spencerlab/anaconda3/lib/python3.7/site-packages/skimage/restoration/non_local_means.py:132: UserWarning: denoise_nl_means will default to multichannel=False in v0.15\n",
      "  warn('denoise_nl_means will default to multichannel=False in v0.15')\n"
     ]
    },
    {
     "name": "stdout",
     "output_type": "stream",
     "text": [
      "185\n"
     ]
    },
    {
     "name": "stderr",
     "output_type": "stream",
     "text": [
      "/Users/spencerlab/anaconda3/lib/python3.7/site-packages/skimage/restoration/non_local_means.py:132: UserWarning: denoise_nl_means will default to multichannel=False in v0.15\n",
      "  warn('denoise_nl_means will default to multichannel=False in v0.15')\n",
      "/Users/spencerlab/anaconda3/lib/python3.7/site-packages/skimage/restoration/non_local_means.py:132: UserWarning: denoise_nl_means will default to multichannel=False in v0.15\n",
      "  warn('denoise_nl_means will default to multichannel=False in v0.15')\n"
     ]
    },
    {
     "name": "stdout",
     "output_type": "stream",
     "text": [
      "186\n"
     ]
    },
    {
     "name": "stderr",
     "output_type": "stream",
     "text": [
      "/Users/spencerlab/anaconda3/lib/python3.7/site-packages/skimage/restoration/non_local_means.py:132: UserWarning: denoise_nl_means will default to multichannel=False in v0.15\n",
      "  warn('denoise_nl_means will default to multichannel=False in v0.15')\n",
      "/Users/spencerlab/anaconda3/lib/python3.7/site-packages/skimage/restoration/non_local_means.py:132: UserWarning: denoise_nl_means will default to multichannel=False in v0.15\n",
      "  warn('denoise_nl_means will default to multichannel=False in v0.15')\n"
     ]
    },
    {
     "name": "stdout",
     "output_type": "stream",
     "text": [
      "187\n"
     ]
    },
    {
     "name": "stderr",
     "output_type": "stream",
     "text": [
      "/Users/spencerlab/anaconda3/lib/python3.7/site-packages/skimage/restoration/non_local_means.py:132: UserWarning: denoise_nl_means will default to multichannel=False in v0.15\n",
      "  warn('denoise_nl_means will default to multichannel=False in v0.15')\n",
      "/Users/spencerlab/anaconda3/lib/python3.7/site-packages/skimage/restoration/non_local_means.py:132: UserWarning: denoise_nl_means will default to multichannel=False in v0.15\n",
      "  warn('denoise_nl_means will default to multichannel=False in v0.15')\n"
     ]
    },
    {
     "name": "stdout",
     "output_type": "stream",
     "text": [
      "188\n"
     ]
    },
    {
     "name": "stderr",
     "output_type": "stream",
     "text": [
      "/Users/spencerlab/anaconda3/lib/python3.7/site-packages/skimage/restoration/non_local_means.py:132: UserWarning: denoise_nl_means will default to multichannel=False in v0.15\n",
      "  warn('denoise_nl_means will default to multichannel=False in v0.15')\n",
      "/Users/spencerlab/anaconda3/lib/python3.7/site-packages/skimage/restoration/non_local_means.py:132: UserWarning: denoise_nl_means will default to multichannel=False in v0.15\n",
      "  warn('denoise_nl_means will default to multichannel=False in v0.15')\n"
     ]
    },
    {
     "name": "stdout",
     "output_type": "stream",
     "text": [
      "189\n"
     ]
    },
    {
     "name": "stderr",
     "output_type": "stream",
     "text": [
      "/Users/spencerlab/anaconda3/lib/python3.7/site-packages/skimage/restoration/non_local_means.py:132: UserWarning: denoise_nl_means will default to multichannel=False in v0.15\n",
      "  warn('denoise_nl_means will default to multichannel=False in v0.15')\n",
      "/Users/spencerlab/anaconda3/lib/python3.7/site-packages/skimage/restoration/non_local_means.py:132: UserWarning: denoise_nl_means will default to multichannel=False in v0.15\n",
      "  warn('denoise_nl_means will default to multichannel=False in v0.15')\n"
     ]
    },
    {
     "name": "stdout",
     "output_type": "stream",
     "text": [
      "190\n"
     ]
    },
    {
     "name": "stderr",
     "output_type": "stream",
     "text": [
      "/Users/spencerlab/anaconda3/lib/python3.7/site-packages/skimage/restoration/non_local_means.py:132: UserWarning: denoise_nl_means will default to multichannel=False in v0.15\n",
      "  warn('denoise_nl_means will default to multichannel=False in v0.15')\n",
      "/Users/spencerlab/anaconda3/lib/python3.7/site-packages/skimage/restoration/non_local_means.py:132: UserWarning: denoise_nl_means will default to multichannel=False in v0.15\n",
      "  warn('denoise_nl_means will default to multichannel=False in v0.15')\n"
     ]
    },
    {
     "name": "stdout",
     "output_type": "stream",
     "text": [
      "191\n"
     ]
    },
    {
     "name": "stderr",
     "output_type": "stream",
     "text": [
      "/Users/spencerlab/anaconda3/lib/python3.7/site-packages/skimage/restoration/non_local_means.py:132: UserWarning: denoise_nl_means will default to multichannel=False in v0.15\n",
      "  warn('denoise_nl_means will default to multichannel=False in v0.15')\n",
      "/Users/spencerlab/anaconda3/lib/python3.7/site-packages/skimage/restoration/non_local_means.py:132: UserWarning: denoise_nl_means will default to multichannel=False in v0.15\n",
      "  warn('denoise_nl_means will default to multichannel=False in v0.15')\n"
     ]
    },
    {
     "name": "stdout",
     "output_type": "stream",
     "text": [
      "192\n"
     ]
    },
    {
     "name": "stderr",
     "output_type": "stream",
     "text": [
      "/Users/spencerlab/anaconda3/lib/python3.7/site-packages/skimage/restoration/non_local_means.py:132: UserWarning: denoise_nl_means will default to multichannel=False in v0.15\n",
      "  warn('denoise_nl_means will default to multichannel=False in v0.15')\n",
      "/Users/spencerlab/anaconda3/lib/python3.7/site-packages/skimage/restoration/non_local_means.py:132: UserWarning: denoise_nl_means will default to multichannel=False in v0.15\n",
      "  warn('denoise_nl_means will default to multichannel=False in v0.15')\n"
     ]
    },
    {
     "name": "stdout",
     "output_type": "stream",
     "text": [
      "193\n"
     ]
    },
    {
     "name": "stderr",
     "output_type": "stream",
     "text": [
      "/Users/spencerlab/anaconda3/lib/python3.7/site-packages/skimage/restoration/non_local_means.py:132: UserWarning: denoise_nl_means will default to multichannel=False in v0.15\n",
      "  warn('denoise_nl_means will default to multichannel=False in v0.15')\n",
      "/Users/spencerlab/anaconda3/lib/python3.7/site-packages/skimage/restoration/non_local_means.py:132: UserWarning: denoise_nl_means will default to multichannel=False in v0.15\n",
      "  warn('denoise_nl_means will default to multichannel=False in v0.15')\n"
     ]
    },
    {
     "name": "stdout",
     "output_type": "stream",
     "text": [
      "194\n"
     ]
    },
    {
     "name": "stderr",
     "output_type": "stream",
     "text": [
      "/Users/spencerlab/anaconda3/lib/python3.7/site-packages/skimage/restoration/non_local_means.py:132: UserWarning: denoise_nl_means will default to multichannel=False in v0.15\n",
      "  warn('denoise_nl_means will default to multichannel=False in v0.15')\n",
      "/Users/spencerlab/anaconda3/lib/python3.7/site-packages/skimage/restoration/non_local_means.py:132: UserWarning: denoise_nl_means will default to multichannel=False in v0.15\n",
      "  warn('denoise_nl_means will default to multichannel=False in v0.15')\n"
     ]
    },
    {
     "name": "stdout",
     "output_type": "stream",
     "text": [
      "195\n"
     ]
    },
    {
     "name": "stderr",
     "output_type": "stream",
     "text": [
      "/Users/spencerlab/anaconda3/lib/python3.7/site-packages/skimage/restoration/non_local_means.py:132: UserWarning: denoise_nl_means will default to multichannel=False in v0.15\n",
      "  warn('denoise_nl_means will default to multichannel=False in v0.15')\n",
      "/Users/spencerlab/anaconda3/lib/python3.7/site-packages/skimage/restoration/non_local_means.py:132: UserWarning: denoise_nl_means will default to multichannel=False in v0.15\n",
      "  warn('denoise_nl_means will default to multichannel=False in v0.15')\n"
     ]
    },
    {
     "name": "stdout",
     "output_type": "stream",
     "text": [
      "196\n"
     ]
    },
    {
     "name": "stderr",
     "output_type": "stream",
     "text": [
      "/Users/spencerlab/anaconda3/lib/python3.7/site-packages/skimage/restoration/non_local_means.py:132: UserWarning: denoise_nl_means will default to multichannel=False in v0.15\n",
      "  warn('denoise_nl_means will default to multichannel=False in v0.15')\n",
      "/Users/spencerlab/anaconda3/lib/python3.7/site-packages/skimage/restoration/non_local_means.py:132: UserWarning: denoise_nl_means will default to multichannel=False in v0.15\n",
      "  warn('denoise_nl_means will default to multichannel=False in v0.15')\n"
     ]
    },
    {
     "name": "stdout",
     "output_type": "stream",
     "text": [
      "197\n"
     ]
    },
    {
     "name": "stderr",
     "output_type": "stream",
     "text": [
      "/Users/spencerlab/anaconda3/lib/python3.7/site-packages/skimage/restoration/non_local_means.py:132: UserWarning: denoise_nl_means will default to multichannel=False in v0.15\n",
      "  warn('denoise_nl_means will default to multichannel=False in v0.15')\n",
      "/Users/spencerlab/anaconda3/lib/python3.7/site-packages/skimage/restoration/non_local_means.py:132: UserWarning: denoise_nl_means will default to multichannel=False in v0.15\n",
      "  warn('denoise_nl_means will default to multichannel=False in v0.15')\n"
     ]
    },
    {
     "name": "stdout",
     "output_type": "stream",
     "text": [
      "198\n"
     ]
    },
    {
     "name": "stderr",
     "output_type": "stream",
     "text": [
      "/Users/spencerlab/anaconda3/lib/python3.7/site-packages/skimage/restoration/non_local_means.py:132: UserWarning: denoise_nl_means will default to multichannel=False in v0.15\n",
      "  warn('denoise_nl_means will default to multichannel=False in v0.15')\n",
      "/Users/spencerlab/anaconda3/lib/python3.7/site-packages/skimage/restoration/non_local_means.py:132: UserWarning: denoise_nl_means will default to multichannel=False in v0.15\n",
      "  warn('denoise_nl_means will default to multichannel=False in v0.15')\n"
     ]
    },
    {
     "name": "stdout",
     "output_type": "stream",
     "text": [
      "199\n"
     ]
    },
    {
     "name": "stderr",
     "output_type": "stream",
     "text": [
      "/Users/spencerlab/anaconda3/lib/python3.7/site-packages/skimage/restoration/non_local_means.py:132: UserWarning: denoise_nl_means will default to multichannel=False in v0.15\n",
      "  warn('denoise_nl_means will default to multichannel=False in v0.15')\n",
      "/Users/spencerlab/anaconda3/lib/python3.7/site-packages/skimage/restoration/non_local_means.py:132: UserWarning: denoise_nl_means will default to multichannel=False in v0.15\n",
      "  warn('denoise_nl_means will default to multichannel=False in v0.15')\n"
     ]
    },
    {
     "name": "stdout",
     "output_type": "stream",
     "text": [
      "200\n"
     ]
    },
    {
     "name": "stderr",
     "output_type": "stream",
     "text": [
      "/Users/spencerlab/anaconda3/lib/python3.7/site-packages/skimage/restoration/non_local_means.py:132: UserWarning: denoise_nl_means will default to multichannel=False in v0.15\n",
      "  warn('denoise_nl_means will default to multichannel=False in v0.15')\n",
      "/Users/spencerlab/anaconda3/lib/python3.7/site-packages/skimage/restoration/non_local_means.py:132: UserWarning: denoise_nl_means will default to multichannel=False in v0.15\n",
      "  warn('denoise_nl_means will default to multichannel=False in v0.15')\n"
     ]
    },
    {
     "name": "stdout",
     "output_type": "stream",
     "text": [
      "201\n"
     ]
    },
    {
     "name": "stderr",
     "output_type": "stream",
     "text": [
      "/Users/spencerlab/anaconda3/lib/python3.7/site-packages/skimage/restoration/non_local_means.py:132: UserWarning: denoise_nl_means will default to multichannel=False in v0.15\n",
      "  warn('denoise_nl_means will default to multichannel=False in v0.15')\n",
      "/Users/spencerlab/anaconda3/lib/python3.7/site-packages/skimage/restoration/non_local_means.py:132: UserWarning: denoise_nl_means will default to multichannel=False in v0.15\n",
      "  warn('denoise_nl_means will default to multichannel=False in v0.15')\n"
     ]
    },
    {
     "name": "stdout",
     "output_type": "stream",
     "text": [
      "202\n"
     ]
    },
    {
     "name": "stderr",
     "output_type": "stream",
     "text": [
      "/Users/spencerlab/anaconda3/lib/python3.7/site-packages/skimage/restoration/non_local_means.py:132: UserWarning: denoise_nl_means will default to multichannel=False in v0.15\n",
      "  warn('denoise_nl_means will default to multichannel=False in v0.15')\n",
      "/Users/spencerlab/anaconda3/lib/python3.7/site-packages/skimage/restoration/non_local_means.py:132: UserWarning: denoise_nl_means will default to multichannel=False in v0.15\n",
      "  warn('denoise_nl_means will default to multichannel=False in v0.15')\n"
     ]
    },
    {
     "name": "stdout",
     "output_type": "stream",
     "text": [
      "203\n"
     ]
    },
    {
     "name": "stderr",
     "output_type": "stream",
     "text": [
      "/Users/spencerlab/anaconda3/lib/python3.7/site-packages/skimage/restoration/non_local_means.py:132: UserWarning: denoise_nl_means will default to multichannel=False in v0.15\n",
      "  warn('denoise_nl_means will default to multichannel=False in v0.15')\n",
      "/Users/spencerlab/anaconda3/lib/python3.7/site-packages/skimage/restoration/non_local_means.py:132: UserWarning: denoise_nl_means will default to multichannel=False in v0.15\n",
      "  warn('denoise_nl_means will default to multichannel=False in v0.15')\n"
     ]
    },
    {
     "name": "stdout",
     "output_type": "stream",
     "text": [
      "204\n"
     ]
    },
    {
     "name": "stderr",
     "output_type": "stream",
     "text": [
      "/Users/spencerlab/anaconda3/lib/python3.7/site-packages/skimage/restoration/non_local_means.py:132: UserWarning: denoise_nl_means will default to multichannel=False in v0.15\n",
      "  warn('denoise_nl_means will default to multichannel=False in v0.15')\n",
      "/Users/spencerlab/anaconda3/lib/python3.7/site-packages/skimage/restoration/non_local_means.py:132: UserWarning: denoise_nl_means will default to multichannel=False in v0.15\n",
      "  warn('denoise_nl_means will default to multichannel=False in v0.15')\n"
     ]
    },
    {
     "name": "stdout",
     "output_type": "stream",
     "text": [
      "205\n"
     ]
    },
    {
     "name": "stderr",
     "output_type": "stream",
     "text": [
      "/Users/spencerlab/anaconda3/lib/python3.7/site-packages/skimage/restoration/non_local_means.py:132: UserWarning: denoise_nl_means will default to multichannel=False in v0.15\n",
      "  warn('denoise_nl_means will default to multichannel=False in v0.15')\n",
      "/Users/spencerlab/anaconda3/lib/python3.7/site-packages/skimage/restoration/non_local_means.py:132: UserWarning: denoise_nl_means will default to multichannel=False in v0.15\n",
      "  warn('denoise_nl_means will default to multichannel=False in v0.15')\n"
     ]
    },
    {
     "name": "stdout",
     "output_type": "stream",
     "text": [
      "206\n"
     ]
    },
    {
     "name": "stderr",
     "output_type": "stream",
     "text": [
      "/Users/spencerlab/anaconda3/lib/python3.7/site-packages/skimage/restoration/non_local_means.py:132: UserWarning: denoise_nl_means will default to multichannel=False in v0.15\n",
      "  warn('denoise_nl_means will default to multichannel=False in v0.15')\n",
      "/Users/spencerlab/anaconda3/lib/python3.7/site-packages/skimage/restoration/non_local_means.py:132: UserWarning: denoise_nl_means will default to multichannel=False in v0.15\n",
      "  warn('denoise_nl_means will default to multichannel=False in v0.15')\n"
     ]
    },
    {
     "name": "stdout",
     "output_type": "stream",
     "text": [
      "207\n"
     ]
    },
    {
     "name": "stderr",
     "output_type": "stream",
     "text": [
      "/Users/spencerlab/anaconda3/lib/python3.7/site-packages/skimage/restoration/non_local_means.py:132: UserWarning: denoise_nl_means will default to multichannel=False in v0.15\n",
      "  warn('denoise_nl_means will default to multichannel=False in v0.15')\n",
      "/Users/spencerlab/anaconda3/lib/python3.7/site-packages/skimage/restoration/non_local_means.py:132: UserWarning: denoise_nl_means will default to multichannel=False in v0.15\n",
      "  warn('denoise_nl_means will default to multichannel=False in v0.15')\n"
     ]
    },
    {
     "name": "stdout",
     "output_type": "stream",
     "text": [
      "208\n"
     ]
    },
    {
     "name": "stderr",
     "output_type": "stream",
     "text": [
      "/Users/spencerlab/anaconda3/lib/python3.7/site-packages/skimage/restoration/non_local_means.py:132: UserWarning: denoise_nl_means will default to multichannel=False in v0.15\n",
      "  warn('denoise_nl_means will default to multichannel=False in v0.15')\n",
      "/Users/spencerlab/anaconda3/lib/python3.7/site-packages/skimage/restoration/non_local_means.py:132: UserWarning: denoise_nl_means will default to multichannel=False in v0.15\n",
      "  warn('denoise_nl_means will default to multichannel=False in v0.15')\n"
     ]
    },
    {
     "name": "stdout",
     "output_type": "stream",
     "text": [
      "209\n"
     ]
    },
    {
     "name": "stderr",
     "output_type": "stream",
     "text": [
      "/Users/spencerlab/anaconda3/lib/python3.7/site-packages/skimage/restoration/non_local_means.py:132: UserWarning: denoise_nl_means will default to multichannel=False in v0.15\n",
      "  warn('denoise_nl_means will default to multichannel=False in v0.15')\n",
      "/Users/spencerlab/anaconda3/lib/python3.7/site-packages/skimage/restoration/non_local_means.py:132: UserWarning: denoise_nl_means will default to multichannel=False in v0.15\n",
      "  warn('denoise_nl_means will default to multichannel=False in v0.15')\n"
     ]
    },
    {
     "name": "stdout",
     "output_type": "stream",
     "text": [
      "210\n"
     ]
    },
    {
     "name": "stderr",
     "output_type": "stream",
     "text": [
      "/Users/spencerlab/anaconda3/lib/python3.7/site-packages/skimage/restoration/non_local_means.py:132: UserWarning: denoise_nl_means will default to multichannel=False in v0.15\n",
      "  warn('denoise_nl_means will default to multichannel=False in v0.15')\n",
      "/Users/spencerlab/anaconda3/lib/python3.7/site-packages/skimage/restoration/non_local_means.py:132: UserWarning: denoise_nl_means will default to multichannel=False in v0.15\n",
      "  warn('denoise_nl_means will default to multichannel=False in v0.15')\n"
     ]
    },
    {
     "name": "stdout",
     "output_type": "stream",
     "text": [
      "211\n"
     ]
    },
    {
     "name": "stderr",
     "output_type": "stream",
     "text": [
      "/Users/spencerlab/anaconda3/lib/python3.7/site-packages/skimage/restoration/non_local_means.py:132: UserWarning: denoise_nl_means will default to multichannel=False in v0.15\n",
      "  warn('denoise_nl_means will default to multichannel=False in v0.15')\n",
      "/Users/spencerlab/anaconda3/lib/python3.7/site-packages/skimage/restoration/non_local_means.py:132: UserWarning: denoise_nl_means will default to multichannel=False in v0.15\n",
      "  warn('denoise_nl_means will default to multichannel=False in v0.15')\n"
     ]
    },
    {
     "name": "stdout",
     "output_type": "stream",
     "text": [
      "212\n"
     ]
    },
    {
     "name": "stderr",
     "output_type": "stream",
     "text": [
      "/Users/spencerlab/anaconda3/lib/python3.7/site-packages/skimage/restoration/non_local_means.py:132: UserWarning: denoise_nl_means will default to multichannel=False in v0.15\n",
      "  warn('denoise_nl_means will default to multichannel=False in v0.15')\n",
      "/Users/spencerlab/anaconda3/lib/python3.7/site-packages/skimage/restoration/non_local_means.py:132: UserWarning: denoise_nl_means will default to multichannel=False in v0.15\n",
      "  warn('denoise_nl_means will default to multichannel=False in v0.15')\n"
     ]
    },
    {
     "name": "stdout",
     "output_type": "stream",
     "text": [
      "213\n"
     ]
    },
    {
     "name": "stderr",
     "output_type": "stream",
     "text": [
      "/Users/spencerlab/anaconda3/lib/python3.7/site-packages/skimage/restoration/non_local_means.py:132: UserWarning: denoise_nl_means will default to multichannel=False in v0.15\n",
      "  warn('denoise_nl_means will default to multichannel=False in v0.15')\n",
      "/Users/spencerlab/anaconda3/lib/python3.7/site-packages/skimage/restoration/non_local_means.py:132: UserWarning: denoise_nl_means will default to multichannel=False in v0.15\n",
      "  warn('denoise_nl_means will default to multichannel=False in v0.15')\n"
     ]
    },
    {
     "name": "stdout",
     "output_type": "stream",
     "text": [
      "214\n"
     ]
    },
    {
     "name": "stderr",
     "output_type": "stream",
     "text": [
      "/Users/spencerlab/anaconda3/lib/python3.7/site-packages/skimage/restoration/non_local_means.py:132: UserWarning: denoise_nl_means will default to multichannel=False in v0.15\n",
      "  warn('denoise_nl_means will default to multichannel=False in v0.15')\n",
      "/Users/spencerlab/anaconda3/lib/python3.7/site-packages/skimage/restoration/non_local_means.py:132: UserWarning: denoise_nl_means will default to multichannel=False in v0.15\n",
      "  warn('denoise_nl_means will default to multichannel=False in v0.15')\n"
     ]
    },
    {
     "name": "stdout",
     "output_type": "stream",
     "text": [
      "215\n"
     ]
    },
    {
     "name": "stderr",
     "output_type": "stream",
     "text": [
      "/Users/spencerlab/anaconda3/lib/python3.7/site-packages/skimage/restoration/non_local_means.py:132: UserWarning: denoise_nl_means will default to multichannel=False in v0.15\n",
      "  warn('denoise_nl_means will default to multichannel=False in v0.15')\n",
      "/Users/spencerlab/anaconda3/lib/python3.7/site-packages/skimage/restoration/non_local_means.py:132: UserWarning: denoise_nl_means will default to multichannel=False in v0.15\n",
      "  warn('denoise_nl_means will default to multichannel=False in v0.15')\n"
     ]
    },
    {
     "name": "stdout",
     "output_type": "stream",
     "text": [
      "216\n"
     ]
    },
    {
     "name": "stderr",
     "output_type": "stream",
     "text": [
      "/Users/spencerlab/anaconda3/lib/python3.7/site-packages/skimage/restoration/non_local_means.py:132: UserWarning: denoise_nl_means will default to multichannel=False in v0.15\n",
      "  warn('denoise_nl_means will default to multichannel=False in v0.15')\n",
      "/Users/spencerlab/anaconda3/lib/python3.7/site-packages/skimage/restoration/non_local_means.py:132: UserWarning: denoise_nl_means will default to multichannel=False in v0.15\n",
      "  warn('denoise_nl_means will default to multichannel=False in v0.15')\n"
     ]
    },
    {
     "name": "stdout",
     "output_type": "stream",
     "text": [
      "217\n"
     ]
    },
    {
     "name": "stderr",
     "output_type": "stream",
     "text": [
      "/Users/spencerlab/anaconda3/lib/python3.7/site-packages/skimage/restoration/non_local_means.py:132: UserWarning: denoise_nl_means will default to multichannel=False in v0.15\n",
      "  warn('denoise_nl_means will default to multichannel=False in v0.15')\n",
      "/Users/spencerlab/anaconda3/lib/python3.7/site-packages/skimage/restoration/non_local_means.py:132: UserWarning: denoise_nl_means will default to multichannel=False in v0.15\n",
      "  warn('denoise_nl_means will default to multichannel=False in v0.15')\n"
     ]
    },
    {
     "name": "stdout",
     "output_type": "stream",
     "text": [
      "218\n"
     ]
    },
    {
     "name": "stderr",
     "output_type": "stream",
     "text": [
      "/Users/spencerlab/anaconda3/lib/python3.7/site-packages/skimage/restoration/non_local_means.py:132: UserWarning: denoise_nl_means will default to multichannel=False in v0.15\n",
      "  warn('denoise_nl_means will default to multichannel=False in v0.15')\n",
      "/Users/spencerlab/anaconda3/lib/python3.7/site-packages/skimage/restoration/non_local_means.py:132: UserWarning: denoise_nl_means will default to multichannel=False in v0.15\n",
      "  warn('denoise_nl_means will default to multichannel=False in v0.15')\n"
     ]
    },
    {
     "name": "stdout",
     "output_type": "stream",
     "text": [
      "219\n"
     ]
    },
    {
     "name": "stderr",
     "output_type": "stream",
     "text": [
      "/Users/spencerlab/anaconda3/lib/python3.7/site-packages/skimage/restoration/non_local_means.py:132: UserWarning: denoise_nl_means will default to multichannel=False in v0.15\n",
      "  warn('denoise_nl_means will default to multichannel=False in v0.15')\n",
      "/Users/spencerlab/anaconda3/lib/python3.7/site-packages/skimage/restoration/non_local_means.py:132: UserWarning: denoise_nl_means will default to multichannel=False in v0.15\n",
      "  warn('denoise_nl_means will default to multichannel=False in v0.15')\n"
     ]
    },
    {
     "name": "stdout",
     "output_type": "stream",
     "text": [
      "220\n"
     ]
    },
    {
     "name": "stderr",
     "output_type": "stream",
     "text": [
      "/Users/spencerlab/anaconda3/lib/python3.7/site-packages/skimage/restoration/non_local_means.py:132: UserWarning: denoise_nl_means will default to multichannel=False in v0.15\n",
      "  warn('denoise_nl_means will default to multichannel=False in v0.15')\n",
      "/Users/spencerlab/anaconda3/lib/python3.7/site-packages/skimage/restoration/non_local_means.py:132: UserWarning: denoise_nl_means will default to multichannel=False in v0.15\n",
      "  warn('denoise_nl_means will default to multichannel=False in v0.15')\n"
     ]
    },
    {
     "name": "stdout",
     "output_type": "stream",
     "text": [
      "221\n"
     ]
    },
    {
     "name": "stderr",
     "output_type": "stream",
     "text": [
      "/Users/spencerlab/anaconda3/lib/python3.7/site-packages/skimage/restoration/non_local_means.py:132: UserWarning: denoise_nl_means will default to multichannel=False in v0.15\n",
      "  warn('denoise_nl_means will default to multichannel=False in v0.15')\n",
      "/Users/spencerlab/anaconda3/lib/python3.7/site-packages/skimage/restoration/non_local_means.py:132: UserWarning: denoise_nl_means will default to multichannel=False in v0.15\n",
      "  warn('denoise_nl_means will default to multichannel=False in v0.15')\n"
     ]
    },
    {
     "name": "stdout",
     "output_type": "stream",
     "text": [
      "222\n"
     ]
    },
    {
     "name": "stderr",
     "output_type": "stream",
     "text": [
      "/Users/spencerlab/anaconda3/lib/python3.7/site-packages/skimage/restoration/non_local_means.py:132: UserWarning: denoise_nl_means will default to multichannel=False in v0.15\n",
      "  warn('denoise_nl_means will default to multichannel=False in v0.15')\n",
      "/Users/spencerlab/anaconda3/lib/python3.7/site-packages/skimage/restoration/non_local_means.py:132: UserWarning: denoise_nl_means will default to multichannel=False in v0.15\n",
      "  warn('denoise_nl_means will default to multichannel=False in v0.15')\n"
     ]
    },
    {
     "name": "stdout",
     "output_type": "stream",
     "text": [
      "223\n"
     ]
    },
    {
     "name": "stderr",
     "output_type": "stream",
     "text": [
      "/Users/spencerlab/anaconda3/lib/python3.7/site-packages/skimage/restoration/non_local_means.py:132: UserWarning: denoise_nl_means will default to multichannel=False in v0.15\n",
      "  warn('denoise_nl_means will default to multichannel=False in v0.15')\n",
      "/Users/spencerlab/anaconda3/lib/python3.7/site-packages/skimage/restoration/non_local_means.py:132: UserWarning: denoise_nl_means will default to multichannel=False in v0.15\n",
      "  warn('denoise_nl_means will default to multichannel=False in v0.15')\n"
     ]
    },
    {
     "name": "stdout",
     "output_type": "stream",
     "text": [
      "224\n"
     ]
    },
    {
     "name": "stderr",
     "output_type": "stream",
     "text": [
      "/Users/spencerlab/anaconda3/lib/python3.7/site-packages/skimage/restoration/non_local_means.py:132: UserWarning: denoise_nl_means will default to multichannel=False in v0.15\n",
      "  warn('denoise_nl_means will default to multichannel=False in v0.15')\n",
      "/Users/spencerlab/anaconda3/lib/python3.7/site-packages/skimage/restoration/non_local_means.py:132: UserWarning: denoise_nl_means will default to multichannel=False in v0.15\n",
      "  warn('denoise_nl_means will default to multichannel=False in v0.15')\n"
     ]
    },
    {
     "name": "stdout",
     "output_type": "stream",
     "text": [
      "225\n"
     ]
    },
    {
     "name": "stderr",
     "output_type": "stream",
     "text": [
      "/Users/spencerlab/anaconda3/lib/python3.7/site-packages/skimage/restoration/non_local_means.py:132: UserWarning: denoise_nl_means will default to multichannel=False in v0.15\n",
      "  warn('denoise_nl_means will default to multichannel=False in v0.15')\n",
      "/Users/spencerlab/anaconda3/lib/python3.7/site-packages/skimage/restoration/non_local_means.py:132: UserWarning: denoise_nl_means will default to multichannel=False in v0.15\n",
      "  warn('denoise_nl_means will default to multichannel=False in v0.15')\n"
     ]
    },
    {
     "name": "stdout",
     "output_type": "stream",
     "text": [
      "226\n"
     ]
    },
    {
     "name": "stderr",
     "output_type": "stream",
     "text": [
      "/Users/spencerlab/anaconda3/lib/python3.7/site-packages/skimage/restoration/non_local_means.py:132: UserWarning: denoise_nl_means will default to multichannel=False in v0.15\n",
      "  warn('denoise_nl_means will default to multichannel=False in v0.15')\n",
      "/Users/spencerlab/anaconda3/lib/python3.7/site-packages/skimage/restoration/non_local_means.py:132: UserWarning: denoise_nl_means will default to multichannel=False in v0.15\n",
      "  warn('denoise_nl_means will default to multichannel=False in v0.15')\n"
     ]
    },
    {
     "name": "stdout",
     "output_type": "stream",
     "text": [
      "227\n"
     ]
    },
    {
     "name": "stderr",
     "output_type": "stream",
     "text": [
      "/Users/spencerlab/anaconda3/lib/python3.7/site-packages/skimage/restoration/non_local_means.py:132: UserWarning: denoise_nl_means will default to multichannel=False in v0.15\n",
      "  warn('denoise_nl_means will default to multichannel=False in v0.15')\n",
      "/Users/spencerlab/anaconda3/lib/python3.7/site-packages/skimage/restoration/non_local_means.py:132: UserWarning: denoise_nl_means will default to multichannel=False in v0.15\n",
      "  warn('denoise_nl_means will default to multichannel=False in v0.15')\n"
     ]
    },
    {
     "name": "stdout",
     "output_type": "stream",
     "text": [
      "228\n"
     ]
    },
    {
     "name": "stderr",
     "output_type": "stream",
     "text": [
      "/Users/spencerlab/anaconda3/lib/python3.7/site-packages/skimage/restoration/non_local_means.py:132: UserWarning: denoise_nl_means will default to multichannel=False in v0.15\n",
      "  warn('denoise_nl_means will default to multichannel=False in v0.15')\n",
      "/Users/spencerlab/anaconda3/lib/python3.7/site-packages/skimage/restoration/non_local_means.py:132: UserWarning: denoise_nl_means will default to multichannel=False in v0.15\n",
      "  warn('denoise_nl_means will default to multichannel=False in v0.15')\n"
     ]
    },
    {
     "name": "stdout",
     "output_type": "stream",
     "text": [
      "229\n"
     ]
    },
    {
     "name": "stderr",
     "output_type": "stream",
     "text": [
      "/Users/spencerlab/anaconda3/lib/python3.7/site-packages/skimage/restoration/non_local_means.py:132: UserWarning: denoise_nl_means will default to multichannel=False in v0.15\n",
      "  warn('denoise_nl_means will default to multichannel=False in v0.15')\n",
      "/Users/spencerlab/anaconda3/lib/python3.7/site-packages/skimage/restoration/non_local_means.py:132: UserWarning: denoise_nl_means will default to multichannel=False in v0.15\n",
      "  warn('denoise_nl_means will default to multichannel=False in v0.15')\n"
     ]
    },
    {
     "name": "stdout",
     "output_type": "stream",
     "text": [
      "230\n"
     ]
    },
    {
     "name": "stderr",
     "output_type": "stream",
     "text": [
      "/Users/spencerlab/anaconda3/lib/python3.7/site-packages/skimage/restoration/non_local_means.py:132: UserWarning: denoise_nl_means will default to multichannel=False in v0.15\n",
      "  warn('denoise_nl_means will default to multichannel=False in v0.15')\n",
      "/Users/spencerlab/anaconda3/lib/python3.7/site-packages/skimage/restoration/non_local_means.py:132: UserWarning: denoise_nl_means will default to multichannel=False in v0.15\n",
      "  warn('denoise_nl_means will default to multichannel=False in v0.15')\n"
     ]
    },
    {
     "name": "stdout",
     "output_type": "stream",
     "text": [
      "231\n"
     ]
    },
    {
     "name": "stderr",
     "output_type": "stream",
     "text": [
      "/Users/spencerlab/anaconda3/lib/python3.7/site-packages/skimage/restoration/non_local_means.py:132: UserWarning: denoise_nl_means will default to multichannel=False in v0.15\n",
      "  warn('denoise_nl_means will default to multichannel=False in v0.15')\n",
      "/Users/spencerlab/anaconda3/lib/python3.7/site-packages/skimage/restoration/non_local_means.py:132: UserWarning: denoise_nl_means will default to multichannel=False in v0.15\n",
      "  warn('denoise_nl_means will default to multichannel=False in v0.15')\n"
     ]
    },
    {
     "name": "stdout",
     "output_type": "stream",
     "text": [
      "232\n"
     ]
    },
    {
     "name": "stderr",
     "output_type": "stream",
     "text": [
      "/Users/spencerlab/anaconda3/lib/python3.7/site-packages/skimage/restoration/non_local_means.py:132: UserWarning: denoise_nl_means will default to multichannel=False in v0.15\n",
      "  warn('denoise_nl_means will default to multichannel=False in v0.15')\n",
      "/Users/spencerlab/anaconda3/lib/python3.7/site-packages/skimage/restoration/non_local_means.py:132: UserWarning: denoise_nl_means will default to multichannel=False in v0.15\n",
      "  warn('denoise_nl_means will default to multichannel=False in v0.15')\n"
     ]
    },
    {
     "name": "stdout",
     "output_type": "stream",
     "text": [
      "233\n"
     ]
    },
    {
     "name": "stderr",
     "output_type": "stream",
     "text": [
      "/Users/spencerlab/anaconda3/lib/python3.7/site-packages/skimage/restoration/non_local_means.py:132: UserWarning: denoise_nl_means will default to multichannel=False in v0.15\n",
      "  warn('denoise_nl_means will default to multichannel=False in v0.15')\n",
      "/Users/spencerlab/anaconda3/lib/python3.7/site-packages/skimage/restoration/non_local_means.py:132: UserWarning: denoise_nl_means will default to multichannel=False in v0.15\n",
      "  warn('denoise_nl_means will default to multichannel=False in v0.15')\n"
     ]
    },
    {
     "name": "stdout",
     "output_type": "stream",
     "text": [
      "234\n"
     ]
    },
    {
     "name": "stderr",
     "output_type": "stream",
     "text": [
      "/Users/spencerlab/anaconda3/lib/python3.7/site-packages/skimage/restoration/non_local_means.py:132: UserWarning: denoise_nl_means will default to multichannel=False in v0.15\n",
      "  warn('denoise_nl_means will default to multichannel=False in v0.15')\n",
      "/Users/spencerlab/anaconda3/lib/python3.7/site-packages/skimage/restoration/non_local_means.py:132: UserWarning: denoise_nl_means will default to multichannel=False in v0.15\n",
      "  warn('denoise_nl_means will default to multichannel=False in v0.15')\n"
     ]
    },
    {
     "name": "stdout",
     "output_type": "stream",
     "text": [
      "235\n"
     ]
    },
    {
     "name": "stderr",
     "output_type": "stream",
     "text": [
      "/Users/spencerlab/anaconda3/lib/python3.7/site-packages/skimage/restoration/non_local_means.py:132: UserWarning: denoise_nl_means will default to multichannel=False in v0.15\n",
      "  warn('denoise_nl_means will default to multichannel=False in v0.15')\n",
      "/Users/spencerlab/anaconda3/lib/python3.7/site-packages/skimage/restoration/non_local_means.py:132: UserWarning: denoise_nl_means will default to multichannel=False in v0.15\n",
      "  warn('denoise_nl_means will default to multichannel=False in v0.15')\n"
     ]
    },
    {
     "name": "stdout",
     "output_type": "stream",
     "text": [
      "236\n"
     ]
    },
    {
     "name": "stderr",
     "output_type": "stream",
     "text": [
      "/Users/spencerlab/anaconda3/lib/python3.7/site-packages/skimage/restoration/non_local_means.py:132: UserWarning: denoise_nl_means will default to multichannel=False in v0.15\n",
      "  warn('denoise_nl_means will default to multichannel=False in v0.15')\n",
      "/Users/spencerlab/anaconda3/lib/python3.7/site-packages/skimage/restoration/non_local_means.py:132: UserWarning: denoise_nl_means will default to multichannel=False in v0.15\n",
      "  warn('denoise_nl_means will default to multichannel=False in v0.15')\n"
     ]
    },
    {
     "name": "stdout",
     "output_type": "stream",
     "text": [
      "237\n"
     ]
    },
    {
     "name": "stderr",
     "output_type": "stream",
     "text": [
      "/Users/spencerlab/anaconda3/lib/python3.7/site-packages/skimage/restoration/non_local_means.py:132: UserWarning: denoise_nl_means will default to multichannel=False in v0.15\n",
      "  warn('denoise_nl_means will default to multichannel=False in v0.15')\n",
      "/Users/spencerlab/anaconda3/lib/python3.7/site-packages/skimage/restoration/non_local_means.py:132: UserWarning: denoise_nl_means will default to multichannel=False in v0.15\n",
      "  warn('denoise_nl_means will default to multichannel=False in v0.15')\n"
     ]
    },
    {
     "name": "stdout",
     "output_type": "stream",
     "text": [
      "238\n"
     ]
    },
    {
     "name": "stderr",
     "output_type": "stream",
     "text": [
      "/Users/spencerlab/anaconda3/lib/python3.7/site-packages/skimage/restoration/non_local_means.py:132: UserWarning: denoise_nl_means will default to multichannel=False in v0.15\n",
      "  warn('denoise_nl_means will default to multichannel=False in v0.15')\n",
      "/Users/spencerlab/anaconda3/lib/python3.7/site-packages/skimage/restoration/non_local_means.py:132: UserWarning: denoise_nl_means will default to multichannel=False in v0.15\n",
      "  warn('denoise_nl_means will default to multichannel=False in v0.15')\n"
     ]
    },
    {
     "name": "stdout",
     "output_type": "stream",
     "text": [
      "239\n"
     ]
    },
    {
     "name": "stderr",
     "output_type": "stream",
     "text": [
      "/Users/spencerlab/anaconda3/lib/python3.7/site-packages/skimage/restoration/non_local_means.py:132: UserWarning: denoise_nl_means will default to multichannel=False in v0.15\n",
      "  warn('denoise_nl_means will default to multichannel=False in v0.15')\n",
      "/Users/spencerlab/anaconda3/lib/python3.7/site-packages/skimage/restoration/non_local_means.py:132: UserWarning: denoise_nl_means will default to multichannel=False in v0.15\n",
      "  warn('denoise_nl_means will default to multichannel=False in v0.15')\n"
     ]
    },
    {
     "name": "stdout",
     "output_type": "stream",
     "text": [
      "240\n"
     ]
    },
    {
     "name": "stderr",
     "output_type": "stream",
     "text": [
      "/Users/spencerlab/anaconda3/lib/python3.7/site-packages/skimage/restoration/non_local_means.py:132: UserWarning: denoise_nl_means will default to multichannel=False in v0.15\n",
      "  warn('denoise_nl_means will default to multichannel=False in v0.15')\n",
      "/Users/spencerlab/anaconda3/lib/python3.7/site-packages/skimage/restoration/non_local_means.py:132: UserWarning: denoise_nl_means will default to multichannel=False in v0.15\n",
      "  warn('denoise_nl_means will default to multichannel=False in v0.15')\n"
     ]
    },
    {
     "name": "stdout",
     "output_type": "stream",
     "text": [
      "241\n"
     ]
    },
    {
     "name": "stderr",
     "output_type": "stream",
     "text": [
      "/Users/spencerlab/anaconda3/lib/python3.7/site-packages/skimage/restoration/non_local_means.py:132: UserWarning: denoise_nl_means will default to multichannel=False in v0.15\n",
      "  warn('denoise_nl_means will default to multichannel=False in v0.15')\n",
      "/Users/spencerlab/anaconda3/lib/python3.7/site-packages/skimage/restoration/non_local_means.py:132: UserWarning: denoise_nl_means will default to multichannel=False in v0.15\n",
      "  warn('denoise_nl_means will default to multichannel=False in v0.15')\n"
     ]
    },
    {
     "name": "stdout",
     "output_type": "stream",
     "text": [
      "242\n"
     ]
    },
    {
     "name": "stderr",
     "output_type": "stream",
     "text": [
      "/Users/spencerlab/anaconda3/lib/python3.7/site-packages/skimage/restoration/non_local_means.py:132: UserWarning: denoise_nl_means will default to multichannel=False in v0.15\n",
      "  warn('denoise_nl_means will default to multichannel=False in v0.15')\n",
      "/Users/spencerlab/anaconda3/lib/python3.7/site-packages/skimage/restoration/non_local_means.py:132: UserWarning: denoise_nl_means will default to multichannel=False in v0.15\n",
      "  warn('denoise_nl_means will default to multichannel=False in v0.15')\n"
     ]
    },
    {
     "name": "stdout",
     "output_type": "stream",
     "text": [
      "243\n"
     ]
    },
    {
     "name": "stderr",
     "output_type": "stream",
     "text": [
      "/Users/spencerlab/anaconda3/lib/python3.7/site-packages/skimage/restoration/non_local_means.py:132: UserWarning: denoise_nl_means will default to multichannel=False in v0.15\n",
      "  warn('denoise_nl_means will default to multichannel=False in v0.15')\n",
      "/Users/spencerlab/anaconda3/lib/python3.7/site-packages/skimage/restoration/non_local_means.py:132: UserWarning: denoise_nl_means will default to multichannel=False in v0.15\n",
      "  warn('denoise_nl_means will default to multichannel=False in v0.15')\n"
     ]
    },
    {
     "name": "stdout",
     "output_type": "stream",
     "text": [
      "244\n"
     ]
    },
    {
     "name": "stderr",
     "output_type": "stream",
     "text": [
      "/Users/spencerlab/anaconda3/lib/python3.7/site-packages/skimage/restoration/non_local_means.py:132: UserWarning: denoise_nl_means will default to multichannel=False in v0.15\n",
      "  warn('denoise_nl_means will default to multichannel=False in v0.15')\n",
      "/Users/spencerlab/anaconda3/lib/python3.7/site-packages/skimage/restoration/non_local_means.py:132: UserWarning: denoise_nl_means will default to multichannel=False in v0.15\n",
      "  warn('denoise_nl_means will default to multichannel=False in v0.15')\n"
     ]
    },
    {
     "name": "stdout",
     "output_type": "stream",
     "text": [
      "245\n"
     ]
    },
    {
     "name": "stderr",
     "output_type": "stream",
     "text": [
      "/Users/spencerlab/anaconda3/lib/python3.7/site-packages/skimage/restoration/non_local_means.py:132: UserWarning: denoise_nl_means will default to multichannel=False in v0.15\n",
      "  warn('denoise_nl_means will default to multichannel=False in v0.15')\n",
      "/Users/spencerlab/anaconda3/lib/python3.7/site-packages/skimage/restoration/non_local_means.py:132: UserWarning: denoise_nl_means will default to multichannel=False in v0.15\n",
      "  warn('denoise_nl_means will default to multichannel=False in v0.15')\n"
     ]
    },
    {
     "name": "stdout",
     "output_type": "stream",
     "text": [
      "246\n"
     ]
    },
    {
     "name": "stderr",
     "output_type": "stream",
     "text": [
      "/Users/spencerlab/anaconda3/lib/python3.7/site-packages/skimage/restoration/non_local_means.py:132: UserWarning: denoise_nl_means will default to multichannel=False in v0.15\n",
      "  warn('denoise_nl_means will default to multichannel=False in v0.15')\n",
      "/Users/spencerlab/anaconda3/lib/python3.7/site-packages/skimage/restoration/non_local_means.py:132: UserWarning: denoise_nl_means will default to multichannel=False in v0.15\n",
      "  warn('denoise_nl_means will default to multichannel=False in v0.15')\n"
     ]
    },
    {
     "name": "stdout",
     "output_type": "stream",
     "text": [
      "247\n"
     ]
    }
   ],
   "source": [
    "for i in range(180, len(stack)):\n",
    "    clv = color_leave_filter(stack[i], mih, mah, mis, mas, miv, mav)\n",
    "    mfilt = mix_filters(image=clv, patch_size=450, patch_distance=9, h=0.1, n=2, canny_sigma=2, denoise_tresh=50)\n",
    "\n",
    "    square = mfilt!=0\n",
    "    \n",
    "    eroded_square = ndimage.binary_erosion(square)\n",
    "    reconstruction = ndimage.binary_propagation(eroded_square, mask=square)\n",
    "    reconstruction2 = ndimage.binary_closing(reconstruction)\n",
    "    \n",
    "    print(i)\n",
    "    \n",
    "    Image.fromarray(((reconstruction2!=0)*255).astype('uint8')).save('blood_vessels_day_3_v3/'+str(i)+'.tif')"
   ]
  },
  {
   "cell_type": "code",
   "execution_count": null,
   "metadata": {},
   "outputs": [],
   "source": []
  }
 ],
 "metadata": {
  "kernelspec": {
   "display_name": "Python 3",
   "language": "python",
   "name": "python3"
  },
  "language_info": {
   "codemirror_mode": {
    "name": "ipython",
    "version": 3
   },
   "file_extension": ".py",
   "mimetype": "text/x-python",
   "name": "python",
   "nbconvert_exporter": "python",
   "pygments_lexer": "ipython3",
   "version": "3.7.3"
  }
 },
 "nbformat": 4,
 "nbformat_minor": 2
}
