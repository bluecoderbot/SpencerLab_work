{
 "cells": [
  {
   "cell_type": "code",
   "execution_count": 19,
   "metadata": {},
   "outputs": [
    {
     "name": "stderr",
     "output_type": "stream",
     "text": [
      "/Users/spencerlab/anaconda3/lib/python3.7/site-packages/matplotlib/__init__.py:855: MatplotlibDeprecationWarning: \n",
      "examples.directory is deprecated; in the future, examples will be found relative to the 'datapath' directory.\n",
      "  \"found relative to the 'datapath' directory.\".format(key))\n",
      "/Users/spencerlab/anaconda3/lib/python3.7/site-packages/matplotlib/__init__.py:846: MatplotlibDeprecationWarning: \n",
      "The text.latex.unicode rcparam was deprecated in Matplotlib 2.2 and will be removed in 3.1.\n",
      "  \"2.2\", name=key, obj_type=\"rcparam\", addendum=addendum)\n"
     ]
    }
   ],
   "source": [
    "import numpy as np\n",
    "import matplotlib.pyplot as plt\n",
    "from scipy import ndimage as ndi\n",
    "\n",
    "from skimage.morphology import watershed\n",
    "from skimage.feature import peak_local_max\n",
    "from PIL import Image\n",
    "\n",
    "from skimage.morphology import skeletonize, thin\n",
    "from skimage.util import invert\n",
    "from skimage import measure\n",
    "from skimage.morphology import erosion, dilation, opening, closing, white_tophat\n",
    "from skimage.morphology import black_tophat, skeletonize, convex_hull_image\n",
    "from skimage.morphology import disk\n",
    "from skimage import feature\n",
    "from skimage.filters import roberts, sobel, scharr, prewitt\n",
    "import seaborn as sns\n",
    "sns.reset_orig()\n",
    "\n",
    "from skimage import restoration\n",
    "\n",
    "from skimage import exposure\n",
    "from skimage.filters import gaussian\n",
    "\n",
    "from scipy import ndimage\n",
    "\n",
    "from time import time\n",
    "\n",
    "from skimage.color import rgb2gray\n",
    "from scipy import ndimage as ndi\n",
    "\n",
    "from skimage.filters.rank import entropy\n",
    "import scipy\n",
    "\n",
    "\n",
    "import networkx as nx\n",
    "from scipy import interpolate\n",
    "\n",
    "from skimage.segmentation import random_walker\n",
    "from skimage.data import binary_blobs\n",
    "from skimage.exposure import rescale_intensity\n",
    "import glob\n",
    "\n",
    "from skimage.morphology import disk\n",
    "from skimage import io\n",
    "\n",
    "\n",
    "from skimage.external import tifffile\n",
    "\n",
    "import pandas as pd\n",
    "\n",
    "from sklearn.cluster import KMeans\n",
    "\n",
    "from sklearn.cluster import AgglomerativeClustering\n",
    "from sklearn.cluster import DBSCAN\n",
    "\n",
    "import threading\n",
    "\n"
   ]
  },
  {
   "cell_type": "code",
   "execution_count": 20,
   "metadata": {},
   "outputs": [],
   "source": [
    "csv = pd.read_csv('all2.csv')\n",
    "pts = pd.read_csv('points.csv')\n",
    "lab=io.imread('labeled_green_cells.tif')"
   ]
  },
  {
   "cell_type": "code",
   "execution_count": 21,
   "metadata": {},
   "outputs": [],
   "source": [
    "data = np.asarray(csv.values)\n",
    "data2 = data[:,1:4]\n",
    "data2= data2.astype(int)"
   ]
  },
  {
   "cell_type": "code",
   "execution_count": null,
   "metadata": {},
   "outputs": [],
   "source": []
  },
  {
   "cell_type": "code",
   "execution_count": 22,
   "metadata": {},
   "outputs": [
    {
     "name": "stdout",
     "output_type": "stream",
     "text": [
      "[  1   1   2   3   2   4   5   6   1   2   7   2   7   8   9  10  11   5\n",
      "   5   7  12  13  14  14  15   2  16  17  18  19  20  21  22  23  24  25\n",
      "  26  27  28  29  30  31  32  33  34  27   2  14  35  36  37  24  27  14\n",
      "  14  38  39  40  41  42  43  44  24  45  26  46  47  48  49  50  51  41\n",
      "  52  53  54  55  45  41  56  24  57  58  41  41  41  59  59  60  61  62\n",
      "  63  64  65  66  67  53  68  69  70  71  59  72  73  74  75  24  76  45\n",
      "  77  78  79  80  81  82  83  83  84  41  41  53  53  85  69  86  24  87\n",
      "  88  89  90  74  74  41  91  92  80  93  94  95  89  96  97  98  99 100\n",
      " 101 102 103 104  95 105 106 107 108 109 110 111 108  95 112 113 105 114\n",
      " 115 116 117 118 119 120 121 122 123 124 125 126 127 128 129 130 131 130\n",
      " 132 120 133 130 134 135 136 137 138 136 139 140 141 142 143 144 145 146\n",
      " 147 148 149 150 151 152 153 154 155 156 153 157 158 159 160 161 162 163\n",
      " 164 165 166 167 168 169 170 171 172 173 174 175 176 177 178 179 180 181\n",
      " 182 183 184 185 186 187 188 189 178 190 191 192 193 194 195 196 197 198\n",
      " 199 200 201 202 203 204 205 206 202 207 208 209 206 210 210 211 212 213\n",
      " 214 214 215 216 217 218 219 220 221 222 223 223 224 219 224 225 226 227\n",
      " 226 228 229 230 231 232 233 234 235 236 237 238 239 240 241 242 243 244\n",
      " 245 246 241 247 248 249 250 251 252 253 228 228 254 255 256 257 228 258\n",
      " 259 260 261 262 263 264 265 265 256 266 267 228 228 268 269 270 267 228\n",
      " 228 228 271 272 258 228 273 274 275 276 277 278 279 280 269 281 282 283\n",
      " 284 285 286 287 288 289 290 291 292 293 294 295 296 297 298 299 300 301\n",
      " 302 303 304 305 306 307 308 309 310 311 312 313 291 314 308 315 316 317\n",
      " 308 318 319 320 321 322 323 324 325 326 327 328 329 330 331 332 333 334\n",
      " 335 336 336 337 338 339 340 341 315 342 343 344 345 346 347 348 349 350\n",
      " 351 352 353 354 355 356 357 358 359 360 361 362 363 364 365 366 367 368\n",
      " 369 370 371 372 373 374 375 376 377 378 379 380 381 382 383 384 385 386\n",
      " 387 388 389 390 391 392 393 394 395 396 397 398 399 400 401 402 403 404\n",
      " 405 406 407 408 409 410 407 411 412 413 414 415 416 417 418 419 420 421\n",
      " 422 423 424 425 426 427 428 429 430 431 432 433 429 434 435 436 437 438\n",
      " 439 429 440 441 442 443 444 445 446 447 448 449 450 451 452 453 454 455\n",
      " 456 457 458 454 459 460 461 462 463 464 462 465 466 467 468 469 470 471\n",
      " 472 473 474 475 476 477 478 479 480 481 482 483 484 485 486 487 488 489\n",
      " 490 491]\n"
     ]
    }
   ],
   "source": [
    "clustering = DBSCAN(eps=20, min_samples=1).fit(data2)\n",
    "labels = clustering.labels_+1\n",
    "\n",
    "\n",
    "\n",
    "\n",
    "print(labels)\n",
    "\n",
    "\n",
    "\n",
    "mat2 = np.zeros(lab.shape,  dtype='uint16')\n",
    "\n",
    "ptsmat = pts.values\n",
    "for i in range(len(ptsmat)):\n",
    "    point_val = ptsmat[i, -1]\n",
    "    \n",
    "    ind = np.where(data[:,5] == point_val)[0][0]\n",
    "    \n",
    "    \n",
    "    cluster_val = labels[ind]\n",
    "    \n",
    "    #print(ptsmat[i, :3])\n",
    "    \n",
    "    zzz = int((ptsmat[i, 0]))\n",
    "    yyy = int((ptsmat[i, 1]))\n",
    "    xxx = int((ptsmat[i, 2]))\n",
    "    \n",
    "    \n",
    "    mat2[zzz, yyy, xxx]= cluster_val\n",
    "\n",
    "    \n",
    "    \n",
    "tifffile.imsave(\"cluster_labeled.tif\", mat2)"
   ]
  },
  {
   "cell_type": "code",
   "execution_count": null,
   "metadata": {},
   "outputs": [],
   "source": []
  },
  {
   "cell_type": "code",
   "execution_count": null,
   "metadata": {},
   "outputs": [],
   "source": []
  },
  {
   "cell_type": "code",
   "execution_count": null,
   "metadata": {},
   "outputs": [],
   "source": []
  },
  {
   "cell_type": "code",
   "execution_count": null,
   "metadata": {},
   "outputs": [],
   "source": []
  },
  {
   "cell_type": "code",
   "execution_count": null,
   "metadata": {},
   "outputs": [],
   "source": []
  },
  {
   "cell_type": "code",
   "execution_count": null,
   "metadata": {},
   "outputs": [],
   "source": []
  },
  {
   "cell_type": "code",
   "execution_count": null,
   "metadata": {},
   "outputs": [],
   "source": []
  }
 ],
 "metadata": {
  "kernelspec": {
   "display_name": "Python 3",
   "language": "python",
   "name": "python3"
  },
  "language_info": {
   "codemirror_mode": {
    "name": "ipython",
    "version": 3
   },
   "file_extension": ".py",
   "mimetype": "text/x-python",
   "name": "python",
   "nbconvert_exporter": "python",
   "pygments_lexer": "ipython3",
   "version": "3.7.3"
  }
 },
 "nbformat": 4,
 "nbformat_minor": 2
}
