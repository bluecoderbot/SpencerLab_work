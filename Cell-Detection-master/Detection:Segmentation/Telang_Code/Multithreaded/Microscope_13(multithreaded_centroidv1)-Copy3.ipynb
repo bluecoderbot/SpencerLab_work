{
 "cells": [
  {
   "cell_type": "code",
   "execution_count": null,
   "metadata": {},
   "outputs": [],
   "source": []
  },
  {
   "cell_type": "code",
   "execution_count": 1,
   "metadata": {},
   "outputs": [
    {
     "name": "stderr",
     "output_type": "stream",
     "text": [
      "/Users/spencerlab/anaconda3/lib/python3.7/site-packages/matplotlib/__init__.py:855: MatplotlibDeprecationWarning: \n",
      "examples.directory is deprecated; in the future, examples will be found relative to the 'datapath' directory.\n",
      "  \"found relative to the 'datapath' directory.\".format(key))\n",
      "/Users/spencerlab/anaconda3/lib/python3.7/site-packages/matplotlib/__init__.py:846: MatplotlibDeprecationWarning: \n",
      "The text.latex.unicode rcparam was deprecated in Matplotlib 2.2 and will be removed in 3.1.\n",
      "  \"2.2\", name=key, obj_type=\"rcparam\", addendum=addendum)\n"
     ]
    }
   ],
   "source": [
    "import numpy as np\n",
    "import matplotlib.pyplot as plt\n",
    "from scipy import ndimage as ndi\n",
    "import pandas as pd\n",
    "\n",
    "\n",
    "from skimage.morphology import watershed\n",
    "from skimage.feature import peak_local_max\n",
    "from PIL import Image\n",
    "\n",
    "from skimage.morphology import skeletonize, thin\n",
    "from skimage.util import invert\n",
    "from skimage import measure\n",
    "from skimage.morphology import erosion, dilation, opening, closing, white_tophat\n",
    "from skimage.morphology import black_tophat, skeletonize, convex_hull_image\n",
    "from skimage.morphology import disk\n",
    "from skimage import feature\n",
    "from skimage.filters import roberts, sobel, scharr, prewitt\n",
    "import seaborn as sns\n",
    "sns.reset_orig()\n",
    "\n",
    "from skimage import restoration\n",
    "\n",
    "from skimage import exposure\n",
    "from skimage.filters import gaussian\n",
    "\n",
    "from scipy import ndimage\n",
    "\n",
    "from time import time\n",
    "\n",
    "from skimage.color import rgb2gray\n",
    "\n",
    "\n",
    "from skimage.filters.rank import entropy\n",
    "import scipy\n",
    "\n",
    "\n",
    "\n",
    "import networkx as nx\n",
    "from scipy import interpolate\n",
    "\n",
    "from skimage.segmentation import random_walker\n",
    "from skimage.data import binary_blobs\n",
    "from skimage.exposure import rescale_intensity\n",
    "import glob\n",
    "\n",
    "from skimage.morphology import disk\n",
    "from skimage import io\n",
    "from skimage.morphology import remove_small_objects\n",
    "\n",
    "import threading\n",
    "\n",
    "import tifffile\n",
    "\n",
    "#Green_cells_3(centeriod)-Copy3"
   ]
  },
  {
   "cell_type": "code",
   "execution_count": 19,
   "metadata": {},
   "outputs": [],
   "source": [
    "bin_stack=io.imread(\"sample2green.tif\")"
   ]
  },
  {
   "cell_type": "code",
   "execution_count": 30,
   "metadata": {},
   "outputs": [],
   "source": [
    "bin_stack = remove_small_objects(bin_stack.astype(bool), min_size=20, connectivity=1).astype('uint8')*255"
   ]
  },
  {
   "cell_type": "code",
   "execution_count": 31,
   "metadata": {},
   "outputs": [],
   "source": [
    "#stacks = 0\n",
    "#while True:\n",
    "#    n = bin_stacks[stacks]\n",
    "#    a = Image.fromarray(n)\n",
    "#    a.save('red3/'+str(stacks)+\".tif\")\n",
    "#    stacks+=1\n",
    "#    print(stacks)\n",
    " #   if stacks>900:\n",
    "#        break"
   ]
  },
  {
   "cell_type": "code",
   "execution_count": 43,
   "metadata": {},
   "outputs": [],
   "source": [
    "lab = measure.label(bin_stack[180:220],8)"
   ]
  },
  {
   "cell_type": "code",
   "execution_count": 44,
   "metadata": {},
   "outputs": [],
   "source": [
    "unk = np.unique(lab)"
   ]
  },
  {
   "cell_type": "code",
   "execution_count": 45,
   "metadata": {},
   "outputs": [
    {
     "name": "stdout",
     "output_type": "stream",
     "text": [
      "14\n"
     ]
    }
   ],
   "source": [
    "print(len(unk))\n",
    "#4"
   ]
  },
  {
   "cell_type": "code",
   "execution_count": 46,
   "metadata": {},
   "outputs": [
    {
     "name": "stdout",
     "output_type": "stream",
     "text": [
      "14\n"
     ]
    }
   ],
   "source": [
    "#bin_stack=io.imread(\"red4.tif\")\n",
    "#lab = measure.label(bin_stack,8)\n",
    "#unk = np.unique(lab)\n",
    "print(len(unk))\n",
    "#58\n",
    "#2"
   ]
  },
  {
   "cell_type": "code",
   "execution_count": 47,
   "metadata": {},
   "outputs": [
    {
     "name": "stdout",
     "output_type": "stream",
     "text": [
      "0   \n",
      "2   \n",
      "4   \n",
      "6   \n",
      "8   \n",
      "3   \n",
      "5   7   \n",
      "\n",
      "9   \n",
      "4   6   8   \n",
      "10   \n",
      "\n",
      "\n",
      "11   \n",
      "12   \n",
      "13   \n",
      "1   \n",
      "2   \n",
      "Done!\n"
     ]
    }
   ],
   "source": [
    "import threading \n",
    "cells_centroid1 = []\n",
    "cells_centroid2 = []\n",
    "cells_centroid3 = []\n",
    "cells_centroid4 = []\n",
    "cells_centroid5 = []\n",
    "\n",
    "def Centroid(num1,num2,unk,lab,array): \n",
    "    #for i in range(num1, len(unk)):\n",
    "    lab = lab\n",
    "    unk=unk\n",
    "    array = array\n",
    "    for i in range(num1, num2):\n",
    "        \n",
    "        print(str(i)+\"   \")\n",
    "        co_ordinates =np.where(lab==unk[i])\n",
    "        z_c = sum(co_ordinates[0])/len(co_ordinates[0])\n",
    "        y_c = sum(co_ordinates[1])/len(co_ordinates[0])\n",
    "        x_c = sum(co_ordinates[2])/len(co_ordinates[0])\n",
    "\n",
    "        centroid = [z_c+1, y_c+1, x_c+1, len(co_ordinates[0])]\n",
    "        array.append(centroid)\n",
    "\n",
    "  \n",
    "if __name__ == \"__main__\": \n",
    "    # creating thread \n",
    "    x = len(unk)\n",
    "    b = x/5\n",
    "    b = int(b)\n",
    "    t1 = threading.Thread(target=Centroid, args=(0,b+1,unk,lab,cells_centroid1,)) \n",
    "    t2 = threading.Thread(target=Centroid, args=(1*b,2*b+1,unk,lab,cells_centroid2,)) \n",
    "    t3 = threading.Thread(target=Centroid, args=(2*b,3*b+1,unk,lab,cells_centroid3,) )\n",
    "    t4 = threading.Thread(target=Centroid, args=(3*b,4*b+1,unk,lab,cells_centroid4,))\n",
    "    t5 = threading.Thread(target=Centroid, args=(4*b,x,unk,lab,cells_centroid5,))\n",
    "    # starting thread 1 \n",
    "    t1.start() \n",
    "    t2.start() \n",
    "    t3.start() \n",
    "    t4.start()\n",
    "    t5.start()\n",
    "\n",
    "    # wait until thread 1 is completely executed \n",
    "    t1.join() \n",
    "    t2.join() \n",
    "    t3.join() \n",
    "    t4.join() \n",
    "    t5.join() \n",
    "    # both threads completely executed \n",
    "    print(\"Done!\") \n",
    "    \n",
    "    \n",
    "    \n",
    "    "
   ]
  },
  {
   "cell_type": "code",
   "execution_count": 48,
   "metadata": {},
   "outputs": [
    {
     "data": {
      "text/plain": [
       "[[20.499994974778176, 1717.4991505738367, 2691.5006306565465, 739270848],\n",
       " [14.235294117647058, 2345.7450980392155, 2583.4117647058824, 51],\n",
       " [14.464285714285714, 2359.1964285714284, 2578.910714285714, 56]]"
      ]
     },
     "execution_count": 48,
     "metadata": {},
     "output_type": "execute_result"
    }
   ],
   "source": [
    "cells_centroid1"
   ]
  },
  {
   "cell_type": "code",
   "execution_count": 49,
   "metadata": {},
   "outputs": [],
   "source": [
    "cells_centroid = cells_centroid1 + cells_centroid2 + cells_centroid3 + cells_centroid4 + cells_centroid5"
   ]
  },
  {
   "cell_type": "code",
   "execution_count": 50,
   "metadata": {},
   "outputs": [],
   "source": [
    "ctrd = np.asarray(cells_centroid)"
   ]
  },
  {
   "cell_type": "code",
   "execution_count": 51,
   "metadata": {},
   "outputs": [],
   "source": [
    "ctrd = np.round(ctrd)"
   ]
  },
  {
   "cell_type": "code",
   "execution_count": 52,
   "metadata": {},
   "outputs": [],
   "source": [
    "df = pd.DataFrame(ctrd, columns= ['Z', 'Y', 'X', 'size'])"
   ]
  },
  {
   "cell_type": "code",
   "execution_count": 55,
   "metadata": {},
   "outputs": [],
   "source": [
    "df.to_csv('asample2greencells250.csv')"
   ]
  },
  {
   "cell_type": "code",
   "execution_count": 54,
   "metadata": {},
   "outputs": [
    {
     "data": {
      "text/plain": [
       "18"
      ]
     },
     "execution_count": 54,
     "metadata": {},
     "output_type": "execute_result"
    }
   ],
   "source": [
    "len(cells_centroid)"
   ]
  },
  {
   "cell_type": "code",
   "execution_count": null,
   "metadata": {},
   "outputs": [],
   "source": []
  }
 ],
 "metadata": {
  "kernelspec": {
   "display_name": "Python 3",
   "language": "python",
   "name": "python3"
  },
  "language_info": {
   "codemirror_mode": {
    "name": "ipython",
    "version": 3
   },
   "file_extension": ".py",
   "mimetype": "text/x-python",
   "name": "python",
   "nbconvert_exporter": "python",
   "pygments_lexer": "ipython3",
   "version": "3.7.3"
  }
 },
 "nbformat": 4,
 "nbformat_minor": 2
}
