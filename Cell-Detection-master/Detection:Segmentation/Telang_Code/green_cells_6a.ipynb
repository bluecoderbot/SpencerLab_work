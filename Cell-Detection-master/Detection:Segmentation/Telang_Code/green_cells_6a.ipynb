{
 "cells": [
  {
   "cell_type": "code",
   "execution_count": 5,
   "metadata": {},
   "outputs": [
    {
     "name": "stderr",
     "output_type": "stream",
     "text": [
      "/Users/spencerlab/anaconda3/lib/python3.7/site-packages/matplotlib/__init__.py:855: MatplotlibDeprecationWarning: \n",
      "examples.directory is deprecated; in the future, examples will be found relative to the 'datapath' directory.\n",
      "  \"found relative to the 'datapath' directory.\".format(key))\n",
      "/Users/spencerlab/anaconda3/lib/python3.7/site-packages/matplotlib/__init__.py:846: MatplotlibDeprecationWarning: \n",
      "The text.latex.unicode rcparam was deprecated in Matplotlib 2.2 and will be removed in 3.1.\n",
      "  \"2.2\", name=key, obj_type=\"rcparam\", addendum=addendum)\n"
     ]
    }
   ],
   "source": [
    "import numpy as np\n",
    "import matplotlib.pyplot as plt\n",
    "from scipy import ndimage as ndi\n",
    "\n",
    "from skimage.morphology import watershed\n",
    "from skimage.feature import peak_local_max\n",
    "from PIL import Image\n",
    "\n",
    "from skimage.morphology import skeletonize, thin\n",
    "from skimage.util import invert\n",
    "from skimage import measure\n",
    "from skimage.morphology import erosion, dilation, opening, closing, white_tophat\n",
    "from skimage.morphology import black_tophat, skeletonize, convex_hull_image\n",
    "from skimage.morphology import disk\n",
    "from skimage import feature\n",
    "from skimage.filters import roberts, sobel, scharr, prewitt\n",
    "import seaborn as sns\n",
    "sns.reset_orig()\n",
    "\n",
    "from skimage import restoration\n",
    "\n",
    "from skimage import exposure\n",
    "from skimage.filters import gaussian\n",
    "\n",
    "from scipy import ndimage\n",
    "\n",
    "from time import time\n",
    "\n",
    "from skimage.color import rgb2gray\n",
    "from scipy import ndimage as ndi\n",
    "\n",
    "from skimage.filters.rank import entropy\n",
    "import scipy\n",
    "\n",
    "\n",
    "import networkx as nx\n",
    "from scipy import interpolate\n",
    "\n",
    "from skimage.segmentation import random_walker\n",
    "from skimage.data import binary_blobs\n",
    "from skimage.exposure import rescale_intensity\n",
    "import glob\n",
    "\n",
    "from skimage.morphology import disk\n",
    "from skimage import io\n",
    "\n",
    "from skimage.external import tifffile\n",
    "\n"
   ]
  },
  {
   "cell_type": "code",
   "execution_count": 6,
   "metadata": {},
   "outputs": [],
   "source": [
    "bim = io.imread(\"Stack4.tif\")"
   ]
  },
  {
   "cell_type": "code",
   "execution_count": 7,
   "metadata": {},
   "outputs": [],
   "source": [
    "def remove_specs(array, size):\n",
    "    arr=measure.label(array, 8)\n",
    "    unk = np.unique(arr)\n",
    "    mask = np.zeros(array.shape)\n",
    "    \n",
    "    for i in range(1, len(unk)):\n",
    "        cluster = (arr==i)\n",
    "        clt_pts = np.where(cluster==True)\n",
    "        \n",
    "        if len( np.asarray(clt_pts)[0] ) > size:\n",
    "            mask=mask+cluster\n",
    "        \n",
    "\n",
    "    return mask"
   ]
  },
  {
   "cell_type": "code",
   "execution_count": 11,
   "metadata": {},
   "outputs": [
    {
     "name": "stdout",
     "output_type": "stream",
     "text": [
      "1\n",
      "2\n",
      "3\n",
      "4\n",
      "5\n",
      "6\n",
      "7\n",
      "8\n",
      "9\n",
      "10\n",
      "11\n",
      "12\n",
      "13\n",
      "14\n",
      "15\n",
      "16\n",
      "17\n",
      "18\n",
      "19\n",
      "20\n",
      "21\n",
      "22\n",
      "23\n",
      "24\n",
      "25\n",
      "26\n",
      "27\n",
      "28\n",
      "29\n",
      "30\n",
      "31\n",
      "32\n",
      "33\n",
      "34\n",
      "35\n",
      "36\n",
      "37\n",
      "38\n",
      "39\n",
      "40\n",
      "41\n",
      "42\n",
      "43\n",
      "44\n",
      "45\n",
      "46\n",
      "47\n",
      "48\n",
      "49\n",
      "50\n",
      "51\n"
     ]
    }
   ],
   "source": [
    "stacks = 0\n",
    "while True:\n",
    "    c = remove_specs(bim[stacks],3)\n",
    "    a = Image.fromarray(c)\n",
    "    a.save('ab/'+str(stacks)+\".tif\")\n",
    "    \n",
    "    stacks+=1\n",
    "    print(stacks)\n",
    "    if stacks>50:\n",
    "        break"
   ]
  },
  {
   "cell_type": "code",
   "execution_count": null,
   "metadata": {},
   "outputs": [],
   "source": []
  }
 ],
 "metadata": {
  "kernelspec": {
   "display_name": "Python 3",
   "language": "python",
   "name": "python3"
  },
  "language_info": {
   "codemirror_mode": {
    "name": "ipython",
    "version": 3
   },
   "file_extension": ".py",
   "mimetype": "text/x-python",
   "name": "python",
   "nbconvert_exporter": "python",
   "pygments_lexer": "ipython3",
   "version": "3.7.3"
  }
 },
 "nbformat": 4,
 "nbformat_minor": 2
}
