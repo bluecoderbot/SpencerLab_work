{
 "cells": [
  {
   "cell_type": "code",
   "execution_count": 1,
   "metadata": {},
   "outputs": [
    {
     "name": "stderr",
     "output_type": "stream",
     "text": [
      "/Users/spencerlab/anaconda3/lib/python3.7/site-packages/matplotlib/__init__.py:855: MatplotlibDeprecationWarning: \n",
      "examples.directory is deprecated; in the future, examples will be found relative to the 'datapath' directory.\n",
      "  \"found relative to the 'datapath' directory.\".format(key))\n",
      "/Users/spencerlab/anaconda3/lib/python3.7/site-packages/matplotlib/__init__.py:846: MatplotlibDeprecationWarning: \n",
      "The text.latex.unicode rcparam was deprecated in Matplotlib 2.2 and will be removed in 3.1.\n",
      "  \"2.2\", name=key, obj_type=\"rcparam\", addendum=addendum)\n"
     ]
    }
   ],
   "source": [
    "import numpy as np\n",
    "import matplotlib.pyplot as plt\n",
    "from scipy import ndimage as ndi\n",
    "\n",
    "from skimage.morphology import watershed\n",
    "from skimage.feature import peak_local_max\n",
    "from PIL import Image\n",
    "\n",
    "from skimage.morphology import skeletonize, thin\n",
    "from skimage.util import invert\n",
    "from skimage import measure\n",
    "from skimage.morphology import erosion, dilation, opening, closing, white_tophat\n",
    "from skimage.morphology import black_tophat, skeletonize, convex_hull_image\n",
    "from skimage.morphology import disk\n",
    "from skimage import feature\n",
    "from skimage.filters import roberts, sobel, scharr, prewitt\n",
    "import seaborn as sns\n",
    "sns.reset_orig()\n",
    "\n",
    "from skimage import restoration\n",
    "\n",
    "from skimage import exposure\n",
    "from skimage.filters import gaussian\n",
    "\n",
    "from scipy import ndimage\n",
    "\n",
    "from time import time\n",
    "\n",
    "from skimage.color import rgb2gray\n",
    "from scipy import ndimage as ndi\n",
    "\n",
    "from skimage.filters.rank import entropy\n",
    "import scipy\n",
    "\n",
    "\n",
    "import networkx as nx\n",
    "from scipy import interpolate\n",
    "\n",
    "from skimage.segmentation import random_walker\n",
    "from skimage.data import binary_blobs\n",
    "from skimage.exposure import rescale_intensity\n",
    "import glob\n",
    "\n",
    "from skimage.morphology import disk\n",
    "from skimage import io\n",
    "\n",
    "\n",
    "from skimage.external import tifffile\n",
    "\n",
    "import pandas as pd\n",
    "\n",
    "from sklearn.cluster import KMeans\n",
    "\n",
    "from sklearn.cluster import AgglomerativeClustering\n",
    "from sklearn.cluster import DBSCAN\n",
    "\n",
    "import threading\n",
    "\n"
   ]
  },
  {
   "cell_type": "code",
   "execution_count": 2,
   "metadata": {},
   "outputs": [],
   "source": [
    "csv = pd.read_csv('all2.csv')\n",
    "pts = pd.read_csv('points.csv')\n",
    "lab=io.imread('labeled_green_cells.tif')"
   ]
  },
  {
   "cell_type": "code",
   "execution_count": 3,
   "metadata": {},
   "outputs": [],
   "source": [
    "data = np.asarray(csv.values)\n",
    "data2 = data[:,1:4]\n",
    "data2= data2.astype(int)"
   ]
  },
  {
   "cell_type": "code",
   "execution_count": null,
   "metadata": {},
   "outputs": [],
   "source": []
  },
  {
   "cell_type": "code",
   "execution_count": 12,
   "metadata": {},
   "outputs": [
    {
     "name": "stdout",
     "output_type": "stream",
     "text": [
      "[  1   1   1   1   1   2   1   3   1   1   4   1   4   5   6   1   1   1\n",
      "   1   4   1   7   8   8   9   1  10  11  12  13  14  15  16  17   1  18\n",
      "  19   1  20  21  22  23  24  25  26   1   1   8  27  28  29   1   1   8\n",
      "   8  28  30  31  32  33  34  35   1   1  19  36  37  38  39  39  40  32\n",
      "  41  42  43  44   1  32  45   1  46  47  32  32  32  23  23  48  49  50\n",
      "  51  52  53  54  53  42  55  56  57  58  23  59  60  61  35   1  35   1\n",
      "  62  63  64  65  66  67  68  68  69  32  32  42  42  70  56  71   1  72\n",
      "  73  48  74  61  61  32  48  75  65  76  67  77  48  78  79  60  80  81\n",
      "  48  82  83  84  77  85  86  87  88  89  90  91  88  77  92  48  85  93\n",
      "  48  94  95  96  97  98  99 100  48 101 102 103 104  96 105 106 107 106\n",
      " 108  98  99 106 109 110 111 112 113 111 114 115 116 117 118 119 120 121\n",
      " 122 123 124 125 126 127 128 129 130 131 128 132 124 133 134 135 136 137\n",
      " 138 139 140 141 142 143 144 145 146 147 148 149 150 151 152 153 154 155\n",
      " 156 157 158 159 160 161 162 163 152 164 165 166 167 168 169 170 171 172\n",
      " 173 174 175 176 177 178 179 180 176 181 182 183 180 184 184 185 186 187\n",
      " 188 188 189 190 191 192 193 194 195 196 197 197 198 193 198 199 200 201\n",
      " 200 202 203 204 205 206 207 208 209 210 211 212 213 214 214 215 198 216\n",
      " 217 218 214 219 220 221 222 223 224 225 202 202 226 227 228 229 202 230\n",
      " 231 227 232 233 206 209 234 234 228 235 236 202 202 237 215 238 236 202\n",
      " 202 202 239 239 230 202 240 241 242 202 243 244 245 246 215 247 248 249\n",
      " 250 251 252 253 254 255 256 257 258 249 259 260 261 262 263 259 264 265\n",
      " 266 267 268 269 270 271 271 272 267 273 274 275 257 276 271 277 278 279\n",
      " 271 280 281 282 283 284 285 286 287 288 289 290 291 292 293 294 295 296\n",
      " 297 298 298 299 300 301 302 296 277 303 304 305 306 307 308 284 309 310\n",
      " 311 312 313 314 302 315 316 317 318 319 284 320 321 322 323 324 325 302\n",
      " 326 327 328 329 330 331 332 333 334 335 336 337 338 339 340 341 342 343\n",
      " 344 345 346 347 348 349 350 351 352 353 354 355 345 356 357 358 359 360\n",
      " 361 362 363 354 364 365 363 366 367 368 369 370 371 372 373 374 366 375\n",
      " 376 377 378 379 380 381 382 383 378 384 385 386 383 387 388 389 390 391\n",
      " 392 383 393 394 387 395 396 397 398 399 400 401 402 403 404 405 406 407\n",
      " 408 409 410 406 411 412 413 414 415 416 414 417 418 419 420 421 422 423\n",
      " 424 425 426 427 428 429 430 431 432 433 434 435 436 437 438 439 440 441\n",
      " 442 443]\n"
     ]
    }
   ],
   "source": [
    "clustering = DBSCAN(eps=25, min_samples=1).fit(data2)\n",
    "labels = clustering.labels_+1\n",
    "\n",
    "\n",
    "\n",
    "\n",
    "print(labels)\n",
    "\n",
    "\n",
    "\n",
    "mat2 = np.zeros(lab.shape,  dtype='uint16')\n",
    "\n",
    "ptsmat = pts.values\n",
    "for i in range(len(ptsmat)):\n",
    "    point_val = ptsmat[i, -1]\n",
    "    \n",
    "    ind = np.where(data[:,5] == point_val)[0][0]\n",
    "    \n",
    "    \n",
    "    cluster_val = labels[ind]\n",
    "    \n",
    "    #print(ptsmat[i, :3])\n",
    "    \n",
    "    zzz = int((ptsmat[i, 0]))\n",
    "    yyy = int((ptsmat[i, 1]))\n",
    "    xxx = int((ptsmat[i, 2]))\n",
    "    \n",
    "    \n",
    "    mat2[zzz, yyy, xxx]= cluster_val\n",
    "\n",
    "    \n",
    "    \n",
    "tifffile.imsave(\"cluster_labeled.tif\", mat2)"
   ]
  },
  {
   "cell_type": "code",
   "execution_count": null,
   "metadata": {},
   "outputs": [],
   "source": []
  },
  {
   "cell_type": "code",
   "execution_count": 31,
   "metadata": {},
   "outputs": [],
   "source": [
    "newdata = np.zeros((578, 15))\n",
    "newdata[:, :14]= csv.values\n",
    "newdata[:, 14] = labels"
   ]
  },
  {
   "cell_type": "code",
   "execution_count": null,
   "metadata": {},
   "outputs": [],
   "source": []
  },
  {
   "cell_type": "code",
   "execution_count": 32,
   "metadata": {},
   "outputs": [],
   "source": [
    "df = pd.DataFrame(newdata[:, 1:], columns=[ 'Z', 'Y', 'X', 'size', 'measure', 'Zb', 'Yb', 'Xb',\n",
    "       'distb', 'Zt', 'Yt', 'Xt', 'distT', 'clusterID'] )\n",
    "df.to_csv('all3.csv')"
   ]
  },
  {
   "cell_type": "code",
   "execution_count": 30,
   "metadata": {},
   "outputs": [],
   "source": []
  },
  {
   "cell_type": "code",
   "execution_count": null,
   "metadata": {},
   "outputs": [],
   "source": []
  },
  {
   "cell_type": "code",
   "execution_count": null,
   "metadata": {},
   "outputs": [],
   "source": []
  },
  {
   "cell_type": "code",
   "execution_count": null,
   "metadata": {},
   "outputs": [],
   "source": []
  }
 ],
 "metadata": {
  "kernelspec": {
   "display_name": "Python 3",
   "language": "python",
   "name": "python3"
  },
  "language_info": {
   "codemirror_mode": {
    "name": "ipython",
    "version": 3
   },
   "file_extension": ".py",
   "mimetype": "text/x-python",
   "name": "python",
   "nbconvert_exporter": "python",
   "pygments_lexer": "ipython3",
   "version": "3.7.3"
  }
 },
 "nbformat": 4,
 "nbformat_minor": 2
}
