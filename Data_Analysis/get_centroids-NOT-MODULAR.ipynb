{
 "cells": [
  {
   "cell_type": "code",
   "execution_count": 1,
   "metadata": {},
   "outputs": [
    {
     "name": "stderr",
     "output_type": "stream",
     "text": [
      "/Users/spencerlab/anaconda3/lib/python3.7/site-packages/matplotlib/__init__.py:855: MatplotlibDeprecationWarning: \n",
      "examples.directory is deprecated; in the future, examples will be found relative to the 'datapath' directory.\n",
      "  \"found relative to the 'datapath' directory.\".format(key))\n",
      "/Users/spencerlab/anaconda3/lib/python3.7/site-packages/matplotlib/__init__.py:846: MatplotlibDeprecationWarning: \n",
      "The text.latex.unicode rcparam was deprecated in Matplotlib 2.2 and will be removed in 3.1.\n",
      "  \"2.2\", name=key, obj_type=\"rcparam\", addendum=addendum)\n"
     ]
    }
   ],
   "source": [
    "import numpy as np\n",
    "import matplotlib.pyplot as plt\n",
    "from scipy import ndimage as ndi\n",
    "\n",
    "from skimage.morphology import watershed\n",
    "from skimage.feature import peak_local_max\n",
    "from PIL import Image\n",
    "from skimage.morphology import remove_small_objects\n",
    "\n",
    "\n",
    "from skimage.morphology import skeletonize, thin\n",
    "from skimage.util import invert\n",
    "from skimage import measure\n",
    "from skimage.morphology import erosion, dilation, opening, closing, white_tophat\n",
    "from skimage.morphology import black_tophat, skeletonize, convex_hull_image\n",
    "from skimage.morphology import disk\n",
    "from skimage import feature\n",
    "from skimage.filters import roberts, sobel, scharr, prewitt\n",
    "import seaborn as sns\n",
    "sns.reset_orig()\n",
    "\n",
    "from skimage import restoration\n",
    "\n",
    "from skimage import exposure\n",
    "from skimage.filters import gaussian\n",
    "\n",
    "from scipy import ndimage\n",
    "\n",
    "from time import time\n",
    "\n",
    "from skimage.color import rgb2gray\n",
    "from scipy import ndimage as ndi\n",
    "\n",
    "from skimage.filters.rank import entropy\n",
    "import scipy\n",
    "\n",
    "\n",
    "import networkx as nx\n",
    "from scipy import interpolate\n",
    "\n",
    "from skimage.segmentation import random_walker\n",
    "from skimage.data import binary_blobs\n",
    "from skimage.exposure import rescale_intensity\n",
    "import glob\n",
    "\n",
    "from skimage.morphology import disk\n",
    "from skimage import io\n",
    "\n",
    "from skimage.color import rgb2hsv\n",
    "import cv2\n",
    "\n",
    "from skimage.external import tifffile\n",
    "\n",
    "import pandas as pd\n",
    "\n",
    "from sklearn.cluster import KMeans\n",
    "\n",
    "from sklearn.cluster import AgglomerativeClustering\n",
    "from sklearn.cluster import DBSCAN\n",
    "\n",
    "import threading"
   ]
  },
  {
   "cell_type": "code",
   "execution_count": 2,
   "metadata": {},
   "outputs": [],
   "source": [
    "def color_leave(arr, h_min, h_max, s_min, s_max, v_min, v_max):\n",
    "    arr2= arr*0\n",
    "    for i in range(len(arr)):\n",
    "        arr2[i] =  cv2.cvtColor(arr[i],cv2.COLOR_RGB2HSV)\n",
    "        \n",
    "    \n",
    "    if h_max<h_min:\n",
    "        h_max_2 = h_max.copy()\n",
    "        h_max = h_min\n",
    "        h_min = h_max_2\n",
    "    \n",
    "    \n",
    "    m = (arr2[:, :,:,0]>=h_min)*(arr2[:, :,:,0]<=h_max)*(arr2[:,:,:,1]>=s_min)*(arr2[:,:,:,1]<=s_max)*(arr2[:,:,:,2]>=v_min)*(arr2[:,:,:,2]<=v_max)\n",
    "    \n",
    "    return m\n",
    "    "
   ]
  },
  {
   "cell_type": "code",
   "execution_count": 3,
   "metadata": {},
   "outputs": [],
   "source": [
    "def get_occurances(markers, points):\n",
    "    \n",
    "    \n",
    "    pt_labels = markers[points[0], points[1], points[2]]\n",
    "\n",
    "    label_occurances = (np.bincount(pt_labels, weights=np.ones((points.shape[1]))) )[1:]\n",
    "    \n",
    "    \n",
    "    return label_occurances"
   ]
  },
  {
   "cell_type": "code",
   "execution_count": null,
   "metadata": {},
   "outputs": [],
   "source": []
  },
  {
   "cell_type": "code",
   "execution_count": 4,
   "metadata": {},
   "outputs": [],
   "source": [
    "def get_centroids(arr):\n",
    "    \n",
    "    arr= arr!=0\n",
    "    markers, nummarkers = ndi.label(arr) \n",
    "    \n",
    "    points = np.where(arr)\n",
    "    points = np.asarray(points)\n",
    "    \n",
    "    pt_labels = markers[points[0], points[1], points[2]]\n",
    "    \n",
    "    Z_mass = (np.bincount(pt_labels, weights=points[0]))[1:]\n",
    "\n",
    "    Y_mass = (np.bincount(pt_labels, weights=points[1]))[1:]\n",
    "\n",
    "    X_mass = (np.bincount(pt_labels, weights=points[2]))[1:]\n",
    "\n",
    "    label_occurances = (np.bincount(pt_labels, weights=np.ones((points.shape[1]))) )[1:]\n",
    "    \n",
    "    \n",
    "    Z_centroid = Z_mass/label_occurances\n",
    "    Y_centroid = Y_mass/label_occurances\n",
    "    X_centroid = X_mass/label_occurances\n",
    "    \n",
    "    return Z_centroid, Y_centroid, X_centroid, label_occurances"
   ]
  },
  {
   "cell_type": "code",
   "execution_count": 5,
   "metadata": {},
   "outputs": [],
   "source": [
    "c"
   ]
  },
  {
   "cell_type": "code",
   "execution_count": null,
   "metadata": {},
   "outputs": [],
   "source": []
  },
  {
   "cell_type": "code",
   "execution_count": 6,
   "metadata": {},
   "outputs": [],
   "source": [
    "#stack = io.imread('/Users/spencerlab/Desktop/final_files/Day_2/#1/715_2d_RGB_copy_p.tif')\n",
    "#stack = io.imread('/Users/spencerlab/Desktop/final_files/Day_2/#2/721_2d_RGB_p.tif')\n",
    "stack = io.imread('/Users/spencerlab/Desktop/final_files/Day_3/#3/722_3d_RGB_p.tif')\n",
    "\n",
    "#stack = io.imread('/Users/spencerlab/Desktop/final_files/Day_5/Stack_day_5.tif')"
   ]
  },
  {
   "cell_type": "code",
   "execution_count": 7,
   "metadata": {},
   "outputs": [],
   "source": [
    "#PARAMETERS\n",
    "h_min = 52\n",
    "s_min = 141\n",
    "v_min = 145\n",
    "\n",
    "h_max = 116\n",
    "s_max = 255\n",
    "v_max = 255\n",
    "\n",
    "\n",
    "MINIMUM_SIZE = 12\n"
   ]
  },
  {
   "cell_type": "code",
   "execution_count": 8,
   "metadata": {},
   "outputs": [
    {
     "name": "stdout",
     "output_type": "stream",
     "text": [
      "Precompute\n"
     ]
    }
   ],
   "source": [
    "print(\"Precompute\")\n",
    "filtered_stack = color_leave(stack, h_min, h_max, s_min, s_max, v_min, v_max)\n",
    "\n",
    "#PRECOMPUTE AND UNMODULARIZE\n",
    "filtered_stack= filtered_stack!=0\n",
    "markers, nummarkers = ndi.label(filtered_stack) \n",
    "    \n",
    "points = np.where(filtered_stack)\n",
    "points = np.asarray(points)"
   ]
  },
  {
   "cell_type": "code",
   "execution_count": null,
   "metadata": {},
   "outputs": [],
   "source": []
  },
  {
   "cell_type": "code",
   "execution_count": 9,
   "metadata": {},
   "outputs": [
    {
     "name": "stdout",
     "output_type": "stream",
     "text": [
      "Process\n"
     ]
    }
   ],
   "source": [
    "print(\"Process\")\n",
    "occ = get_occurances(markers, points)\n",
    "sizemap_stack =  pair_labels_W_vals(occ, markers, nummarkers, points)\n",
    "Z_centroid, Y_centroid, X_centroid, label_occurances = get_centroids(sizemap_stack>=MINIMUM_SIZE)"
   ]
  },
  {
   "cell_type": "code",
   "execution_count": null,
   "metadata": {},
   "outputs": [],
   "source": []
  },
  {
   "cell_type": "code",
   "execution_count": 10,
   "metadata": {},
   "outputs": [
    {
     "name": "stdout",
     "output_type": "stream",
     "text": [
      "Positions\n"
     ]
    }
   ],
   "source": [
    "print(\"Positions\")\n",
    "data = np.zeros((4, Z_centroid.shape[0]), dtype= int)\n",
    "data[0] = Z_centroid\n",
    "data[1] = Y_centroid\n",
    "data[2] = X_centroid\n",
    "data[3] = label_occurances\n",
    "data = np.transpose(data)\n",
    "\n",
    "df = pd.DataFrame(data=data, columns=['Z', 'Y', 'X', 'Size-voxels'])"
   ]
  },
  {
   "cell_type": "code",
   "execution_count": 11,
   "metadata": {},
   "outputs": [
    {
     "data": {
      "text/html": [
       "<div>\n",
       "<style scoped>\n",
       "    .dataframe tbody tr th:only-of-type {\n",
       "        vertical-align: middle;\n",
       "    }\n",
       "\n",
       "    .dataframe tbody tr th {\n",
       "        vertical-align: top;\n",
       "    }\n",
       "\n",
       "    .dataframe thead th {\n",
       "        text-align: right;\n",
       "    }\n",
       "</style>\n",
       "<table border=\"1\" class=\"dataframe\">\n",
       "  <thead>\n",
       "    <tr style=\"text-align: right;\">\n",
       "      <th></th>\n",
       "      <th>Z</th>\n",
       "      <th>Y</th>\n",
       "      <th>X</th>\n",
       "      <th>Size-voxels</th>\n",
       "    </tr>\n",
       "  </thead>\n",
       "  <tbody>\n",
       "    <tr>\n",
       "      <th>0</th>\n",
       "      <td>14</td>\n",
       "      <td>466</td>\n",
       "      <td>3021</td>\n",
       "      <td>19</td>\n",
       "    </tr>\n",
       "    <tr>\n",
       "      <th>1</th>\n",
       "      <td>17</td>\n",
       "      <td>180</td>\n",
       "      <td>2992</td>\n",
       "      <td>12</td>\n",
       "    </tr>\n",
       "    <tr>\n",
       "      <th>2</th>\n",
       "      <td>18</td>\n",
       "      <td>153</td>\n",
       "      <td>2219</td>\n",
       "      <td>63</td>\n",
       "    </tr>\n",
       "    <tr>\n",
       "      <th>3</th>\n",
       "      <td>18</td>\n",
       "      <td>212</td>\n",
       "      <td>2233</td>\n",
       "      <td>74</td>\n",
       "    </tr>\n",
       "    <tr>\n",
       "      <th>4</th>\n",
       "      <td>21</td>\n",
       "      <td>39</td>\n",
       "      <td>2155</td>\n",
       "      <td>98</td>\n",
       "    </tr>\n",
       "    <tr>\n",
       "      <th>...</th>\n",
       "      <td>...</td>\n",
       "      <td>...</td>\n",
       "      <td>...</td>\n",
       "      <td>...</td>\n",
       "    </tr>\n",
       "    <tr>\n",
       "      <th>70</th>\n",
       "      <td>61</td>\n",
       "      <td>28</td>\n",
       "      <td>2277</td>\n",
       "      <td>42</td>\n",
       "    </tr>\n",
       "    <tr>\n",
       "      <th>71</th>\n",
       "      <td>70</td>\n",
       "      <td>83</td>\n",
       "      <td>2182</td>\n",
       "      <td>31</td>\n",
       "    </tr>\n",
       "    <tr>\n",
       "      <th>72</th>\n",
       "      <td>76</td>\n",
       "      <td>167</td>\n",
       "      <td>2442</td>\n",
       "      <td>44</td>\n",
       "    </tr>\n",
       "    <tr>\n",
       "      <th>73</th>\n",
       "      <td>105</td>\n",
       "      <td>188</td>\n",
       "      <td>2250</td>\n",
       "      <td>42</td>\n",
       "    </tr>\n",
       "    <tr>\n",
       "      <th>74</th>\n",
       "      <td>116</td>\n",
       "      <td>860</td>\n",
       "      <td>3269</td>\n",
       "      <td>38</td>\n",
       "    </tr>\n",
       "  </tbody>\n",
       "</table>\n",
       "<p>75 rows × 4 columns</p>\n",
       "</div>"
      ],
      "text/plain": [
       "      Z    Y     X  Size-voxels\n",
       "0    14  466  3021           19\n",
       "1    17  180  2992           12\n",
       "2    18  153  2219           63\n",
       "3    18  212  2233           74\n",
       "4    21   39  2155           98\n",
       "..  ...  ...   ...          ...\n",
       "70   61   28  2277           42\n",
       "71   70   83  2182           31\n",
       "72   76  167  2442           44\n",
       "73  105  188  2250           42\n",
       "74  116  860  3269           38\n",
       "\n",
       "[75 rows x 4 columns]"
      ]
     },
     "execution_count": 11,
     "metadata": {},
     "output_type": "execute_result"
    }
   ],
   "source": [
    "df"
   ]
  },
  {
   "cell_type": "code",
   "execution_count": 12,
   "metadata": {},
   "outputs": [],
   "source": [
    "df.to_csv('/Users/spencerlab/Downloads/Day_3-3.csv')"
   ]
  },
  {
   "cell_type": "code",
   "execution_count": null,
   "metadata": {},
   "outputs": [],
   "source": []
  }
 ],
 "metadata": {
  "kernelspec": {
   "display_name": "Python 3",
   "language": "python",
   "name": "python3"
  },
  "language_info": {
   "codemirror_mode": {
    "name": "ipython",
    "version": 3
   },
   "file_extension": ".py",
   "mimetype": "text/x-python",
   "name": "python",
   "nbconvert_exporter": "python",
   "pygments_lexer": "ipython3",
   "version": "3.7.3"
  }
 },
 "nbformat": 4,
 "nbformat_minor": 2
}
