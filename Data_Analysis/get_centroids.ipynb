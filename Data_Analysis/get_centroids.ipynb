{
 "cells": [
  {
   "cell_type": "code",
   "execution_count": 1,
   "metadata": {},
   "outputs": [
    {
     "name": "stderr",
     "output_type": "stream",
     "text": [
      "/Users/spencerlab/anaconda3/lib/python3.7/site-packages/matplotlib/__init__.py:855: MatplotlibDeprecationWarning: \n",
      "examples.directory is deprecated; in the future, examples will be found relative to the 'datapath' directory.\n",
      "  \"found relative to the 'datapath' directory.\".format(key))\n",
      "/Users/spencerlab/anaconda3/lib/python3.7/site-packages/matplotlib/__init__.py:846: MatplotlibDeprecationWarning: \n",
      "The text.latex.unicode rcparam was deprecated in Matplotlib 2.2 and will be removed in 3.1.\n",
      "  \"2.2\", name=key, obj_type=\"rcparam\", addendum=addendum)\n"
     ]
    }
   ],
   "source": [
    "import numpy as np\n",
    "import matplotlib.pyplot as plt\n",
    "from scipy import ndimage as ndi\n",
    "\n",
    "from skimage.morphology import watershed\n",
    "from skimage.feature import peak_local_max\n",
    "from PIL import Image\n",
    "from skimage.morphology import remove_small_objects\n",
    "\n",
    "\n",
    "from skimage.morphology import skeletonize, thin\n",
    "from skimage.util import invert\n",
    "from skimage import measure\n",
    "from skimage.morphology import erosion, dilation, opening, closing, white_tophat\n",
    "from skimage.morphology import black_tophat, skeletonize, convex_hull_image\n",
    "from skimage.morphology import disk\n",
    "from skimage import feature\n",
    "from skimage.filters import roberts, sobel, scharr, prewitt\n",
    "import seaborn as sns\n",
    "sns.reset_orig()\n",
    "\n",
    "from skimage import restoration\n",
    "\n",
    "from skimage import exposure\n",
    "from skimage.filters import gaussian\n",
    "\n",
    "from scipy import ndimage\n",
    "\n",
    "from time import time\n",
    "\n",
    "from skimage.color import rgb2gray\n",
    "from scipy import ndimage as ndi\n",
    "\n",
    "from skimage.filters.rank import entropy\n",
    "import scipy\n",
    "\n",
    "\n",
    "import networkx as nx\n",
    "from scipy import interpolate\n",
    "\n",
    "from skimage.segmentation import random_walker\n",
    "from skimage.data import binary_blobs\n",
    "from skimage.exposure import rescale_intensity\n",
    "import glob\n",
    "\n",
    "from skimage.morphology import disk\n",
    "from skimage import io\n",
    "\n",
    "from skimage.color import rgb2hsv\n",
    "import cv2\n",
    "\n",
    "from skimage.external import tifffile\n",
    "\n",
    "import pandas as pd\n",
    "\n",
    "from sklearn.cluster import KMeans\n",
    "\n",
    "from sklearn.cluster import AgglomerativeClustering\n",
    "from sklearn.cluster import DBSCAN\n",
    "\n",
    "import threading"
   ]
  },
  {
   "cell_type": "code",
   "execution_count": 2,
   "metadata": {},
   "outputs": [],
   "source": [
    "def get_occurances(arr):\n",
    "    \n",
    "    arr= arr!=0\n",
    "    markers, nummarkers = ndi.label(arr) \n",
    "    \n",
    "    points = np.where(arr)\n",
    "    points = np.asarray(points)\n",
    "    \n",
    "    pt_labels = markers[points[0], points[1], points[2]]\n",
    "\n",
    "    label_occurances = (np.bincount(pt_labels, weights=np.ones((points.shape[1]))) )[1:]\n",
    "    \n",
    "    \n",
    "    return label_occurances"
   ]
  },
  {
   "cell_type": "code",
   "execution_count": 3,
   "metadata": {},
   "outputs": [],
   "source": [
    "def color_leave(arr, h_min, h_max, s_min, s_max, v_min, v_max):\n",
    "    arr2= arr*0\n",
    "    for i in range(len(arr)):\n",
    "        arr2[i] =  cv2.cvtColor(arr[i],cv2.COLOR_RGB2HSV)\n",
    "        \n",
    "    \n",
    "    if h_max<h_min:\n",
    "        h_max_2 = h_max.copy()\n",
    "        h_max = h_min\n",
    "        h_min = h_max_2\n",
    "    \n",
    "    \n",
    "    m = (arr2[:, :,:,0]>=h_min)*(arr2[:, :,:,0]<=h_max)*(arr2[:,:,:,1]>=s_min)*(arr2[:,:,:,1]<=s_max)*(arr2[:,:,:,2]>=v_min)*(arr2[:,:,:,2]<=v_max)\n",
    "    \n",
    "    return m\n",
    "    "
   ]
  },
  {
   "cell_type": "code",
   "execution_count": 4,
   "metadata": {},
   "outputs": [],
   "source": [
    "def get_centroids(arr):\n",
    "    \n",
    "    arr= arr!=0\n",
    "    markers, nummarkers = ndi.label(arr) \n",
    "    \n",
    "    points = np.where(arr)\n",
    "    points = np.asarray(points)\n",
    "    \n",
    "    pt_labels = markers[points[0], points[1], points[2]]\n",
    "    \n",
    "    Z_mass = (np.bincount(pt_labels, weights=points[0]))[1:]\n",
    "\n",
    "    Y_mass = (np.bincount(pt_labels, weights=points[1]))[1:]\n",
    "\n",
    "    X_mass = (np.bincount(pt_labels, weights=points[2]))[1:]\n",
    "\n",
    "    label_occurances = (np.bincount(pt_labels, weights=np.ones((points.shape[1]))) )[1:]\n",
    "    \n",
    "    \n",
    "    Z_centroid = Z_mass/label_occurances\n",
    "    Y_centroid = Y_mass/label_occurances\n",
    "    X_centroid = X_mass/label_occurances\n",
    "    \n",
    "    return Z_centroid, Y_centroid, X_centroid, label_occurances"
   ]
  },
  {
   "cell_type": "code",
   "execution_count": 5,
   "metadata": {},
   "outputs": [],
   "source": [
    "def size_filter(arr, thresh, occurances):\n",
    "    arr= arr!=0\n",
    "    markers, nummarkers = ndi.label(arr) \n",
    "    \n",
    "    points = np.where(arr)\n",
    "    points = np.asarray(points)\n",
    "    \n",
    "    markers[points[0], points[1], points[2]] = occurances*(occurances>=thresh)\n",
    "    \n",
    "    "
   ]
  },
  {
   "cell_type": "code",
   "execution_count": 6,
   "metadata": {},
   "outputs": [],
   "source": [
    "def pair_labels_W_vals(arr, vals):\n",
    "    arr= arr!=0\n",
    "    markers, nummarkers = ndi.label(arr) \n",
    "    \n",
    "    labels = np.arange(nummarkers)+1\n",
    "    \n",
    "    \n",
    "    points = np.where(arr)\n",
    "    points = np.asarray(points)\n",
    "    \n",
    "    pt_labels = markers[points[0], points[1], points[2]]\n",
    "    \n",
    "    dict_1 = dict(zip(labels, vals))\n",
    "    \n",
    "    new_labels = np.vectorize(dict_1.get)(pt_labels)\n",
    "    \n",
    "    markers[points[0], points[1], points[2]] = new_labels\n",
    "    \n",
    "    return markers"
   ]
  },
  {
   "cell_type": "code",
   "execution_count": null,
   "metadata": {},
   "outputs": [],
   "source": []
  },
  {
   "cell_type": "code",
   "execution_count": 28,
   "metadata": {},
   "outputs": [],
   "source": [
    "#stack = io.imread('/Users/spencerlab/Desktop/final_files/Day_2/#1/715_2d_RGB_copy.tif')\n",
    "\n",
    "stack = io.imread('/Users/spencerlab/Desktop/final_files/Day_5/Stack_day_5.tif')"
   ]
  },
  {
   "cell_type": "code",
   "execution_count": 29,
   "metadata": {},
   "outputs": [],
   "source": [
    "#PARAMETERS\n",
    "h_min = 52\n",
    "s_min = 141\n",
    "v_min = 145\n",
    "\n",
    "h_max = 116\n",
    "s_max = 255\n",
    "v_max = 255\n",
    "\n",
    "\n",
    "MINIMUM_SIZE = 12\n"
   ]
  },
  {
   "cell_type": "code",
   "execution_count": 30,
   "metadata": {},
   "outputs": [],
   "source": [
    "filtered_stack = color_leave(stack, h_min, h_max, s_min, s_max, v_min, v_max)"
   ]
  },
  {
   "cell_type": "code",
   "execution_count": 31,
   "metadata": {},
   "outputs": [],
   "source": [
    "occ = get_occurances(filtered_stack)"
   ]
  },
  {
   "cell_type": "code",
   "execution_count": 32,
   "metadata": {},
   "outputs": [],
   "source": [
    "sizemap_stack = pair_labels_W_vals(filtered_stack, occ)"
   ]
  },
  {
   "cell_type": "code",
   "execution_count": null,
   "metadata": {},
   "outputs": [],
   "source": []
  },
  {
   "cell_type": "code",
   "execution_count": 33,
   "metadata": {},
   "outputs": [],
   "source": [
    "Z_centroid, Y_centroid, X_centroid, label_occurances = get_centroids(sizemap_stack>=MINIMUM_SIZE)"
   ]
  },
  {
   "cell_type": "code",
   "execution_count": 34,
   "metadata": {},
   "outputs": [
    {
     "data": {
      "text/plain": [
       "70404"
      ]
     },
     "execution_count": 34,
     "metadata": {},
     "output_type": "execute_result"
    }
   ],
   "source": [
    "Z_centroid.shape[0]"
   ]
  },
  {
   "cell_type": "code",
   "execution_count": null,
   "metadata": {},
   "outputs": [],
   "source": []
  },
  {
   "cell_type": "code",
   "execution_count": 35,
   "metadata": {},
   "outputs": [],
   "source": [
    "data = np.zeros((4, Z_centroid.shape[0]), dtype='uint8')\n",
    "data[0] = Z_centroid\n",
    "data[1] = Y_centroid\n",
    "data[2] = X_centroid\n",
    "data[3] = label_occurances\n",
    "data = np.transpose(data)"
   ]
  },
  {
   "cell_type": "code",
   "execution_count": 36,
   "metadata": {},
   "outputs": [],
   "source": [
    "df = pd.DataFrame(data=data, columns=['Z', 'Y', 'X', 'Size-voxels'])"
   ]
  },
  {
   "cell_type": "code",
   "execution_count": 37,
   "metadata": {},
   "outputs": [
    {
     "data": {
      "text/html": [
       "<div>\n",
       "<style scoped>\n",
       "    .dataframe tbody tr th:only-of-type {\n",
       "        vertical-align: middle;\n",
       "    }\n",
       "\n",
       "    .dataframe tbody tr th {\n",
       "        vertical-align: top;\n",
       "    }\n",
       "\n",
       "    .dataframe thead th {\n",
       "        text-align: right;\n",
       "    }\n",
       "</style>\n",
       "<table border=\"1\" class=\"dataframe\">\n",
       "  <thead>\n",
       "    <tr style=\"text-align: right;\">\n",
       "      <th></th>\n",
       "      <th>Z</th>\n",
       "      <th>Y</th>\n",
       "      <th>X</th>\n",
       "      <th>Size-voxels</th>\n",
       "    </tr>\n",
       "  </thead>\n",
       "  <tbody>\n",
       "    <tr>\n",
       "      <th>0</th>\n",
       "      <td>17</td>\n",
       "      <td>169</td>\n",
       "      <td>19</td>\n",
       "      <td>215</td>\n",
       "    </tr>\n",
       "    <tr>\n",
       "      <th>1</th>\n",
       "      <td>3</td>\n",
       "      <td>4</td>\n",
       "      <td>199</td>\n",
       "      <td>17</td>\n",
       "    </tr>\n",
       "    <tr>\n",
       "      <th>2</th>\n",
       "      <td>0</td>\n",
       "      <td>5</td>\n",
       "      <td>116</td>\n",
       "      <td>22</td>\n",
       "    </tr>\n",
       "    <tr>\n",
       "      <th>3</th>\n",
       "      <td>1</td>\n",
       "      <td>13</td>\n",
       "      <td>200</td>\n",
       "      <td>35</td>\n",
       "    </tr>\n",
       "    <tr>\n",
       "      <th>4</th>\n",
       "      <td>1</td>\n",
       "      <td>20</td>\n",
       "      <td>187</td>\n",
       "      <td>48</td>\n",
       "    </tr>\n",
       "    <tr>\n",
       "      <th>...</th>\n",
       "      <td>...</td>\n",
       "      <td>...</td>\n",
       "      <td>...</td>\n",
       "      <td>...</td>\n",
       "    </tr>\n",
       "    <tr>\n",
       "      <th>70399</th>\n",
       "      <td>236</td>\n",
       "      <td>30</td>\n",
       "      <td>203</td>\n",
       "      <td>28</td>\n",
       "    </tr>\n",
       "    <tr>\n",
       "      <th>70400</th>\n",
       "      <td>237</td>\n",
       "      <td>14</td>\n",
       "      <td>213</td>\n",
       "      <td>13</td>\n",
       "    </tr>\n",
       "    <tr>\n",
       "      <th>70401</th>\n",
       "      <td>239</td>\n",
       "      <td>231</td>\n",
       "      <td>96</td>\n",
       "      <td>13</td>\n",
       "    </tr>\n",
       "    <tr>\n",
       "      <th>70402</th>\n",
       "      <td>238</td>\n",
       "      <td>19</td>\n",
       "      <td>129</td>\n",
       "      <td>45</td>\n",
       "    </tr>\n",
       "    <tr>\n",
       "      <th>70403</th>\n",
       "      <td>248</td>\n",
       "      <td>72</td>\n",
       "      <td>196</td>\n",
       "      <td>17</td>\n",
       "    </tr>\n",
       "  </tbody>\n",
       "</table>\n",
       "<p>70404 rows × 4 columns</p>\n",
       "</div>"
      ],
      "text/plain": [
       "         Z    Y    X  Size-voxels\n",
       "0       17  169   19          215\n",
       "1        3    4  199           17\n",
       "2        0    5  116           22\n",
       "3        1   13  200           35\n",
       "4        1   20  187           48\n",
       "...    ...  ...  ...          ...\n",
       "70399  236   30  203           28\n",
       "70400  237   14  213           13\n",
       "70401  239  231   96           13\n",
       "70402  238   19  129           45\n",
       "70403  248   72  196           17\n",
       "\n",
       "[70404 rows x 4 columns]"
      ]
     },
     "execution_count": 37,
     "metadata": {},
     "output_type": "execute_result"
    }
   ],
   "source": [
    "df"
   ]
  },
  {
   "cell_type": "code",
   "execution_count": 38,
   "metadata": {},
   "outputs": [],
   "source": [
    "df.to_csv('/Users/spencerlab/Downloads/Day_2-1.csv')"
   ]
  },
  {
   "cell_type": "code",
   "execution_count": null,
   "metadata": {},
   "outputs": [],
   "source": []
  }
 ],
 "metadata": {
  "kernelspec": {
   "display_name": "Python 3",
   "language": "python",
   "name": "python3"
  },
  "language_info": {
   "codemirror_mode": {
    "name": "ipython",
    "version": 3
   },
   "file_extension": ".py",
   "mimetype": "text/x-python",
   "name": "python",
   "nbconvert_exporter": "python",
   "pygments_lexer": "ipython3",
   "version": "3.7.3"
  }
 },
 "nbformat": 4,
 "nbformat_minor": 2
}
