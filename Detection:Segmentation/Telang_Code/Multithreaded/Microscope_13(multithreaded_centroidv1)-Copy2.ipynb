{
 "cells": [
  {
   "cell_type": "code",
   "execution_count": null,
   "metadata": {},
   "outputs": [],
   "source": []
  },
  {
   "cell_type": "code",
   "execution_count": 1,
   "metadata": {},
   "outputs": [
    {
     "name": "stderr",
     "output_type": "stream",
     "text": [
      "/Users/spencerlab/anaconda3/lib/python3.7/site-packages/matplotlib/__init__.py:855: MatplotlibDeprecationWarning: \n",
      "examples.directory is deprecated; in the future, examples will be found relative to the 'datapath' directory.\n",
      "  \"found relative to the 'datapath' directory.\".format(key))\n",
      "/Users/spencerlab/anaconda3/lib/python3.7/site-packages/matplotlib/__init__.py:846: MatplotlibDeprecationWarning: \n",
      "The text.latex.unicode rcparam was deprecated in Matplotlib 2.2 and will be removed in 3.1.\n",
      "  \"2.2\", name=key, obj_type=\"rcparam\", addendum=addendum)\n"
     ]
    }
   ],
   "source": [
    "import numpy as np\n",
    "import matplotlib.pyplot as plt\n",
    "from scipy import ndimage as ndi\n",
    "import pandas as pd\n",
    "\n",
    "\n",
    "from skimage.morphology import watershed\n",
    "from skimage.feature import peak_local_max\n",
    "from PIL import Image\n",
    "\n",
    "from skimage.morphology import skeletonize, thin\n",
    "from skimage.util import invert\n",
    "from skimage import measure\n",
    "from skimage.morphology import erosion, dilation, opening, closing, white_tophat\n",
    "from skimage.morphology import black_tophat, skeletonize, convex_hull_image\n",
    "from skimage.morphology import disk\n",
    "from skimage import feature\n",
    "from skimage.filters import roberts, sobel, scharr, prewitt\n",
    "import seaborn as sns\n",
    "sns.reset_orig()\n",
    "\n",
    "from skimage import restoration\n",
    "\n",
    "from skimage import exposure\n",
    "from skimage.filters import gaussian\n",
    "\n",
    "from scipy import ndimage\n",
    "\n",
    "from time import time\n",
    "\n",
    "from skimage.color import rgb2gray\n",
    "\n",
    "\n",
    "from skimage.filters.rank import entropy\n",
    "import scipy\n",
    "\n",
    "\n",
    "\n",
    "import networkx as nx\n",
    "from scipy import interpolate\n",
    "\n",
    "from skimage.segmentation import random_walker\n",
    "from skimage.data import binary_blobs\n",
    "from skimage.exposure import rescale_intensity\n",
    "import glob\n",
    "\n",
    "from skimage.morphology import disk\n",
    "from skimage import io\n",
    "from skimage.morphology import remove_small_objects\n",
    "\n",
    "import threading\n",
    "\n",
    "import tifffile\n",
    "\n",
    "#Green_cells_3(centeriod)-Copy3"
   ]
  },
  {
   "cell_type": "code",
   "execution_count": 27,
   "metadata": {},
   "outputs": [],
   "source": [
    "bin_stack=io.imread(\"sample2green.tif\")"
   ]
  },
  {
   "cell_type": "code",
   "execution_count": 38,
   "metadata": {},
   "outputs": [],
   "source": [
    "bin_stack = remove_small_objects(bin_stack.astype(bool), min_size=20, connectivity=1).astype('uint8')*255"
   ]
  },
  {
   "cell_type": "code",
   "execution_count": 39,
   "metadata": {},
   "outputs": [],
   "source": [
    "#stacks = 0\n",
    "#while True:\n",
    "#    n = bin_stacks[stacks]\n",
    "#    a = Image.fromarray(n)\n",
    "#    a.save('red3/'+str(stacks)+\".tif\")\n",
    "#    stacks+=1\n",
    "#    print(stacks)\n",
    " #   if stacks>900:\n",
    "#        break"
   ]
  },
  {
   "cell_type": "code",
   "execution_count": 50,
   "metadata": {},
   "outputs": [],
   "source": [
    "lab = measure.label(bin_stack[80:120],8)"
   ]
  },
  {
   "cell_type": "code",
   "execution_count": 51,
   "metadata": {},
   "outputs": [],
   "source": [
    "unk = np.unique(lab)"
   ]
  },
  {
   "cell_type": "code",
   "execution_count": 52,
   "metadata": {},
   "outputs": [
    {
     "name": "stdout",
     "output_type": "stream",
     "text": [
      "119\n"
     ]
    }
   ],
   "source": [
    "print(len(unk))\n",
    "#4"
   ]
  },
  {
   "cell_type": "code",
   "execution_count": 53,
   "metadata": {},
   "outputs": [
    {
     "name": "stdout",
     "output_type": "stream",
     "text": [
      "119\n"
     ]
    }
   ],
   "source": [
    "#bin_stack=io.imread(\"red4.tif\")\n",
    "#lab = measure.label(bin_stack,8)\n",
    "#unk = np.unique(lab)\n",
    "print(len(unk))\n",
    "#58\n",
    "#2"
   ]
  },
  {
   "cell_type": "code",
   "execution_count": 54,
   "metadata": {},
   "outputs": [
    {
     "name": "stdout",
     "output_type": "stream",
     "text": [
      "0   \n",
      "23   \n",
      "46   \n",
      "69   \n",
      "92   \n",
      "47   70   24   \n",
      "\n",
      "\n",
      "93   \n",
      "48   \n",
      "94   71   \n",
      "25   \n",
      "\n",
      "49   \n",
      "26   72   95   \n",
      "\n",
      "\n",
      "50   \n",
      "27   96   \n",
      "73   \n",
      "\n",
      "51   \n",
      "97   28   74   \n",
      "\n",
      "\n",
      "75   1   52   29   \n",
      "\n",
      "\n",
      "\n",
      "98   \n",
      "76   \n",
      "2   53   99   \n",
      "30   \n",
      "\n",
      "\n",
      "77   \n",
      "31   \n",
      "3   \n",
      "54   100   \n",
      "\n",
      "78   101   32   \n",
      "4   \n",
      "\n",
      "55   \n",
      "\n",
      "102   \n",
      "33   5   56   \n",
      "\n",
      "79   \n",
      "\n",
      "57   6   34   \n",
      "103   80   \n",
      "\n",
      "\n",
      "\n",
      "104   \n",
      "7   81   \n",
      "\n",
      "35   58   \n",
      "\n",
      "105   \n",
      "36   \n",
      "8   59   82   \n",
      "\n",
      "\n",
      "106   60   \n",
      "\n",
      "37   83   9   \n",
      "\n",
      "\n",
      "84   10   \n",
      "107   \n",
      "\n",
      "38   61   \n",
      "\n",
      "11   \n",
      "62   39   \n",
      "\n",
      "85   108   \n",
      "\n",
      "12   \n",
      "63   40   \n",
      "\n",
      "109   86   \n",
      "\n",
      "13   \n",
      "41   110   \n",
      "\n",
      "87   \n",
      "64   \n",
      "14   \n",
      "42   88   65   \n",
      "\n",
      "111   \n",
      "\n",
      "15   \n",
      "43   66   89   112   \n",
      "\n",
      "\n",
      "\n",
      "16   \n",
      "113   90   67   44   \n",
      "\n",
      "\n",
      "\n",
      "17   \n",
      "45   91   114   68   \n",
      "\n",
      "\n",
      "\n",
      "18   \n",
      "92   \n",
      "115   69   \n",
      "46   \n",
      "\n",
      "19   \n",
      "116   \n",
      "20   \n",
      "117   \n",
      "21   \n",
      "118   \n",
      "22   \n",
      "23   \n",
      "Done!\n"
     ]
    }
   ],
   "source": [
    "import threading \n",
    "cells_centroid1 = []\n",
    "cells_centroid2 = []\n",
    "cells_centroid3 = []\n",
    "cells_centroid4 = []\n",
    "cells_centroid5 = []\n",
    "\n",
    "def Centroid(num1,num2,unk,lab,array): \n",
    "    #for i in range(num1, len(unk)):\n",
    "    lab = lab\n",
    "    unk=unk\n",
    "    array = array\n",
    "    for i in range(num1, num2):\n",
    "        \n",
    "        print(str(i)+\"   \")\n",
    "        co_ordinates =np.where(lab==unk[i])\n",
    "        z_c = sum(co_ordinates[0])/len(co_ordinates[0])\n",
    "        y_c = sum(co_ordinates[1])/len(co_ordinates[0])\n",
    "        x_c = sum(co_ordinates[2])/len(co_ordinates[0])\n",
    "\n",
    "        centroid = [z_c+1, y_c+1, x_c+1, len(co_ordinates[0])]\n",
    "        array.append(centroid)\n",
    "\n",
    "  \n",
    "if __name__ == \"__main__\": \n",
    "    # creating thread \n",
    "    x = len(unk)\n",
    "    b = x/5\n",
    "    b = int(b)\n",
    "    t1 = threading.Thread(target=Centroid, args=(0,b+1,unk,lab,cells_centroid1,)) \n",
    "    t2 = threading.Thread(target=Centroid, args=(1*b,2*b+1,unk,lab,cells_centroid2,)) \n",
    "    t3 = threading.Thread(target=Centroid, args=(2*b,3*b+1,unk,lab,cells_centroid3,) )\n",
    "    t4 = threading.Thread(target=Centroid, args=(3*b,4*b+1,unk,lab,cells_centroid4,))\n",
    "    t5 = threading.Thread(target=Centroid, args=(4*b,x,unk,lab,cells_centroid5,))\n",
    "    # starting thread 1 \n",
    "    t1.start() \n",
    "    t2.start() \n",
    "    t3.start() \n",
    "    t4.start()\n",
    "    t5.start()\n",
    "\n",
    "    # wait until thread 1 is completely executed \n",
    "    t1.join() \n",
    "    t2.join() \n",
    "    t3.join() \n",
    "    t4.join() \n",
    "    t5.join() \n",
    "    # both threads completely executed \n",
    "    print(\"Done!\") \n",
    "    \n",
    "    \n",
    "    \n",
    "    "
   ]
  },
  {
   "cell_type": "code",
   "execution_count": 55,
   "metadata": {},
   "outputs": [
    {
     "data": {
      "text/plain": [
       "[[20.50000011294954, 1717.5013226641154, 2691.502901601264, 739268185],\n",
       " [1.0, 1089.2941176470588, 1583.3529411764705, 17],\n",
       " [1.6521739130434783, 1201.391304347826, 1621.304347826087, 23],\n",
       " [1.5714285714285714, 1384.142857142857, 1929.7142857142858, 21],\n",
       " [1.4583333333333333, 1402.5, 2057.8333333333335, 24],\n",
       " [1.45, 1427.95, 1997.0, 20],\n",
       " [1.4, 1659.8, 2152.6, 20],\n",
       " [2.5420560747663554, 1828.0, 2519.5981308411215, 107],\n",
       " [2.4761904761904763, 1506.857142857143, 2126.5238095238096, 21],\n",
       " [3.5384615384615383, 1163.576923076923, 1532.3461538461538, 26],\n",
       " [4.0, 1404.48, 2077.48, 25],\n",
       " [4.4, 1102.84, 1569.76, 25],\n",
       " [6.428571428571429, 1419.7619047619048, 2097.6825396825398, 63],\n",
       " [4.5, 1570.1153846153845, 2128.3076923076924, 26],\n",
       " [4.27027027027027, 1585.1891891891892, 1971.162162162162, 37],\n",
       " [5.5, 1195.95, 1504.75, 20],\n",
       " [5.6, 1221.35, 2627.75, 20],\n",
       " [5.6, 1872.2, 2517.85, 20],\n",
       " [6.25, 1107.625, 1573.21875, 32],\n",
       " [6.363636363636363, 1317.7272727272727, 2501.1363636363635, 22],\n",
       " [6.0, 1564.85, 1821.85, 20],\n",
       " [8.0, 1124.4137931034484, 1501.1379310344828, 29],\n",
       " [7.55, 1631.1, 2016.8, 20],\n",
       " [8.428571428571429, 1091.904761904762, 1548.142857142857, 21]]"
      ]
     },
     "execution_count": 55,
     "metadata": {},
     "output_type": "execute_result"
    }
   ],
   "source": [
    "cells_centroid1"
   ]
  },
  {
   "cell_type": "code",
   "execution_count": 56,
   "metadata": {},
   "outputs": [],
   "source": [
    "cells_centroid = cells_centroid1 + cells_centroid2 + cells_centroid3 + cells_centroid4 + cells_centroid5"
   ]
  },
  {
   "cell_type": "code",
   "execution_count": 57,
   "metadata": {},
   "outputs": [],
   "source": [
    "ctrd = np.asarray(cells_centroid)"
   ]
  },
  {
   "cell_type": "code",
   "execution_count": 58,
   "metadata": {},
   "outputs": [],
   "source": [
    "ctrd = np.round(ctrd)"
   ]
  },
  {
   "cell_type": "code",
   "execution_count": 59,
   "metadata": {},
   "outputs": [],
   "source": [
    "df = pd.DataFrame(ctrd, columns= ['Z', 'Y', 'X', 'size'])"
   ]
  },
  {
   "cell_type": "code",
   "execution_count": 60,
   "metadata": {},
   "outputs": [],
   "source": [
    "df.to_csv('asample2greencells150.csv')"
   ]
  },
  {
   "cell_type": "code",
   "execution_count": 61,
   "metadata": {},
   "outputs": [
    {
     "data": {
      "text/plain": [
       "123"
      ]
     },
     "execution_count": 61,
     "metadata": {},
     "output_type": "execute_result"
    }
   ],
   "source": [
    "len(cells_centroid)"
   ]
  },
  {
   "cell_type": "code",
   "execution_count": null,
   "metadata": {},
   "outputs": [],
   "source": []
  }
 ],
 "metadata": {
  "kernelspec": {
   "display_name": "Python 3",
   "language": "python",
   "name": "python3"
  },
  "language_info": {
   "codemirror_mode": {
    "name": "ipython",
    "version": 3
   },
   "file_extension": ".py",
   "mimetype": "text/x-python",
   "name": "python",
   "nbconvert_exporter": "python",
   "pygments_lexer": "ipython3",
   "version": "3.7.3"
  }
 },
 "nbformat": 4,
 "nbformat_minor": 2
}
