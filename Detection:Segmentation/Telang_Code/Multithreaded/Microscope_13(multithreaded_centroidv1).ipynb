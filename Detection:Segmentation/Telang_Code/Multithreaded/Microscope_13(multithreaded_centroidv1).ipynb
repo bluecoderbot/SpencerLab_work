{
 "cells": [
  {
   "cell_type": "code",
   "execution_count": null,
   "metadata": {},
   "outputs": [],
   "source": []
  },
  {
   "cell_type": "code",
   "execution_count": 3,
   "metadata": {},
   "outputs": [
    {
     "name": "stderr",
     "output_type": "stream",
     "text": [
      "/Users/spencerlab/anaconda3/lib/python3.7/site-packages/matplotlib/__init__.py:855: MatplotlibDeprecationWarning: \n",
      "examples.directory is deprecated; in the future, examples will be found relative to the 'datapath' directory.\n",
      "  \"found relative to the 'datapath' directory.\".format(key))\n",
      "/Users/spencerlab/anaconda3/lib/python3.7/site-packages/matplotlib/__init__.py:846: MatplotlibDeprecationWarning: \n",
      "The text.latex.unicode rcparam was deprecated in Matplotlib 2.2 and will be removed in 3.1.\n",
      "  \"2.2\", name=key, obj_type=\"rcparam\", addendum=addendum)\n"
     ]
    }
   ],
   "source": [
    "import numpy as np\n",
    "import matplotlib.pyplot as plt\n",
    "from scipy import ndimage as ndi\n",
    "import pandas as pd\n",
    "\n",
    "\n",
    "from skimage.morphology import watershed\n",
    "from skimage.feature import peak_local_max\n",
    "from PIL import Image\n",
    "\n",
    "from skimage.morphology import skeletonize, thin\n",
    "from skimage.util import invert\n",
    "from skimage import measure\n",
    "from skimage.morphology import erosion, dilation, opening, closing, white_tophat\n",
    "from skimage.morphology import black_tophat, skeletonize, convex_hull_image\n",
    "from skimage.morphology import disk\n",
    "from skimage import feature\n",
    "from skimage.filters import roberts, sobel, scharr, prewitt\n",
    "import seaborn as sns\n",
    "sns.reset_orig()\n",
    "\n",
    "from skimage import restoration\n",
    "\n",
    "from skimage import exposure\n",
    "from skimage.filters import gaussian\n",
    "\n",
    "from scipy import ndimage\n",
    "\n",
    "from time import time\n",
    "\n",
    "from skimage.color import rgb2gray\n",
    "\n",
    "\n",
    "from skimage.filters.rank import entropy\n",
    "import scipy\n",
    "\n",
    "\n",
    "\n",
    "import networkx as nx\n",
    "from scipy import interpolate\n",
    "\n",
    "from skimage.segmentation import random_walker\n",
    "from skimage.data import binary_blobs\n",
    "from skimage.exposure import rescale_intensity\n",
    "import glob\n",
    "\n",
    "from skimage.morphology import disk\n",
    "from skimage import io\n",
    "from skimage.morphology import remove_small_objects\n",
    "\n",
    "import threading\n",
    "\n",
    "import tifffile\n",
    "\n",
    "#Green_cells_3(centeriod)-Copy3"
   ]
  },
  {
   "cell_type": "code",
   "execution_count": 4,
   "metadata": {},
   "outputs": [],
   "source": [
    "lab =io.imread(\"labeled_green_cells.tif\")\n",
    "#x = io.imread(\"green.tif\")"
   ]
  },
  {
   "cell_type": "code",
   "execution_count": 19,
   "metadata": {},
   "outputs": [],
   "source": [
    "#bin_stacks = remove_small_objects(bin_stack.astype(bool), min_size=23, connectivity=1).astype('uint8')*255"
   ]
  },
  {
   "cell_type": "code",
   "execution_count": null,
   "metadata": {},
   "outputs": [],
   "source": [
    "unk = np.unique(lab)"
   ]
  },
  {
   "cell_type": "code",
   "execution_count": 6,
   "metadata": {},
   "outputs": [
    {
     "data": {
      "text/plain": [
       "579"
      ]
     },
     "execution_count": 6,
     "metadata": {},
     "output_type": "execute_result"
    }
   ],
   "source": [
    "len(unk)"
   ]
  },
  {
   "cell_type": "code",
   "execution_count": null,
   "metadata": {},
   "outputs": [],
   "source": []
  },
  {
   "cell_type": "code",
   "execution_count": 24,
   "metadata": {},
   "outputs": [],
   "source": [
    "aret = np.ones(lab.shape, dtype='uint32')"
   ]
  },
  {
   "cell_type": "code",
   "execution_count": 25,
   "metadata": {},
   "outputs": [],
   "source": [
    "aret2 = []"
   ]
  },
  {
   "cell_type": "code",
   "execution_count": 26,
   "metadata": {},
   "outputs": [],
   "source": [
    "aret2.append(aret)"
   ]
  },
  {
   "cell_type": "code",
   "execution_count": 27,
   "metadata": {},
   "outputs": [],
   "source": [
    "def cat(arr):\n",
    "    arr[0] = arr[0]*2"
   ]
  },
  {
   "cell_type": "code",
   "execution_count": 28,
   "metadata": {},
   "outputs": [],
   "source": [
    "cat(aret2)"
   ]
  },
  {
   "cell_type": "code",
   "execution_count": 30,
   "metadata": {},
   "outputs": [
    {
     "data": {
      "text/plain": [
       "array([[[2, 2, 2, ..., 2, 2, 2],\n",
       "        [2, 2, 2, ..., 2, 2, 2],\n",
       "        [2, 2, 2, ..., 2, 2, 2],\n",
       "        ...,\n",
       "        [2, 2, 2, ..., 2, 2, 2],\n",
       "        [2, 2, 2, ..., 2, 2, 2],\n",
       "        [2, 2, 2, ..., 2, 2, 2]],\n",
       "\n",
       "       [[2, 2, 2, ..., 2, 2, 2],\n",
       "        [2, 2, 2, ..., 2, 2, 2],\n",
       "        [2, 2, 2, ..., 2, 2, 2],\n",
       "        ...,\n",
       "        [2, 2, 2, ..., 2, 2, 2],\n",
       "        [2, 2, 2, ..., 2, 2, 2],\n",
       "        [2, 2, 2, ..., 2, 2, 2]],\n",
       "\n",
       "       [[2, 2, 2, ..., 2, 2, 2],\n",
       "        [2, 2, 2, ..., 2, 2, 2],\n",
       "        [2, 2, 2, ..., 2, 2, 2],\n",
       "        ...,\n",
       "        [2, 2, 2, ..., 2, 2, 2],\n",
       "        [2, 2, 2, ..., 2, 2, 2],\n",
       "        [2, 2, 2, ..., 2, 2, 2]],\n",
       "\n",
       "       ...,\n",
       "\n",
       "       [[2, 2, 2, ..., 2, 2, 2],\n",
       "        [2, 2, 2, ..., 2, 2, 2],\n",
       "        [2, 2, 2, ..., 2, 2, 2],\n",
       "        ...,\n",
       "        [2, 2, 2, ..., 2, 2, 2],\n",
       "        [2, 2, 2, ..., 2, 2, 2],\n",
       "        [2, 2, 2, ..., 2, 2, 2]],\n",
       "\n",
       "       [[2, 2, 2, ..., 2, 2, 2],\n",
       "        [2, 2, 2, ..., 2, 2, 2],\n",
       "        [2, 2, 2, ..., 2, 2, 2],\n",
       "        ...,\n",
       "        [2, 2, 2, ..., 2, 2, 2],\n",
       "        [2, 2, 2, ..., 2, 2, 2],\n",
       "        [2, 2, 2, ..., 2, 2, 2]],\n",
       "\n",
       "       [[2, 2, 2, ..., 2, 2, 2],\n",
       "        [2, 2, 2, ..., 2, 2, 2],\n",
       "        [2, 2, 2, ..., 2, 2, 2],\n",
       "        ...,\n",
       "        [2, 2, 2, ..., 2, 2, 2],\n",
       "        [2, 2, 2, ..., 2, 2, 2],\n",
       "        [2, 2, 2, ..., 2, 2, 2]]], dtype=uint32)"
      ]
     },
     "execution_count": 30,
     "metadata": {},
     "output_type": "execute_result"
    }
   ],
   "source": [
    "aret2[0]"
   ]
  },
  {
   "cell_type": "code",
   "execution_count": null,
   "metadata": {},
   "outputs": [],
   "source": []
  },
  {
   "cell_type": "code",
   "execution_count": null,
   "metadata": {},
   "outputs": [],
   "source": []
  },
  {
   "cell_type": "code",
   "execution_count": 7,
   "metadata": {},
   "outputs": [
    {
     "name": "stdout",
     "output_type": "stream",
     "text": [
      "115\n",
      "115   230   \n",
      "\n",
      "345   460   \n",
      "\n",
      "5   \n",
      "235   \n",
      "350   465   \n",
      "\n",
      "120   \n",
      "10   \n",
      "240   \n",
      "470   \n",
      "355   125   \n",
      "\n",
      "15   \n",
      "245   \n",
      "475   \n",
      "130   360   \n",
      "\n",
      "20   \n",
      "250   \n",
      "480   \n",
      "135   \n",
      "365   \n",
      "25   \n",
      "255   485   \n",
      "\n",
      "140   \n",
      "370   \n",
      "30   \n",
      "490   260   \n",
      "\n",
      "145   \n",
      "375   \n",
      "35   \n",
      "495   150   \n",
      "265   \n",
      "\n",
      "380   \n",
      "40   \n",
      "500   \n",
      "270   155   \n",
      "\n",
      "385   \n",
      "45   \n",
      "505   \n",
      "160   275   \n",
      "\n",
      "390   \n",
      "50   \n",
      "510   \n",
      "280   165   \n",
      "\n",
      "395   \n",
      "55   \n",
      "515   \n",
      "285   \n",
      "170   \n",
      "400   \n",
      "60   \n",
      "520   \n",
      "290   \n",
      "175   \n",
      "405   \n",
      "65   \n",
      "525   \n",
      "295   \n",
      "180   \n",
      "410   \n",
      "70   \n",
      "530   \n",
      "300   \n",
      "185   \n",
      "415   \n",
      "75   \n",
      "535   \n",
      "305   \n",
      "190   \n",
      "420   \n",
      "80   \n",
      "540   \n",
      "310   \n",
      "195   \n",
      "425   \n",
      "85   \n",
      "545   \n",
      "315   \n",
      "200   \n",
      "430   \n",
      "90   \n",
      "550   \n",
      "320   \n",
      "205   \n",
      "435   \n",
      "95   \n",
      "555   \n",
      "325   \n",
      "210   \n",
      "440   \n",
      "100   \n",
      "560   \n",
      "330   \n",
      "215   \n",
      "445   \n",
      "105   \n",
      "335   565   \n",
      "\n",
      "220   \n",
      "450   \n",
      "110   \n",
      "340   \n",
      "570   \n",
      "225   \n",
      "455   \n",
      "575   \n",
      "Done!\n"
     ]
    }
   ],
   "source": [
    "import threading \n",
    "cells_centroid1 = []\n",
    "cells_centroid2 = []\n",
    "cells_centroid3 = []\n",
    "cells_centroid4 = []\n",
    "cells_centroid5 = []\n",
    "\n",
    "def Centroid(num1,num2,unk,lab,array): \n",
    "    #for i in range(num1, len(unk)):\n",
    "    lab = lab\n",
    "    unk=unk\n",
    "    array = array\n",
    "    for i in range(num1, num2):\n",
    "        if i %5 ==0:\n",
    "            print(str(i)+\"   \")\n",
    "        co_ordinates =np.where(lab==unk[i])\n",
    "        z_c = sum(co_ordinates[0])/len(co_ordinates[0])\n",
    "        y_c = sum(co_ordinates[1])/len(co_ordinates[0])\n",
    "        x_c = sum(co_ordinates[2])/len(co_ordinates[0])\n",
    "\n",
    "        centroid = [z_c+1, y_c+1, x_c+1, len(co_ordinates[0]), unk[i]]\n",
    "        array.append(centroid)\n",
    "\n",
    "  \n",
    "if __name__ == \"__main__\": \n",
    "    # creating thread \n",
    "    x = len(unk)\n",
    "    b = x/5\n",
    "    b = int(b)\n",
    "    t1 = threading.Thread(target=Centroid, args=(1,b,unk,lab,cells_centroid1,)) \n",
    "    t2 = threading.Thread(target=Centroid, args=(1*b,2*b,unk,lab,cells_centroid2,)) \n",
    "    t3 = threading.Thread(target=Centroid, args=(2*b,3*b,unk,lab,cells_centroid3,) )\n",
    "    t4 = threading.Thread(target=Centroid, args=(3*b,4*b,unk,lab,cells_centroid4,))\n",
    "    t5 = threading.Thread(target=Centroid, args=(4*b,x,unk,lab,cells_centroid5,))\n",
    "    # starting thread 1 \n",
    "    t1.start() \n",
    "    t2.start() \n",
    "    t3.start() \n",
    "    t4.start()\n",
    "    t5.start()\n",
    "\n",
    "    # wait until thread 1 is completely executed \n",
    "    t1.join() \n",
    "    t2.join() \n",
    "    t3.join() \n",
    "    t4.join() \n",
    "    t5.join() \n",
    "    # both threads completely executed \n",
    "    print(\"Done!\") \n",
    "    \n",
    "    \n",
    "    \n",
    "    "
   ]
  },
  {
   "cell_type": "code",
   "execution_count": 8,
   "metadata": {
    "scrolled": false
   },
   "outputs": [
    {
     "data": {
      "text/plain": [
       "[[1.625, 1420.0125, 1837.1125, 80, 1],\n",
       " [2.7142857142857144, 1414.8351648351647, 1849.9120879120878, 91, 2],\n",
       " [3.735632183908046, 1499.4942528735633, 1844.712643678161, 87, 3],\n",
       " [2.2592592592592595, 1522.148148148148, 1868.148148148148, 27, 4],\n",
       " [4.333333333333334, 1512.6296296296296, 1849.7407407407406, 27, 5],\n",
       " [5.391304347826087, 1437.695652173913, 1669.3478260869565, 23, 6],\n",
       " [5.333333333333333, 1458.3666666666666, 1837.2, 30, 7],\n",
       " [5.979591836734694, 1510.0748299319728, 1742.1972789115646, 147, 8],\n",
       " [6.62962962962963, 1431.037037037037, 1839.4074074074074, 27, 9],\n",
       " [6.8, 1470.7142857142858, 1854.4, 35, 10],\n",
       " [6.0, 1511.1666666666667, 1809.25, 24, 11],\n",
       " [8.064516129032258, 1485.3225806451612, 1842.1612903225807, 31, 12],\n",
       " [7.5, 1535.1666666666667, 1793.9166666666667, 24, 13],\n",
       " [7.708333333333333, 1689.3333333333333, 1790.1666666666667, 24, 14],\n",
       " [8.130434782608695, 1274.7391304347825, 1853.8478260869565, 46, 15],\n",
       " [8.720930232558139, 1403.0697674418604, 1859.3720930232557, 43, 16],\n",
       " [8.516129032258064, 1431.8387096774193, 1862.8709677419354, 31, 17],\n",
       " [8.4, 1457.52, 1829.2, 25, 18],\n",
       " [8.689655172413794, 1471.9310344827586, 1825.5862068965516, 29, 19],\n",
       " [8.790697674418604, 1516.8372093023256, 1799.3953488372092, 43, 20],\n",
       " [8.482758620689655, 1520.3103448275863, 1882.448275862069, 29, 21],\n",
       " [10.588235294117647, 1490.078431372549, 2038.3431372549019, 102, 22],\n",
       " [11.449197860962567, 1489.8663101604277, 1599.5561497326203, 187, 23],\n",
       " [10.403508771929825, 1515.3859649122808, 1578.3684210526317, 57, 24],\n",
       " [10.603174603174603, 1309.7777777777778, 1942.3015873015872, 63, 25],\n",
       " [10.846153846153847, 1485.051282051282, 1851.179487179487, 39, 26],\n",
       " [10.871621621621621, 1511.0675675675675, 2013.7027027027027, 148, 27],\n",
       " [10.0, 1550.7391304347825, 1846.7826086956522, 23, 28],\n",
       " [10.583333333333334, 1619.8333333333333, 1881.2083333333333, 24, 29],\n",
       " [11.92, 1279.08, 1810.58, 50, 30],\n",
       " [11.592592592592593, 1364.111111111111, 1865.888888888889, 27, 31],\n",
       " [12.575757575757576, 1398.1818181818182, 1739.2424242424242, 33, 32],\n",
       " [12.0, 1204.6363636363637, 2151.4545454545455, 11, 33],\n",
       " [12.54, 1369.62, 2078.06, 50, 34],\n",
       " [13.085714285714285, 1408.4, 1841.4285714285713, 35, 35],\n",
       " [12.441176470588236, 1429.0588235294117, 2008.4264705882354, 68, 36],\n",
       " [12.76, 1433.1066666666666, 1644.0, 75, 37],\n",
       " [12.538461538461538, 1464.5897435897436, 1843.3076923076924, 39, 38],\n",
       " [12.625, 1600.1666666666667, 1498.0833333333333, 24, 39],\n",
       " [12.454545454545455, 1620.4545454545455, 1574.909090909091, 33, 40],\n",
       " [13.11111111111111, 1657.375, 2086.4166666666665, 72, 41],\n",
       " [13.404761904761905, 1667.2619047619048, 1513.595238095238, 42, 42],\n",
       " [13.903614457831326, 1111.2409638554218, 1732.7469879518073, 83, 43],\n",
       " [13.829268292682928, 1265.3170731707316, 2084.8048780487807, 41, 44],\n",
       " [13.366666666666667, 1321.6, 1907.8333333333333, 30, 45],\n",
       " [13.962962962962964, 1446.5925925925926, 1838.6296296296296, 27, 46],\n",
       " [13.647058823529411, 1485.3529411764705, 1845.1764705882354, 34, 47],\n",
       " [14.068965517241379, 1503.0, 1588.2068965517242, 29, 48],\n",
       " [13.391304347826088, 1544.5217391304348, 1612.2173913043478, 23, 49],\n",
       " [13.0, 1565.4444444444443, 1536.111111111111, 27, 50],\n",
       " [14.296296296296296, 1375.2222222222222, 1725.1851851851852, 27, 51],\n",
       " [14.806451612903226, 1424.483870967742, 1837.032258064516, 31, 52],\n",
       " [14.833333333333334, 1455.5, 1838.125, 24, 53],\n",
       " [14.472222222222221, 1474.611111111111, 1608.3055555555557, 36, 54],\n",
       " [14.73913043478261, 1493.8695652173913, 1604.2173913043478, 23, 55],\n",
       " [14.833333333333334, 1587.6, 1538.7666666666667, 30, 56],\n",
       " [14.764705882352942, 1600.0294117647059, 1471.8235294117646, 34, 57],\n",
       " [14.403846153846153, 1613.25, 2013.576923076923, 52, 58],\n",
       " [14.652173913043478, 1648.391304347826, 1541.1304347826087, 23, 59],\n",
       " [15.528571428571428, 1191.2714285714285, 1673.2571428571428, 70, 60],\n",
       " [15.32, 1286.9, 1779.44, 50, 61],\n",
       " [15.833333333333334, 1367.375, 1922.625, 24, 62],\n",
       " [16.285714285714285, 1390.107142857143, 1839.3214285714287, 28, 63],\n",
       " [15.592592592592593, 1414.962962962963, 1858.4814814814815, 27, 64],\n",
       " [15.961538461538462, 1421.7307692307693, 1652.2307692307693, 26, 65],\n",
       " [16.115702479338843, 1448.1322314049587, 2081.3553719008264, 121, 66],\n",
       " [16.074074074074076, 1452.1975308641975, 2140.3086419753085, 81, 67],\n",
       " [16.021897810218977, 1483.2335766423357, 2000.058394160584, 137, 68],\n",
       " [16.631147540983605, 1527.5081967213114, 1573.8196721311476, 122, 69],\n",
       " [17.05, 1546.0642857142857, 1560.1571428571428, 140, 70],\n",
       " [15.52, 1584.0, 1851.04, 25, 71],\n",
       " [15.596491228070175, 1622.140350877193, 1545.1754385964912, 57, 72],\n",
       " [15.428571428571429, 1655.0285714285715, 1615.7714285714285, 35, 73],\n",
       " [15.736842105263158, 1674.657894736842, 1553.921052631579, 38, 74],\n",
       " [17.066666666666666, 1242.4777777777779, 1892.3777777777777, 180, 75],\n",
       " [16.431372549019606, 1420.7058823529412, 1774.6470588235295, 51, 76],\n",
       " [16.375, 1422.6666666666667, 1864.6666666666667, 24, 77],\n",
       " [16.724137931034484, 1640.4827586206898, 1543.655172413793, 29, 78],\n",
       " [17.517857142857142, 1281.7142857142858, 2161.25, 56, 79],\n",
       " [17.5, 1404.1923076923076, 1839.0, 26, 80],\n",
       " [17.4, 1558.3333333333333, 1504.0, 30, 81],\n",
       " [17.563106796116504, 1610.2524271844661, 1862.4174757281553, 103, 82],\n",
       " [17.666666666666668, 1631.1818181818182, 1554.939393939394, 33, 83],\n",
       " [17.651515151515152, 1640.2575757575758, 1567.560606060606, 66, 84],\n",
       " [17.96, 1651.36, 1570.36, 25, 85],\n",
       " [17.714285714285715, 1662.642857142857, 1497.952380952381, 42, 86],\n",
       " [17.75, 1671.857142857143, 1499.75, 28, 87],\n",
       " [18.698630136986303, 1133.9041095890411, 1783.4931506849316, 73, 88],\n",
       " [18.441860465116278, 1199.9767441860465, 1730.2558139534883, 43, 89],\n",
       " [18.541666666666668, 1291.625, 1950.6666666666667, 24, 90],\n",
       " [18.307692307692307, 1427.6538461538462, 1366.3076923076924, 26, 91],\n",
       " [19.0, 1447.5384615384614, 1654.0, 26, 92],\n",
       " [21.027190332326285, 1467.0332326283988, 1903.0996978851963, 331, 93],\n",
       " [18.22222222222222, 1468.4722222222222, 1566.638888888889, 36, 94],\n",
       " [18.72, 1482.64, 1890.72, 25, 95],\n",
       " [19.296296296296298, 1681.0, 1559.5925925925926, 27, 96],\n",
       " [19.0, 1701.375, 1384.8125, 32, 97],\n",
       " [19.0, 1182.28, 1772.76, 25, 98],\n",
       " [19.333333333333332, 1447.3333333333333, 1693.962962962963, 27, 99],\n",
       " [19.375, 1676.25, 1925.59375, 32, 100],\n",
       " [20.041666666666668, 1677.1666666666667, 1487.5833333333333, 24, 101],\n",
       " [20.344827586206897, 1210.344827586207, 1768.2758620689656, 29, 102],\n",
       " [21.533333333333335, 1349.4333333333334, 1895.0333333333333, 30, 103],\n",
       " [21.28, 1352.28, 1635.12, 25, 104],\n",
       " [21.97983870967742, 1380.991935483871, 1915.2056451612902, 248, 105],\n",
       " [20.0, 1388.344827586207, 1848.7931034482758, 29, 106],\n",
       " [21.715384615384615, 1396.4576923076922, 1934.3538461538462, 260, 107],\n",
       " [20.511627906976745, 1419.5581395348838, 1871.9302325581396, 43, 108],\n",
       " [21.303030303030305, 1476.090909090909, 1634.3636363636363, 33, 109],\n",
       " [21.2, 1110.3333333333333, 1797.0, 30, 110],\n",
       " [21.897959183673468, 1131.8469387755101, 1708.0408163265306, 98, 111],\n",
       " [23.433333333333334, 1149.638888888889, 1821.8333333333333, 180, 112],\n",
       " [21.649350649350648, 1249.6883116883116, 1982.7402597402597, 77, 113],\n",
       " [21.5625, 1341.46875, 1788.0625, 32, 114]]"
      ]
     },
     "execution_count": 8,
     "metadata": {},
     "output_type": "execute_result"
    }
   ],
   "source": [
    "cells_centroid1"
   ]
  },
  {
   "cell_type": "code",
   "execution_count": 9,
   "metadata": {},
   "outputs": [],
   "source": [
    "cells_centroid = cells_centroid1 + cells_centroid2 + cells_centroid3 + cells_centroid4 + cells_centroid5"
   ]
  },
  {
   "cell_type": "code",
   "execution_count": 10,
   "metadata": {},
   "outputs": [],
   "source": [
    "ctrd = np.asarray(cells_centroid)"
   ]
  },
  {
   "cell_type": "code",
   "execution_count": 11,
   "metadata": {},
   "outputs": [],
   "source": [
    "ctrd = np.round(ctrd)"
   ]
  },
  {
   "cell_type": "code",
   "execution_count": 14,
   "metadata": {},
   "outputs": [],
   "source": [
    "df = pd.DataFrame(ctrd, columns= ['Z', 'Y', 'X', 'size','cellmeasure_id'])"
   ]
  },
  {
   "cell_type": "code",
   "execution_count": null,
   "metadata": {},
   "outputs": [],
   "source": [
    "df = pd.DataFrame(ctrd, columns= ['Z', 'Y', 'X'])"
   ]
  },
  {
   "cell_type": "code",
   "execution_count": 15,
   "metadata": {},
   "outputs": [],
   "source": [
    "df.to_csv('newgreen.csv')"
   ]
  },
  {
   "cell_type": "code",
   "execution_count": 16,
   "metadata": {},
   "outputs": [
    {
     "data": {
      "text/plain": [
       "578"
      ]
     },
     "execution_count": 16,
     "metadata": {},
     "output_type": "execute_result"
    }
   ],
   "source": [
    "len(cells_centroid)"
   ]
  },
  {
   "cell_type": "code",
   "execution_count": null,
   "metadata": {},
   "outputs": [],
   "source": []
  }
 ],
 "metadata": {
  "kernelspec": {
   "display_name": "Python 3",
   "language": "python",
   "name": "python3"
  },
  "language_info": {
   "codemirror_mode": {
    "name": "ipython",
    "version": 3
   },
   "file_extension": ".py",
   "mimetype": "text/x-python",
   "name": "python",
   "nbconvert_exporter": "python",
   "pygments_lexer": "ipython3",
   "version": "3.7.3"
  }
 },
 "nbformat": 4,
 "nbformat_minor": 2
}
